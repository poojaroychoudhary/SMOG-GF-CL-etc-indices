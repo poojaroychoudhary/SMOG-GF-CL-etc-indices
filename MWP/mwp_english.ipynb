{
  "cells": [
    {
      "cell_type": "markdown",
      "metadata": {
        "id": "u9fMTEyg6UYb"
      },
      "source": [
        "**Complex words = Words having more than 6 characters**"
      ]
    },
    {
      "cell_type": "code",
      "execution_count": 1,
      "metadata": {
        "colab": {
          "base_uri": "https://localhost:8080/"
        },
        "id": "pF8unJmJuDt2",
        "outputId": "5e0ec456-497f-4aef-ce71-d973982e6282"
      },
      "outputs": [
        {
          "output_type": "stream",
          "name": "stdout",
          "text": [
            "Drive already mounted at /content/gdrive; to attempt to forcibly remount, call drive.mount(\"/content/gdrive\", force_remount=True).\n"
          ]
        }
      ],
      "source": [
        "from google.colab import drive\n",
        "\n",
        "drive.mount(\"/content/gdrive\") "
      ]
    },
    {
      "cell_type": "code",
      "execution_count": 2,
      "metadata": {
        "id": "lBW4uBQDAlPX"
      },
      "outputs": [],
      "source": [
        "import warnings \n",
        "warnings.filterwarnings(\"ignore\") "
      ]
    },
    {
      "cell_type": "code",
      "execution_count": 3,
      "metadata": {
        "id": "csxeWmwMAZvT"
      },
      "outputs": [],
      "source": [
        "import os\n",
        "import numpy as np\n",
        "import pandas as pd\n",
        "from sklearn import preprocessing\n",
        "from sklearn.impute import SimpleImputer\n",
        "from sklearn.compose import ColumnTransformer\n",
        "from sklearn.model_selection import train_test_split\n",
        "from sklearn.pipeline import Pipeline\n",
        "from sklearn.model_selection import GridSearchCV, cross_val_score, StratifiedKFold\n",
        "from sklearn.tree import DecisionTreeClassifier\n",
        "from sklearn.ensemble import RandomForestClassifier\n",
        "from sklearn.svm import SVC\n",
        "from sklearn.linear_model import LogisticRegression\n",
        "from sklearn.ensemble import GradientBoostingClassifier\n",
        "from sklearn.ensemble import AdaBoostClassifier\n",
        "from sklearn.metrics import confusion_matrix\n",
        "from sklearn.metrics import classification_report\n",
        "import matplotlib.pyplot as plt\n",
        "import seaborn as sns\n",
        "from sklearn.metrics import accuracy_score, recall_score, precision_score, f1_score, classification_report\n",
        "from sklearn.preprocessing import StandardScaler, OneHotEncoder, LabelEncoder\n",
        "from sklearn.neighbors import KNeighborsClassifier"
      ]
    },
    {
      "cell_type": "code",
      "execution_count": 4,
      "metadata": {
        "colab": {
          "base_uri": "https://localhost:8080/"
        },
        "id": "xMGVrOEov3xa",
        "outputId": "3bfdac75-58a1-47f3-dbec-8dcc2edaa6fa"
      },
      "outputs": [
        {
          "output_type": "stream",
          "name": "stderr",
          "text": [
            "[nltk_data] Downloading package stopwords to /root/nltk_data...\n",
            "[nltk_data]   Package stopwords is already up-to-date!\n",
            "[nltk_data] Downloading package punkt to /root/nltk_data...\n",
            "[nltk_data]   Package punkt is already up-to-date!\n"
          ]
        }
      ],
      "source": [
        "import pandas as pd\n",
        "import numpy as np\n",
        "import gensim\n",
        "import nltk\n",
        "nltk.download('stopwords')\n",
        "nltk.download('punkt')\n",
        "import re \n",
        "from bs4 import BeautifulSoup\n",
        "import csv\n",
        "from nltk.tokenize import sent_tokenize"
      ]
    },
    {
      "cell_type": "code",
      "execution_count": 5,
      "metadata": {
        "id": "8aTQlAvWwMzO"
      },
      "outputs": [],
      "source": [
        "df = pd.read_csv(\"/content/gdrive/MyDrive/newpro/MWP_indices_lastexperiment/data.csv\")"
      ]
    },
    {
      "cell_type": "code",
      "execution_count": 6,
      "metadata": {
        "colab": {
          "base_uri": "https://localhost:8080/",
          "height": 206
        },
        "id": "08HZRFckwmKM",
        "outputId": "3f36d32a-510c-41ef-8745-f595b98ff946"
      },
      "outputs": [
        {
          "output_type": "execute_result",
          "data": {
            "text/plain": [
              "                                            Problem    Level      Type  \\\n",
              "0  There are constants    alpha  and    beta  suc...  Level 5  Algebra   \n",
              "1  The length of the segment between the points  ...  Level 5  Algebra   \n",
              "2  Chewbacca has 20 pieces of cherry gum and 30 p...  Level 5  Algebra   \n",
              "3  For some constants  a  and  b,  let   [f(x) = ...  Level 5  Algebra   \n",
              "4  Calculate the sum  1 + 3 + 5 +   cdots + 15 + ...  Level 2  Algebra   \n",
              "\n",
              "                                            Solution  \\\n",
              "0  The numerator  x^2 - 80x + 1551  factors as  (...   \n",
              "1  By the distance formula, the distance from  (2...   \n",
              "2  If Chewbacca loses one pack of cherry gum, the...   \n",
              "3  Setting  x = 3,  we get  f(3) = -1.  Since  -1...   \n",
              "4  The arithmetic sequence 1, 3, 5,    dots , 17,...   \n",
              "\n",
              "                               Extracted words(List)  \\\n",
              "0  ['There', 'are', 'constants', 'alpha', 'and', ...   \n",
              "1  ['The', 'length', 'of', 'the', 'segment', 'bet...   \n",
              "2  ['Chewbacca', 'has', 'pieces', 'of', 'cherry',...   \n",
              "3  ['For', 'some', 'constants', 'a', 'and', 'b', ...   \n",
              "4               ['Calculate', 'the', 'sum', 'cdots']   \n",
              "\n",
              "                      Extracted Num(List)  \n",
              "0  ['2', '80', '1551', '2', '57', '2970']  \n",
              "1         ['2', '4', '4', '1', '2', '10']  \n",
              "2                       ['20', '30', '5']  \n",
              "3                    ['2', '8', '3', '2']  \n",
              "4             ['1', '3', '5', '15', '17']  "
            ],
            "text/html": [
              "\n",
              "  <div id=\"df-b02ae28d-e4bb-4617-8b13-d385e65c1fdd\">\n",
              "    <div class=\"colab-df-container\">\n",
              "      <div>\n",
              "<style scoped>\n",
              "    .dataframe tbody tr th:only-of-type {\n",
              "        vertical-align: middle;\n",
              "    }\n",
              "\n",
              "    .dataframe tbody tr th {\n",
              "        vertical-align: top;\n",
              "    }\n",
              "\n",
              "    .dataframe thead th {\n",
              "        text-align: right;\n",
              "    }\n",
              "</style>\n",
              "<table border=\"1\" class=\"dataframe\">\n",
              "  <thead>\n",
              "    <tr style=\"text-align: right;\">\n",
              "      <th></th>\n",
              "      <th>Problem</th>\n",
              "      <th>Level</th>\n",
              "      <th>Type</th>\n",
              "      <th>Solution</th>\n",
              "      <th>Extracted words(List)</th>\n",
              "      <th>Extracted Num(List)</th>\n",
              "    </tr>\n",
              "  </thead>\n",
              "  <tbody>\n",
              "    <tr>\n",
              "      <th>0</th>\n",
              "      <td>There are constants    alpha  and    beta  suc...</td>\n",
              "      <td>Level 5</td>\n",
              "      <td>Algebra</td>\n",
              "      <td>The numerator  x^2 - 80x + 1551  factors as  (...</td>\n",
              "      <td>['There', 'are', 'constants', 'alpha', 'and', ...</td>\n",
              "      <td>['2', '80', '1551', '2', '57', '2970']</td>\n",
              "    </tr>\n",
              "    <tr>\n",
              "      <th>1</th>\n",
              "      <td>The length of the segment between the points  ...</td>\n",
              "      <td>Level 5</td>\n",
              "      <td>Algebra</td>\n",
              "      <td>By the distance formula, the distance from  (2...</td>\n",
              "      <td>['The', 'length', 'of', 'the', 'segment', 'bet...</td>\n",
              "      <td>['2', '4', '4', '1', '2', '10']</td>\n",
              "    </tr>\n",
              "    <tr>\n",
              "      <th>2</th>\n",
              "      <td>Chewbacca has 20 pieces of cherry gum and 30 p...</td>\n",
              "      <td>Level 5</td>\n",
              "      <td>Algebra</td>\n",
              "      <td>If Chewbacca loses one pack of cherry gum, the...</td>\n",
              "      <td>['Chewbacca', 'has', 'pieces', 'of', 'cherry',...</td>\n",
              "      <td>['20', '30', '5']</td>\n",
              "    </tr>\n",
              "    <tr>\n",
              "      <th>3</th>\n",
              "      <td>For some constants  a  and  b,  let   [f(x) = ...</td>\n",
              "      <td>Level 5</td>\n",
              "      <td>Algebra</td>\n",
              "      <td>Setting  x = 3,  we get  f(3) = -1.  Since  -1...</td>\n",
              "      <td>['For', 'some', 'constants', 'a', 'and', 'b', ...</td>\n",
              "      <td>['2', '8', '3', '2']</td>\n",
              "    </tr>\n",
              "    <tr>\n",
              "      <th>4</th>\n",
              "      <td>Calculate the sum  1 + 3 + 5 +   cdots + 15 + ...</td>\n",
              "      <td>Level 2</td>\n",
              "      <td>Algebra</td>\n",
              "      <td>The arithmetic sequence 1, 3, 5,    dots , 17,...</td>\n",
              "      <td>['Calculate', 'the', 'sum', 'cdots']</td>\n",
              "      <td>['1', '3', '5', '15', '17']</td>\n",
              "    </tr>\n",
              "  </tbody>\n",
              "</table>\n",
              "</div>\n",
              "      <button class=\"colab-df-convert\" onclick=\"convertToInteractive('df-b02ae28d-e4bb-4617-8b13-d385e65c1fdd')\"\n",
              "              title=\"Convert this dataframe to an interactive table.\"\n",
              "              style=\"display:none;\">\n",
              "        \n",
              "  <svg xmlns=\"http://www.w3.org/2000/svg\" height=\"24px\"viewBox=\"0 0 24 24\"\n",
              "       width=\"24px\">\n",
              "    <path d=\"M0 0h24v24H0V0z\" fill=\"none\"/>\n",
              "    <path d=\"M18.56 5.44l.94 2.06.94-2.06 2.06-.94-2.06-.94-.94-2.06-.94 2.06-2.06.94zm-11 1L8.5 8.5l.94-2.06 2.06-.94-2.06-.94L8.5 2.5l-.94 2.06-2.06.94zm10 10l.94 2.06.94-2.06 2.06-.94-2.06-.94-.94-2.06-.94 2.06-2.06.94z\"/><path d=\"M17.41 7.96l-1.37-1.37c-.4-.4-.92-.59-1.43-.59-.52 0-1.04.2-1.43.59L10.3 9.45l-7.72 7.72c-.78.78-.78 2.05 0 2.83L4 21.41c.39.39.9.59 1.41.59.51 0 1.02-.2 1.41-.59l7.78-7.78 2.81-2.81c.8-.78.8-2.07 0-2.86zM5.41 20L4 18.59l7.72-7.72 1.47 1.35L5.41 20z\"/>\n",
              "  </svg>\n",
              "      </button>\n",
              "      \n",
              "  <style>\n",
              "    .colab-df-container {\n",
              "      display:flex;\n",
              "      flex-wrap:wrap;\n",
              "      gap: 12px;\n",
              "    }\n",
              "\n",
              "    .colab-df-convert {\n",
              "      background-color: #E8F0FE;\n",
              "      border: none;\n",
              "      border-radius: 50%;\n",
              "      cursor: pointer;\n",
              "      display: none;\n",
              "      fill: #1967D2;\n",
              "      height: 32px;\n",
              "      padding: 0 0 0 0;\n",
              "      width: 32px;\n",
              "    }\n",
              "\n",
              "    .colab-df-convert:hover {\n",
              "      background-color: #E2EBFA;\n",
              "      box-shadow: 0px 1px 2px rgba(60, 64, 67, 0.3), 0px 1px 3px 1px rgba(60, 64, 67, 0.15);\n",
              "      fill: #174EA6;\n",
              "    }\n",
              "\n",
              "    [theme=dark] .colab-df-convert {\n",
              "      background-color: #3B4455;\n",
              "      fill: #D2E3FC;\n",
              "    }\n",
              "\n",
              "    [theme=dark] .colab-df-convert:hover {\n",
              "      background-color: #434B5C;\n",
              "      box-shadow: 0px 1px 3px 1px rgba(0, 0, 0, 0.15);\n",
              "      filter: drop-shadow(0px 1px 2px rgba(0, 0, 0, 0.3));\n",
              "      fill: #FFFFFF;\n",
              "    }\n",
              "  </style>\n",
              "\n",
              "      <script>\n",
              "        const buttonEl =\n",
              "          document.querySelector('#df-b02ae28d-e4bb-4617-8b13-d385e65c1fdd button.colab-df-convert');\n",
              "        buttonEl.style.display =\n",
              "          google.colab.kernel.accessAllowed ? 'block' : 'none';\n",
              "\n",
              "        async function convertToInteractive(key) {\n",
              "          const element = document.querySelector('#df-b02ae28d-e4bb-4617-8b13-d385e65c1fdd');\n",
              "          const dataTable =\n",
              "            await google.colab.kernel.invokeFunction('convertToInteractive',\n",
              "                                                     [key], {});\n",
              "          if (!dataTable) return;\n",
              "\n",
              "          const docLinkHtml = 'Like what you see? Visit the ' +\n",
              "            '<a target=\"_blank\" href=https://colab.research.google.com/notebooks/data_table.ipynb>data table notebook</a>'\n",
              "            + ' to learn more about interactive tables.';\n",
              "          element.innerHTML = '';\n",
              "          dataTable['output_type'] = 'display_data';\n",
              "          await google.colab.output.renderOutput(dataTable, element);\n",
              "          const docLink = document.createElement('div');\n",
              "          docLink.innerHTML = docLinkHtml;\n",
              "          element.appendChild(docLink);\n",
              "        }\n",
              "      </script>\n",
              "    </div>\n",
              "  </div>\n",
              "  "
            ]
          },
          "metadata": {},
          "execution_count": 6
        }
      ],
      "source": [
        "df.head()"
      ]
    },
    {
      "cell_type": "code",
      "execution_count": 7,
      "metadata": {
        "colab": {
          "base_uri": "https://localhost:8080/",
          "height": 423
        },
        "id": "vVhl1Sosw1g9",
        "outputId": "28bc3113-a49c-4ad4-bf30-5a2064572fb4"
      },
      "outputs": [
        {
          "output_type": "execute_result",
          "data": {
            "text/plain": [
              "                                               Problem    Level \n",
              "0     There are constants    alpha  and    beta  suc...  Level 5\n",
              "1     The length of the segment between the points  ...  Level 5\n",
              "2     Chewbacca has 20 pieces of cherry gum and 30 p...  Level 5\n",
              "3     For some constants  a  and  b,  let   [f(x) = ...  Level 5\n",
              "4     Calculate the sum  1 + 3 + 5 +   cdots + 15 + ...  Level 2\n",
              "...                                                 ...      ...\n",
              "1739  What is the slope of the line passing through ...  Level 2\n",
              "1740  Evaluate  i^{11} + i^{16} + i^{21} + i^{26} + ...  Level 4\n",
              "1741  If  a  is a constant such that  4x^2 - 12x + a...  Level 3\n",
              "1742  Given  a   star b = a^2 + 2ab + b^2 , what is ...  Level 3\n",
              "1743  The graph of the function  f(x)  is shown belo...  Level 5\n",
              "\n",
              "[1744 rows x 2 columns]"
            ],
            "text/html": [
              "\n",
              "  <div id=\"df-f77fb32c-5134-4806-ab5d-ddbf3ef4c206\">\n",
              "    <div class=\"colab-df-container\">\n",
              "      <div>\n",
              "<style scoped>\n",
              "    .dataframe tbody tr th:only-of-type {\n",
              "        vertical-align: middle;\n",
              "    }\n",
              "\n",
              "    .dataframe tbody tr th {\n",
              "        vertical-align: top;\n",
              "    }\n",
              "\n",
              "    .dataframe thead th {\n",
              "        text-align: right;\n",
              "    }\n",
              "</style>\n",
              "<table border=\"1\" class=\"dataframe\">\n",
              "  <thead>\n",
              "    <tr style=\"text-align: right;\">\n",
              "      <th></th>\n",
              "      <th>Problem</th>\n",
              "      <th>Level</th>\n",
              "    </tr>\n",
              "  </thead>\n",
              "  <tbody>\n",
              "    <tr>\n",
              "      <th>0</th>\n",
              "      <td>There are constants    alpha  and    beta  suc...</td>\n",
              "      <td>Level 5</td>\n",
              "    </tr>\n",
              "    <tr>\n",
              "      <th>1</th>\n",
              "      <td>The length of the segment between the points  ...</td>\n",
              "      <td>Level 5</td>\n",
              "    </tr>\n",
              "    <tr>\n",
              "      <th>2</th>\n",
              "      <td>Chewbacca has 20 pieces of cherry gum and 30 p...</td>\n",
              "      <td>Level 5</td>\n",
              "    </tr>\n",
              "    <tr>\n",
              "      <th>3</th>\n",
              "      <td>For some constants  a  and  b,  let   [f(x) = ...</td>\n",
              "      <td>Level 5</td>\n",
              "    </tr>\n",
              "    <tr>\n",
              "      <th>4</th>\n",
              "      <td>Calculate the sum  1 + 3 + 5 +   cdots + 15 + ...</td>\n",
              "      <td>Level 2</td>\n",
              "    </tr>\n",
              "    <tr>\n",
              "      <th>...</th>\n",
              "      <td>...</td>\n",
              "      <td>...</td>\n",
              "    </tr>\n",
              "    <tr>\n",
              "      <th>1739</th>\n",
              "      <td>What is the slope of the line passing through ...</td>\n",
              "      <td>Level 2</td>\n",
              "    </tr>\n",
              "    <tr>\n",
              "      <th>1740</th>\n",
              "      <td>Evaluate  i^{11} + i^{16} + i^{21} + i^{26} + ...</td>\n",
              "      <td>Level 4</td>\n",
              "    </tr>\n",
              "    <tr>\n",
              "      <th>1741</th>\n",
              "      <td>If  a  is a constant such that  4x^2 - 12x + a...</td>\n",
              "      <td>Level 3</td>\n",
              "    </tr>\n",
              "    <tr>\n",
              "      <th>1742</th>\n",
              "      <td>Given  a   star b = a^2 + 2ab + b^2 , what is ...</td>\n",
              "      <td>Level 3</td>\n",
              "    </tr>\n",
              "    <tr>\n",
              "      <th>1743</th>\n",
              "      <td>The graph of the function  f(x)  is shown belo...</td>\n",
              "      <td>Level 5</td>\n",
              "    </tr>\n",
              "  </tbody>\n",
              "</table>\n",
              "<p>1744 rows × 2 columns</p>\n",
              "</div>\n",
              "      <button class=\"colab-df-convert\" onclick=\"convertToInteractive('df-f77fb32c-5134-4806-ab5d-ddbf3ef4c206')\"\n",
              "              title=\"Convert this dataframe to an interactive table.\"\n",
              "              style=\"display:none;\">\n",
              "        \n",
              "  <svg xmlns=\"http://www.w3.org/2000/svg\" height=\"24px\"viewBox=\"0 0 24 24\"\n",
              "       width=\"24px\">\n",
              "    <path d=\"M0 0h24v24H0V0z\" fill=\"none\"/>\n",
              "    <path d=\"M18.56 5.44l.94 2.06.94-2.06 2.06-.94-2.06-.94-.94-2.06-.94 2.06-2.06.94zm-11 1L8.5 8.5l.94-2.06 2.06-.94-2.06-.94L8.5 2.5l-.94 2.06-2.06.94zm10 10l.94 2.06.94-2.06 2.06-.94-2.06-.94-.94-2.06-.94 2.06-2.06.94z\"/><path d=\"M17.41 7.96l-1.37-1.37c-.4-.4-.92-.59-1.43-.59-.52 0-1.04.2-1.43.59L10.3 9.45l-7.72 7.72c-.78.78-.78 2.05 0 2.83L4 21.41c.39.39.9.59 1.41.59.51 0 1.02-.2 1.41-.59l7.78-7.78 2.81-2.81c.8-.78.8-2.07 0-2.86zM5.41 20L4 18.59l7.72-7.72 1.47 1.35L5.41 20z\"/>\n",
              "  </svg>\n",
              "      </button>\n",
              "      \n",
              "  <style>\n",
              "    .colab-df-container {\n",
              "      display:flex;\n",
              "      flex-wrap:wrap;\n",
              "      gap: 12px;\n",
              "    }\n",
              "\n",
              "    .colab-df-convert {\n",
              "      background-color: #E8F0FE;\n",
              "      border: none;\n",
              "      border-radius: 50%;\n",
              "      cursor: pointer;\n",
              "      display: none;\n",
              "      fill: #1967D2;\n",
              "      height: 32px;\n",
              "      padding: 0 0 0 0;\n",
              "      width: 32px;\n",
              "    }\n",
              "\n",
              "    .colab-df-convert:hover {\n",
              "      background-color: #E2EBFA;\n",
              "      box-shadow: 0px 1px 2px rgba(60, 64, 67, 0.3), 0px 1px 3px 1px rgba(60, 64, 67, 0.15);\n",
              "      fill: #174EA6;\n",
              "    }\n",
              "\n",
              "    [theme=dark] .colab-df-convert {\n",
              "      background-color: #3B4455;\n",
              "      fill: #D2E3FC;\n",
              "    }\n",
              "\n",
              "    [theme=dark] .colab-df-convert:hover {\n",
              "      background-color: #434B5C;\n",
              "      box-shadow: 0px 1px 3px 1px rgba(0, 0, 0, 0.15);\n",
              "      filter: drop-shadow(0px 1px 2px rgba(0, 0, 0, 0.3));\n",
              "      fill: #FFFFFF;\n",
              "    }\n",
              "  </style>\n",
              "\n",
              "      <script>\n",
              "        const buttonEl =\n",
              "          document.querySelector('#df-f77fb32c-5134-4806-ab5d-ddbf3ef4c206 button.colab-df-convert');\n",
              "        buttonEl.style.display =\n",
              "          google.colab.kernel.accessAllowed ? 'block' : 'none';\n",
              "\n",
              "        async function convertToInteractive(key) {\n",
              "          const element = document.querySelector('#df-f77fb32c-5134-4806-ab5d-ddbf3ef4c206');\n",
              "          const dataTable =\n",
              "            await google.colab.kernel.invokeFunction('convertToInteractive',\n",
              "                                                     [key], {});\n",
              "          if (!dataTable) return;\n",
              "\n",
              "          const docLinkHtml = 'Like what you see? Visit the ' +\n",
              "            '<a target=\"_blank\" href=https://colab.research.google.com/notebooks/data_table.ipynb>data table notebook</a>'\n",
              "            + ' to learn more about interactive tables.';\n",
              "          element.innerHTML = '';\n",
              "          dataTable['output_type'] = 'display_data';\n",
              "          await google.colab.output.renderOutput(dataTable, element);\n",
              "          const docLink = document.createElement('div');\n",
              "          docLink.innerHTML = docLinkHtml;\n",
              "          element.appendChild(docLink);\n",
              "        }\n",
              "      </script>\n",
              "    </div>\n",
              "  </div>\n",
              "  "
            ]
          },
          "metadata": {},
          "execution_count": 7
        }
      ],
      "source": [
        "df = df.iloc[:,0:2]\n",
        "df"
      ]
    },
    {
      "cell_type": "code",
      "execution_count": 8,
      "metadata": {
        "id": "pUsm4lMNw3PE"
      },
      "outputs": [],
      "source": [
        "df.iloc[:,1].replace(['Level 1', 'Level 2', 'Level 3', 'Level 4', 'Level 5'],\n",
        "                        [1, 2, 3, 4, 5], inplace=True)"
      ]
    },
    {
      "cell_type": "code",
      "source": [
        "df.iloc[:,1].replace([1, 2, 3, 4, 5],\n",
        "                        [\"Verylow\", \"Low\", \"Moderate\", \"High\", \"Veryhigh\"], inplace=True)"
      ],
      "metadata": {
        "id": "shqtxPTHklTw"
      },
      "execution_count": 9,
      "outputs": []
    },
    {
      "cell_type": "code",
      "execution_count": 10,
      "metadata": {
        "colab": {
          "base_uri": "https://localhost:8080/",
          "height": 206
        },
        "id": "ndauj1Yww6-J",
        "outputId": "5629131b-069e-4e94-f24a-2c6cc7191397"
      },
      "outputs": [
        {
          "output_type": "execute_result",
          "data": {
            "text/plain": [
              "                                            Problem     Level \n",
              "0  There are constants    alpha  and    beta  suc...  Veryhigh\n",
              "1  The length of the segment between the points  ...  Veryhigh\n",
              "2  Chewbacca has 20 pieces of cherry gum and 30 p...  Veryhigh\n",
              "3  For some constants  a  and  b,  let   [f(x) = ...  Veryhigh\n",
              "4  Calculate the sum  1 + 3 + 5 +   cdots + 15 + ...       Low"
            ],
            "text/html": [
              "\n",
              "  <div id=\"df-e342d142-eb36-47d3-934c-1130e57f6ea3\">\n",
              "    <div class=\"colab-df-container\">\n",
              "      <div>\n",
              "<style scoped>\n",
              "    .dataframe tbody tr th:only-of-type {\n",
              "        vertical-align: middle;\n",
              "    }\n",
              "\n",
              "    .dataframe tbody tr th {\n",
              "        vertical-align: top;\n",
              "    }\n",
              "\n",
              "    .dataframe thead th {\n",
              "        text-align: right;\n",
              "    }\n",
              "</style>\n",
              "<table border=\"1\" class=\"dataframe\">\n",
              "  <thead>\n",
              "    <tr style=\"text-align: right;\">\n",
              "      <th></th>\n",
              "      <th>Problem</th>\n",
              "      <th>Level</th>\n",
              "    </tr>\n",
              "  </thead>\n",
              "  <tbody>\n",
              "    <tr>\n",
              "      <th>0</th>\n",
              "      <td>There are constants    alpha  and    beta  suc...</td>\n",
              "      <td>Veryhigh</td>\n",
              "    </tr>\n",
              "    <tr>\n",
              "      <th>1</th>\n",
              "      <td>The length of the segment between the points  ...</td>\n",
              "      <td>Veryhigh</td>\n",
              "    </tr>\n",
              "    <tr>\n",
              "      <th>2</th>\n",
              "      <td>Chewbacca has 20 pieces of cherry gum and 30 p...</td>\n",
              "      <td>Veryhigh</td>\n",
              "    </tr>\n",
              "    <tr>\n",
              "      <th>3</th>\n",
              "      <td>For some constants  a  and  b,  let   [f(x) = ...</td>\n",
              "      <td>Veryhigh</td>\n",
              "    </tr>\n",
              "    <tr>\n",
              "      <th>4</th>\n",
              "      <td>Calculate the sum  1 + 3 + 5 +   cdots + 15 + ...</td>\n",
              "      <td>Low</td>\n",
              "    </tr>\n",
              "  </tbody>\n",
              "</table>\n",
              "</div>\n",
              "      <button class=\"colab-df-convert\" onclick=\"convertToInteractive('df-e342d142-eb36-47d3-934c-1130e57f6ea3')\"\n",
              "              title=\"Convert this dataframe to an interactive table.\"\n",
              "              style=\"display:none;\">\n",
              "        \n",
              "  <svg xmlns=\"http://www.w3.org/2000/svg\" height=\"24px\"viewBox=\"0 0 24 24\"\n",
              "       width=\"24px\">\n",
              "    <path d=\"M0 0h24v24H0V0z\" fill=\"none\"/>\n",
              "    <path d=\"M18.56 5.44l.94 2.06.94-2.06 2.06-.94-2.06-.94-.94-2.06-.94 2.06-2.06.94zm-11 1L8.5 8.5l.94-2.06 2.06-.94-2.06-.94L8.5 2.5l-.94 2.06-2.06.94zm10 10l.94 2.06.94-2.06 2.06-.94-2.06-.94-.94-2.06-.94 2.06-2.06.94z\"/><path d=\"M17.41 7.96l-1.37-1.37c-.4-.4-.92-.59-1.43-.59-.52 0-1.04.2-1.43.59L10.3 9.45l-7.72 7.72c-.78.78-.78 2.05 0 2.83L4 21.41c.39.39.9.59 1.41.59.51 0 1.02-.2 1.41-.59l7.78-7.78 2.81-2.81c.8-.78.8-2.07 0-2.86zM5.41 20L4 18.59l7.72-7.72 1.47 1.35L5.41 20z\"/>\n",
              "  </svg>\n",
              "      </button>\n",
              "      \n",
              "  <style>\n",
              "    .colab-df-container {\n",
              "      display:flex;\n",
              "      flex-wrap:wrap;\n",
              "      gap: 12px;\n",
              "    }\n",
              "\n",
              "    .colab-df-convert {\n",
              "      background-color: #E8F0FE;\n",
              "      border: none;\n",
              "      border-radius: 50%;\n",
              "      cursor: pointer;\n",
              "      display: none;\n",
              "      fill: #1967D2;\n",
              "      height: 32px;\n",
              "      padding: 0 0 0 0;\n",
              "      width: 32px;\n",
              "    }\n",
              "\n",
              "    .colab-df-convert:hover {\n",
              "      background-color: #E2EBFA;\n",
              "      box-shadow: 0px 1px 2px rgba(60, 64, 67, 0.3), 0px 1px 3px 1px rgba(60, 64, 67, 0.15);\n",
              "      fill: #174EA6;\n",
              "    }\n",
              "\n",
              "    [theme=dark] .colab-df-convert {\n",
              "      background-color: #3B4455;\n",
              "      fill: #D2E3FC;\n",
              "    }\n",
              "\n",
              "    [theme=dark] .colab-df-convert:hover {\n",
              "      background-color: #434B5C;\n",
              "      box-shadow: 0px 1px 3px 1px rgba(0, 0, 0, 0.15);\n",
              "      filter: drop-shadow(0px 1px 2px rgba(0, 0, 0, 0.3));\n",
              "      fill: #FFFFFF;\n",
              "    }\n",
              "  </style>\n",
              "\n",
              "      <script>\n",
              "        const buttonEl =\n",
              "          document.querySelector('#df-e342d142-eb36-47d3-934c-1130e57f6ea3 button.colab-df-convert');\n",
              "        buttonEl.style.display =\n",
              "          google.colab.kernel.accessAllowed ? 'block' : 'none';\n",
              "\n",
              "        async function convertToInteractive(key) {\n",
              "          const element = document.querySelector('#df-e342d142-eb36-47d3-934c-1130e57f6ea3');\n",
              "          const dataTable =\n",
              "            await google.colab.kernel.invokeFunction('convertToInteractive',\n",
              "                                                     [key], {});\n",
              "          if (!dataTable) return;\n",
              "\n",
              "          const docLinkHtml = 'Like what you see? Visit the ' +\n",
              "            '<a target=\"_blank\" href=https://colab.research.google.com/notebooks/data_table.ipynb>data table notebook</a>'\n",
              "            + ' to learn more about interactive tables.';\n",
              "          element.innerHTML = '';\n",
              "          dataTable['output_type'] = 'display_data';\n",
              "          await google.colab.output.renderOutput(dataTable, element);\n",
              "          const docLink = document.createElement('div');\n",
              "          docLink.innerHTML = docLinkHtml;\n",
              "          element.appendChild(docLink);\n",
              "        }\n",
              "      </script>\n",
              "    </div>\n",
              "  </div>\n",
              "  "
            ]
          },
          "metadata": {},
          "execution_count": 10
        }
      ],
      "source": [
        "df.head()"
      ]
    },
    {
      "cell_type": "code",
      "execution_count": 11,
      "metadata": {
        "colab": {
          "base_uri": "https://localhost:8080/"
        },
        "id": "GTDuVfWNw87E",
        "outputId": "816711a2-9bce-44f2-904a-47081318aae0"
      },
      "outputs": [
        {
          "output_type": "execute_result",
          "data": {
            "text/plain": [
              "Problem     1744\n",
              "Level          5\n",
              "dtype: int64"
            ]
          },
          "metadata": {},
          "execution_count": 11
        }
      ],
      "source": [
        "df.nunique()"
      ]
    },
    {
      "cell_type": "code",
      "execution_count": 12,
      "metadata": {
        "colab": {
          "base_uri": "https://localhost:8080/",
          "height": 423
        },
        "id": "f-ajYIjPw_wL",
        "outputId": "526e2a93-c3af-4b98-a78f-8e1f3692e4d9"
      },
      "outputs": [
        {
          "output_type": "execute_result",
          "data": {
            "text/plain": [
              "                                               Problem     Level \n",
              "0     There are constants    alpha  and    beta  suc...  Veryhigh\n",
              "1     The length of the segment between the points  ...  Veryhigh\n",
              "2     Chewbacca has 20 pieces of cherry gum and 30 p...  Veryhigh\n",
              "3     For some constants  a  and  b,  let   [f(x) = ...  Veryhigh\n",
              "4     Calculate the sum  1 + 3 + 5 +   cdots + 15 + ...       Low\n",
              "...                                                 ...       ...\n",
              "1739  What is the slope of the line passing through ...       Low\n",
              "1740  Evaluate  i^{11} + i^{16} + i^{21} + i^{26} + ...      High\n",
              "1741  If  a  is a constant such that  4x^2 - 12x + a...  Moderate\n",
              "1742  Given  a   star b = a^2 + 2ab + b^2 , what is ...  Moderate\n",
              "1743  The graph of the function  f(x)  is shown belo...  Veryhigh\n",
              "\n",
              "[1744 rows x 2 columns]"
            ],
            "text/html": [
              "\n",
              "  <div id=\"df-b67ea0f2-5c2f-471e-90bc-e215654c5746\">\n",
              "    <div class=\"colab-df-container\">\n",
              "      <div>\n",
              "<style scoped>\n",
              "    .dataframe tbody tr th:only-of-type {\n",
              "        vertical-align: middle;\n",
              "    }\n",
              "\n",
              "    .dataframe tbody tr th {\n",
              "        vertical-align: top;\n",
              "    }\n",
              "\n",
              "    .dataframe thead th {\n",
              "        text-align: right;\n",
              "    }\n",
              "</style>\n",
              "<table border=\"1\" class=\"dataframe\">\n",
              "  <thead>\n",
              "    <tr style=\"text-align: right;\">\n",
              "      <th></th>\n",
              "      <th>Problem</th>\n",
              "      <th>Level</th>\n",
              "    </tr>\n",
              "  </thead>\n",
              "  <tbody>\n",
              "    <tr>\n",
              "      <th>0</th>\n",
              "      <td>There are constants    alpha  and    beta  suc...</td>\n",
              "      <td>Veryhigh</td>\n",
              "    </tr>\n",
              "    <tr>\n",
              "      <th>1</th>\n",
              "      <td>The length of the segment between the points  ...</td>\n",
              "      <td>Veryhigh</td>\n",
              "    </tr>\n",
              "    <tr>\n",
              "      <th>2</th>\n",
              "      <td>Chewbacca has 20 pieces of cherry gum and 30 p...</td>\n",
              "      <td>Veryhigh</td>\n",
              "    </tr>\n",
              "    <tr>\n",
              "      <th>3</th>\n",
              "      <td>For some constants  a  and  b,  let   [f(x) = ...</td>\n",
              "      <td>Veryhigh</td>\n",
              "    </tr>\n",
              "    <tr>\n",
              "      <th>4</th>\n",
              "      <td>Calculate the sum  1 + 3 + 5 +   cdots + 15 + ...</td>\n",
              "      <td>Low</td>\n",
              "    </tr>\n",
              "    <tr>\n",
              "      <th>...</th>\n",
              "      <td>...</td>\n",
              "      <td>...</td>\n",
              "    </tr>\n",
              "    <tr>\n",
              "      <th>1739</th>\n",
              "      <td>What is the slope of the line passing through ...</td>\n",
              "      <td>Low</td>\n",
              "    </tr>\n",
              "    <tr>\n",
              "      <th>1740</th>\n",
              "      <td>Evaluate  i^{11} + i^{16} + i^{21} + i^{26} + ...</td>\n",
              "      <td>High</td>\n",
              "    </tr>\n",
              "    <tr>\n",
              "      <th>1741</th>\n",
              "      <td>If  a  is a constant such that  4x^2 - 12x + a...</td>\n",
              "      <td>Moderate</td>\n",
              "    </tr>\n",
              "    <tr>\n",
              "      <th>1742</th>\n",
              "      <td>Given  a   star b = a^2 + 2ab + b^2 , what is ...</td>\n",
              "      <td>Moderate</td>\n",
              "    </tr>\n",
              "    <tr>\n",
              "      <th>1743</th>\n",
              "      <td>The graph of the function  f(x)  is shown belo...</td>\n",
              "      <td>Veryhigh</td>\n",
              "    </tr>\n",
              "  </tbody>\n",
              "</table>\n",
              "<p>1744 rows × 2 columns</p>\n",
              "</div>\n",
              "      <button class=\"colab-df-convert\" onclick=\"convertToInteractive('df-b67ea0f2-5c2f-471e-90bc-e215654c5746')\"\n",
              "              title=\"Convert this dataframe to an interactive table.\"\n",
              "              style=\"display:none;\">\n",
              "        \n",
              "  <svg xmlns=\"http://www.w3.org/2000/svg\" height=\"24px\"viewBox=\"0 0 24 24\"\n",
              "       width=\"24px\">\n",
              "    <path d=\"M0 0h24v24H0V0z\" fill=\"none\"/>\n",
              "    <path d=\"M18.56 5.44l.94 2.06.94-2.06 2.06-.94-2.06-.94-.94-2.06-.94 2.06-2.06.94zm-11 1L8.5 8.5l.94-2.06 2.06-.94-2.06-.94L8.5 2.5l-.94 2.06-2.06.94zm10 10l.94 2.06.94-2.06 2.06-.94-2.06-.94-.94-2.06-.94 2.06-2.06.94z\"/><path d=\"M17.41 7.96l-1.37-1.37c-.4-.4-.92-.59-1.43-.59-.52 0-1.04.2-1.43.59L10.3 9.45l-7.72 7.72c-.78.78-.78 2.05 0 2.83L4 21.41c.39.39.9.59 1.41.59.51 0 1.02-.2 1.41-.59l7.78-7.78 2.81-2.81c.8-.78.8-2.07 0-2.86zM5.41 20L4 18.59l7.72-7.72 1.47 1.35L5.41 20z\"/>\n",
              "  </svg>\n",
              "      </button>\n",
              "      \n",
              "  <style>\n",
              "    .colab-df-container {\n",
              "      display:flex;\n",
              "      flex-wrap:wrap;\n",
              "      gap: 12px;\n",
              "    }\n",
              "\n",
              "    .colab-df-convert {\n",
              "      background-color: #E8F0FE;\n",
              "      border: none;\n",
              "      border-radius: 50%;\n",
              "      cursor: pointer;\n",
              "      display: none;\n",
              "      fill: #1967D2;\n",
              "      height: 32px;\n",
              "      padding: 0 0 0 0;\n",
              "      width: 32px;\n",
              "    }\n",
              "\n",
              "    .colab-df-convert:hover {\n",
              "      background-color: #E2EBFA;\n",
              "      box-shadow: 0px 1px 2px rgba(60, 64, 67, 0.3), 0px 1px 3px 1px rgba(60, 64, 67, 0.15);\n",
              "      fill: #174EA6;\n",
              "    }\n",
              "\n",
              "    [theme=dark] .colab-df-convert {\n",
              "      background-color: #3B4455;\n",
              "      fill: #D2E3FC;\n",
              "    }\n",
              "\n",
              "    [theme=dark] .colab-df-convert:hover {\n",
              "      background-color: #434B5C;\n",
              "      box-shadow: 0px 1px 3px 1px rgba(0, 0, 0, 0.15);\n",
              "      filter: drop-shadow(0px 1px 2px rgba(0, 0, 0, 0.3));\n",
              "      fill: #FFFFFF;\n",
              "    }\n",
              "  </style>\n",
              "\n",
              "      <script>\n",
              "        const buttonEl =\n",
              "          document.querySelector('#df-b67ea0f2-5c2f-471e-90bc-e215654c5746 button.colab-df-convert');\n",
              "        buttonEl.style.display =\n",
              "          google.colab.kernel.accessAllowed ? 'block' : 'none';\n",
              "\n",
              "        async function convertToInteractive(key) {\n",
              "          const element = document.querySelector('#df-b67ea0f2-5c2f-471e-90bc-e215654c5746');\n",
              "          const dataTable =\n",
              "            await google.colab.kernel.invokeFunction('convertToInteractive',\n",
              "                                                     [key], {});\n",
              "          if (!dataTable) return;\n",
              "\n",
              "          const docLinkHtml = 'Like what you see? Visit the ' +\n",
              "            '<a target=\"_blank\" href=https://colab.research.google.com/notebooks/data_table.ipynb>data table notebook</a>'\n",
              "            + ' to learn more about interactive tables.';\n",
              "          element.innerHTML = '';\n",
              "          dataTable['output_type'] = 'display_data';\n",
              "          await google.colab.output.renderOutput(dataTable, element);\n",
              "          const docLink = document.createElement('div');\n",
              "          docLink.innerHTML = docLinkHtml;\n",
              "          element.appendChild(docLink);\n",
              "        }\n",
              "      </script>\n",
              "    </div>\n",
              "  </div>\n",
              "  "
            ]
          },
          "metadata": {},
          "execution_count": 12
        }
      ],
      "source": [
        "df = df.iloc[:,0:2]\n",
        "df"
      ]
    },
    {
      "cell_type": "markdown",
      "metadata": {
        "id": "DqW73TK8xXEu"
      },
      "source": [
        "Function to count number of sentences in the problem."
      ]
    },
    {
      "cell_type": "code",
      "execution_count": 13,
      "metadata": {
        "id": "e7HDEeW-xBi9"
      },
      "outputs": [],
      "source": [
        "def count_sentences(df_col):\n",
        "  number_of_sentences = sent_tokenize(df_col)\n",
        "  return len(number_of_sentences)"
      ]
    },
    {
      "cell_type": "code",
      "execution_count": 14,
      "metadata": {
        "id": "xkSReyMcxaN4"
      },
      "outputs": [],
      "source": [
        "df['sent_sum'] = df['Problem '].apply(count_sentences)"
      ]
    },
    {
      "cell_type": "code",
      "execution_count": 15,
      "metadata": {
        "colab": {
          "base_uri": "https://localhost:8080/",
          "height": 237
        },
        "id": "2zy9H6fvxd0l",
        "outputId": "3e930fa9-314c-4d3e-f74a-aec651bbf6ed"
      },
      "outputs": [
        {
          "output_type": "execute_result",
          "data": {
            "text/plain": [
              "                                            Problem     Level   sent_sum\n",
              "0  There are constants    alpha  and    beta  suc...  Veryhigh         2\n",
              "1  The length of the segment between the points  ...  Veryhigh         2\n",
              "2  Chewbacca has 20 pieces of cherry gum and 30 p...  Veryhigh         5\n",
              "3  For some constants  a  and  b,  let   [f(x) = ...  Veryhigh         3\n",
              "4  Calculate the sum  1 + 3 + 5 +   cdots + 15 + ...       Low         1\n",
              "5  What is the number of units in the area of the...      High         3"
            ],
            "text/html": [
              "\n",
              "  <div id=\"df-10cdc9d3-35fc-4232-989a-8da95816ceda\">\n",
              "    <div class=\"colab-df-container\">\n",
              "      <div>\n",
              "<style scoped>\n",
              "    .dataframe tbody tr th:only-of-type {\n",
              "        vertical-align: middle;\n",
              "    }\n",
              "\n",
              "    .dataframe tbody tr th {\n",
              "        vertical-align: top;\n",
              "    }\n",
              "\n",
              "    .dataframe thead th {\n",
              "        text-align: right;\n",
              "    }\n",
              "</style>\n",
              "<table border=\"1\" class=\"dataframe\">\n",
              "  <thead>\n",
              "    <tr style=\"text-align: right;\">\n",
              "      <th></th>\n",
              "      <th>Problem</th>\n",
              "      <th>Level</th>\n",
              "      <th>sent_sum</th>\n",
              "    </tr>\n",
              "  </thead>\n",
              "  <tbody>\n",
              "    <tr>\n",
              "      <th>0</th>\n",
              "      <td>There are constants    alpha  and    beta  suc...</td>\n",
              "      <td>Veryhigh</td>\n",
              "      <td>2</td>\n",
              "    </tr>\n",
              "    <tr>\n",
              "      <th>1</th>\n",
              "      <td>The length of the segment between the points  ...</td>\n",
              "      <td>Veryhigh</td>\n",
              "      <td>2</td>\n",
              "    </tr>\n",
              "    <tr>\n",
              "      <th>2</th>\n",
              "      <td>Chewbacca has 20 pieces of cherry gum and 30 p...</td>\n",
              "      <td>Veryhigh</td>\n",
              "      <td>5</td>\n",
              "    </tr>\n",
              "    <tr>\n",
              "      <th>3</th>\n",
              "      <td>For some constants  a  and  b,  let   [f(x) = ...</td>\n",
              "      <td>Veryhigh</td>\n",
              "      <td>3</td>\n",
              "    </tr>\n",
              "    <tr>\n",
              "      <th>4</th>\n",
              "      <td>Calculate the sum  1 + 3 + 5 +   cdots + 15 + ...</td>\n",
              "      <td>Low</td>\n",
              "      <td>1</td>\n",
              "    </tr>\n",
              "    <tr>\n",
              "      <th>5</th>\n",
              "      <td>What is the number of units in the area of the...</td>\n",
              "      <td>High</td>\n",
              "      <td>3</td>\n",
              "    </tr>\n",
              "  </tbody>\n",
              "</table>\n",
              "</div>\n",
              "      <button class=\"colab-df-convert\" onclick=\"convertToInteractive('df-10cdc9d3-35fc-4232-989a-8da95816ceda')\"\n",
              "              title=\"Convert this dataframe to an interactive table.\"\n",
              "              style=\"display:none;\">\n",
              "        \n",
              "  <svg xmlns=\"http://www.w3.org/2000/svg\" height=\"24px\"viewBox=\"0 0 24 24\"\n",
              "       width=\"24px\">\n",
              "    <path d=\"M0 0h24v24H0V0z\" fill=\"none\"/>\n",
              "    <path d=\"M18.56 5.44l.94 2.06.94-2.06 2.06-.94-2.06-.94-.94-2.06-.94 2.06-2.06.94zm-11 1L8.5 8.5l.94-2.06 2.06-.94-2.06-.94L8.5 2.5l-.94 2.06-2.06.94zm10 10l.94 2.06.94-2.06 2.06-.94-2.06-.94-.94-2.06-.94 2.06-2.06.94z\"/><path d=\"M17.41 7.96l-1.37-1.37c-.4-.4-.92-.59-1.43-.59-.52 0-1.04.2-1.43.59L10.3 9.45l-7.72 7.72c-.78.78-.78 2.05 0 2.83L4 21.41c.39.39.9.59 1.41.59.51 0 1.02-.2 1.41-.59l7.78-7.78 2.81-2.81c.8-.78.8-2.07 0-2.86zM5.41 20L4 18.59l7.72-7.72 1.47 1.35L5.41 20z\"/>\n",
              "  </svg>\n",
              "      </button>\n",
              "      \n",
              "  <style>\n",
              "    .colab-df-container {\n",
              "      display:flex;\n",
              "      flex-wrap:wrap;\n",
              "      gap: 12px;\n",
              "    }\n",
              "\n",
              "    .colab-df-convert {\n",
              "      background-color: #E8F0FE;\n",
              "      border: none;\n",
              "      border-radius: 50%;\n",
              "      cursor: pointer;\n",
              "      display: none;\n",
              "      fill: #1967D2;\n",
              "      height: 32px;\n",
              "      padding: 0 0 0 0;\n",
              "      width: 32px;\n",
              "    }\n",
              "\n",
              "    .colab-df-convert:hover {\n",
              "      background-color: #E2EBFA;\n",
              "      box-shadow: 0px 1px 2px rgba(60, 64, 67, 0.3), 0px 1px 3px 1px rgba(60, 64, 67, 0.15);\n",
              "      fill: #174EA6;\n",
              "    }\n",
              "\n",
              "    [theme=dark] .colab-df-convert {\n",
              "      background-color: #3B4455;\n",
              "      fill: #D2E3FC;\n",
              "    }\n",
              "\n",
              "    [theme=dark] .colab-df-convert:hover {\n",
              "      background-color: #434B5C;\n",
              "      box-shadow: 0px 1px 3px 1px rgba(0, 0, 0, 0.15);\n",
              "      filter: drop-shadow(0px 1px 2px rgba(0, 0, 0, 0.3));\n",
              "      fill: #FFFFFF;\n",
              "    }\n",
              "  </style>\n",
              "\n",
              "      <script>\n",
              "        const buttonEl =\n",
              "          document.querySelector('#df-10cdc9d3-35fc-4232-989a-8da95816ceda button.colab-df-convert');\n",
              "        buttonEl.style.display =\n",
              "          google.colab.kernel.accessAllowed ? 'block' : 'none';\n",
              "\n",
              "        async function convertToInteractive(key) {\n",
              "          const element = document.querySelector('#df-10cdc9d3-35fc-4232-989a-8da95816ceda');\n",
              "          const dataTable =\n",
              "            await google.colab.kernel.invokeFunction('convertToInteractive',\n",
              "                                                     [key], {});\n",
              "          if (!dataTable) return;\n",
              "\n",
              "          const docLinkHtml = 'Like what you see? Visit the ' +\n",
              "            '<a target=\"_blank\" href=https://colab.research.google.com/notebooks/data_table.ipynb>data table notebook</a>'\n",
              "            + ' to learn more about interactive tables.';\n",
              "          element.innerHTML = '';\n",
              "          dataTable['output_type'] = 'display_data';\n",
              "          await google.colab.output.renderOutput(dataTable, element);\n",
              "          const docLink = document.createElement('div');\n",
              "          docLink.innerHTML = docLinkHtml;\n",
              "          element.appendChild(docLink);\n",
              "        }\n",
              "      </script>\n",
              "    </div>\n",
              "  </div>\n",
              "  "
            ]
          },
          "metadata": {},
          "execution_count": 15
        }
      ],
      "source": [
        "df.head(6)"
      ]
    },
    {
      "cell_type": "markdown",
      "metadata": {
        "id": "W6u0_2-zyMrH"
      },
      "source": [
        "**Reading the math vocab data**"
      ]
    },
    {
      "cell_type": "code",
      "execution_count": 16,
      "metadata": {
        "id": "UjMPZLiSxgF0"
      },
      "outputs": [],
      "source": [
        "df_mwl = pd.read_csv(\"/content/gdrive/MyDrive/newpro/MWP_indices_lastexperiment/mathwords.csv\")"
      ]
    },
    {
      "cell_type": "code",
      "execution_count": 17,
      "metadata": {
        "colab": {
          "base_uri": "https://localhost:8080/"
        },
        "id": "a8YyFd9iypIa",
        "outputId": "8fddb365-464e-4696-a712-1061ca8c07cf"
      },
      "outputs": [
        {
          "output_type": "execute_result",
          "data": {
            "text/plain": [
              "(1744, 3)"
            ]
          },
          "metadata": {},
          "execution_count": 17
        }
      ],
      "source": [
        "df.shape"
      ]
    },
    {
      "cell_type": "code",
      "execution_count": 18,
      "metadata": {
        "colab": {
          "base_uri": "https://localhost:8080/"
        },
        "id": "8z5T34DgyyOZ",
        "outputId": "09983638-2de3-4bc3-a763-50002639300f"
      },
      "outputs": [
        {
          "output_type": "execute_result",
          "data": {
            "text/plain": [
              "(2258, 3)"
            ]
          },
          "metadata": {},
          "execution_count": 18
        }
      ],
      "source": [
        "df_mwl.shape"
      ]
    },
    {
      "cell_type": "code",
      "execution_count": 19,
      "metadata": {
        "colab": {
          "base_uri": "https://localhost:8080/",
          "height": 206
        },
        "id": "jDsXI-rWyzrb",
        "outputId": "7e2af038-66f2-4644-8825-53e91041bb41"
      },
      "outputs": [
        {
          "output_type": "execute_result",
          "data": {
            "text/plain": [
              "   Unnamed: 0  Word  Value\n",
              "0           0     x   2675\n",
              "1           1  What    597\n",
              "2           2  frac    573\n",
              "3           3     f    544\n",
              "4           4     b    518"
            ],
            "text/html": [
              "\n",
              "  <div id=\"df-67b35fb5-7114-4861-a0c9-04e62856ef48\">\n",
              "    <div class=\"colab-df-container\">\n",
              "      <div>\n",
              "<style scoped>\n",
              "    .dataframe tbody tr th:only-of-type {\n",
              "        vertical-align: middle;\n",
              "    }\n",
              "\n",
              "    .dataframe tbody tr th {\n",
              "        vertical-align: top;\n",
              "    }\n",
              "\n",
              "    .dataframe thead th {\n",
              "        text-align: right;\n",
              "    }\n",
              "</style>\n",
              "<table border=\"1\" class=\"dataframe\">\n",
              "  <thead>\n",
              "    <tr style=\"text-align: right;\">\n",
              "      <th></th>\n",
              "      <th>Unnamed: 0</th>\n",
              "      <th>Word</th>\n",
              "      <th>Value</th>\n",
              "    </tr>\n",
              "  </thead>\n",
              "  <tbody>\n",
              "    <tr>\n",
              "      <th>0</th>\n",
              "      <td>0</td>\n",
              "      <td>x</td>\n",
              "      <td>2675</td>\n",
              "    </tr>\n",
              "    <tr>\n",
              "      <th>1</th>\n",
              "      <td>1</td>\n",
              "      <td>What</td>\n",
              "      <td>597</td>\n",
              "    </tr>\n",
              "    <tr>\n",
              "      <th>2</th>\n",
              "      <td>2</td>\n",
              "      <td>frac</td>\n",
              "      <td>573</td>\n",
              "    </tr>\n",
              "    <tr>\n",
              "      <th>3</th>\n",
              "      <td>3</td>\n",
              "      <td>f</td>\n",
              "      <td>544</td>\n",
              "    </tr>\n",
              "    <tr>\n",
              "      <th>4</th>\n",
              "      <td>4</td>\n",
              "      <td>b</td>\n",
              "      <td>518</td>\n",
              "    </tr>\n",
              "  </tbody>\n",
              "</table>\n",
              "</div>\n",
              "      <button class=\"colab-df-convert\" onclick=\"convertToInteractive('df-67b35fb5-7114-4861-a0c9-04e62856ef48')\"\n",
              "              title=\"Convert this dataframe to an interactive table.\"\n",
              "              style=\"display:none;\">\n",
              "        \n",
              "  <svg xmlns=\"http://www.w3.org/2000/svg\" height=\"24px\"viewBox=\"0 0 24 24\"\n",
              "       width=\"24px\">\n",
              "    <path d=\"M0 0h24v24H0V0z\" fill=\"none\"/>\n",
              "    <path d=\"M18.56 5.44l.94 2.06.94-2.06 2.06-.94-2.06-.94-.94-2.06-.94 2.06-2.06.94zm-11 1L8.5 8.5l.94-2.06 2.06-.94-2.06-.94L8.5 2.5l-.94 2.06-2.06.94zm10 10l.94 2.06.94-2.06 2.06-.94-2.06-.94-.94-2.06-.94 2.06-2.06.94z\"/><path d=\"M17.41 7.96l-1.37-1.37c-.4-.4-.92-.59-1.43-.59-.52 0-1.04.2-1.43.59L10.3 9.45l-7.72 7.72c-.78.78-.78 2.05 0 2.83L4 21.41c.39.39.9.59 1.41.59.51 0 1.02-.2 1.41-.59l7.78-7.78 2.81-2.81c.8-.78.8-2.07 0-2.86zM5.41 20L4 18.59l7.72-7.72 1.47 1.35L5.41 20z\"/>\n",
              "  </svg>\n",
              "      </button>\n",
              "      \n",
              "  <style>\n",
              "    .colab-df-container {\n",
              "      display:flex;\n",
              "      flex-wrap:wrap;\n",
              "      gap: 12px;\n",
              "    }\n",
              "\n",
              "    .colab-df-convert {\n",
              "      background-color: #E8F0FE;\n",
              "      border: none;\n",
              "      border-radius: 50%;\n",
              "      cursor: pointer;\n",
              "      display: none;\n",
              "      fill: #1967D2;\n",
              "      height: 32px;\n",
              "      padding: 0 0 0 0;\n",
              "      width: 32px;\n",
              "    }\n",
              "\n",
              "    .colab-df-convert:hover {\n",
              "      background-color: #E2EBFA;\n",
              "      box-shadow: 0px 1px 2px rgba(60, 64, 67, 0.3), 0px 1px 3px 1px rgba(60, 64, 67, 0.15);\n",
              "      fill: #174EA6;\n",
              "    }\n",
              "\n",
              "    [theme=dark] .colab-df-convert {\n",
              "      background-color: #3B4455;\n",
              "      fill: #D2E3FC;\n",
              "    }\n",
              "\n",
              "    [theme=dark] .colab-df-convert:hover {\n",
              "      background-color: #434B5C;\n",
              "      box-shadow: 0px 1px 3px 1px rgba(0, 0, 0, 0.15);\n",
              "      filter: drop-shadow(0px 1px 2px rgba(0, 0, 0, 0.3));\n",
              "      fill: #FFFFFF;\n",
              "    }\n",
              "  </style>\n",
              "\n",
              "      <script>\n",
              "        const buttonEl =\n",
              "          document.querySelector('#df-67b35fb5-7114-4861-a0c9-04e62856ef48 button.colab-df-convert');\n",
              "        buttonEl.style.display =\n",
              "          google.colab.kernel.accessAllowed ? 'block' : 'none';\n",
              "\n",
              "        async function convertToInteractive(key) {\n",
              "          const element = document.querySelector('#df-67b35fb5-7114-4861-a0c9-04e62856ef48');\n",
              "          const dataTable =\n",
              "            await google.colab.kernel.invokeFunction('convertToInteractive',\n",
              "                                                     [key], {});\n",
              "          if (!dataTable) return;\n",
              "\n",
              "          const docLinkHtml = 'Like what you see? Visit the ' +\n",
              "            '<a target=\"_blank\" href=https://colab.research.google.com/notebooks/data_table.ipynb>data table notebook</a>'\n",
              "            + ' to learn more about interactive tables.';\n",
              "          element.innerHTML = '';\n",
              "          dataTable['output_type'] = 'display_data';\n",
              "          await google.colab.output.renderOutput(dataTable, element);\n",
              "          const docLink = document.createElement('div');\n",
              "          docLink.innerHTML = docLinkHtml;\n",
              "          element.appendChild(docLink);\n",
              "        }\n",
              "      </script>\n",
              "    </div>\n",
              "  </div>\n",
              "  "
            ]
          },
          "metadata": {},
          "execution_count": 19
        }
      ],
      "source": [
        "df_mwl.head()"
      ]
    },
    {
      "cell_type": "code",
      "execution_count": 20,
      "metadata": {
        "colab": {
          "base_uri": "https://localhost:8080/",
          "height": 206
        },
        "id": "v6C0eAyly2r3",
        "outputId": "c827eba5-bc42-463d-be87-5f8d30fa611e"
      },
      "outputs": [
        {
          "output_type": "execute_result",
          "data": {
            "text/plain": [
              "   Word\n",
              "0     x\n",
              "1  What\n",
              "2  frac\n",
              "3     f\n",
              "4     b"
            ],
            "text/html": [
              "\n",
              "  <div id=\"df-e9716b43-4ae3-43d4-9f1d-430d846ebcf8\">\n",
              "    <div class=\"colab-df-container\">\n",
              "      <div>\n",
              "<style scoped>\n",
              "    .dataframe tbody tr th:only-of-type {\n",
              "        vertical-align: middle;\n",
              "    }\n",
              "\n",
              "    .dataframe tbody tr th {\n",
              "        vertical-align: top;\n",
              "    }\n",
              "\n",
              "    .dataframe thead th {\n",
              "        text-align: right;\n",
              "    }\n",
              "</style>\n",
              "<table border=\"1\" class=\"dataframe\">\n",
              "  <thead>\n",
              "    <tr style=\"text-align: right;\">\n",
              "      <th></th>\n",
              "      <th>Word</th>\n",
              "    </tr>\n",
              "  </thead>\n",
              "  <tbody>\n",
              "    <tr>\n",
              "      <th>0</th>\n",
              "      <td>x</td>\n",
              "    </tr>\n",
              "    <tr>\n",
              "      <th>1</th>\n",
              "      <td>What</td>\n",
              "    </tr>\n",
              "    <tr>\n",
              "      <th>2</th>\n",
              "      <td>frac</td>\n",
              "    </tr>\n",
              "    <tr>\n",
              "      <th>3</th>\n",
              "      <td>f</td>\n",
              "    </tr>\n",
              "    <tr>\n",
              "      <th>4</th>\n",
              "      <td>b</td>\n",
              "    </tr>\n",
              "  </tbody>\n",
              "</table>\n",
              "</div>\n",
              "      <button class=\"colab-df-convert\" onclick=\"convertToInteractive('df-e9716b43-4ae3-43d4-9f1d-430d846ebcf8')\"\n",
              "              title=\"Convert this dataframe to an interactive table.\"\n",
              "              style=\"display:none;\">\n",
              "        \n",
              "  <svg xmlns=\"http://www.w3.org/2000/svg\" height=\"24px\"viewBox=\"0 0 24 24\"\n",
              "       width=\"24px\">\n",
              "    <path d=\"M0 0h24v24H0V0z\" fill=\"none\"/>\n",
              "    <path d=\"M18.56 5.44l.94 2.06.94-2.06 2.06-.94-2.06-.94-.94-2.06-.94 2.06-2.06.94zm-11 1L8.5 8.5l.94-2.06 2.06-.94-2.06-.94L8.5 2.5l-.94 2.06-2.06.94zm10 10l.94 2.06.94-2.06 2.06-.94-2.06-.94-.94-2.06-.94 2.06-2.06.94z\"/><path d=\"M17.41 7.96l-1.37-1.37c-.4-.4-.92-.59-1.43-.59-.52 0-1.04.2-1.43.59L10.3 9.45l-7.72 7.72c-.78.78-.78 2.05 0 2.83L4 21.41c.39.39.9.59 1.41.59.51 0 1.02-.2 1.41-.59l7.78-7.78 2.81-2.81c.8-.78.8-2.07 0-2.86zM5.41 20L4 18.59l7.72-7.72 1.47 1.35L5.41 20z\"/>\n",
              "  </svg>\n",
              "      </button>\n",
              "      \n",
              "  <style>\n",
              "    .colab-df-container {\n",
              "      display:flex;\n",
              "      flex-wrap:wrap;\n",
              "      gap: 12px;\n",
              "    }\n",
              "\n",
              "    .colab-df-convert {\n",
              "      background-color: #E8F0FE;\n",
              "      border: none;\n",
              "      border-radius: 50%;\n",
              "      cursor: pointer;\n",
              "      display: none;\n",
              "      fill: #1967D2;\n",
              "      height: 32px;\n",
              "      padding: 0 0 0 0;\n",
              "      width: 32px;\n",
              "    }\n",
              "\n",
              "    .colab-df-convert:hover {\n",
              "      background-color: #E2EBFA;\n",
              "      box-shadow: 0px 1px 2px rgba(60, 64, 67, 0.3), 0px 1px 3px 1px rgba(60, 64, 67, 0.15);\n",
              "      fill: #174EA6;\n",
              "    }\n",
              "\n",
              "    [theme=dark] .colab-df-convert {\n",
              "      background-color: #3B4455;\n",
              "      fill: #D2E3FC;\n",
              "    }\n",
              "\n",
              "    [theme=dark] .colab-df-convert:hover {\n",
              "      background-color: #434B5C;\n",
              "      box-shadow: 0px 1px 3px 1px rgba(0, 0, 0, 0.15);\n",
              "      filter: drop-shadow(0px 1px 2px rgba(0, 0, 0, 0.3));\n",
              "      fill: #FFFFFF;\n",
              "    }\n",
              "  </style>\n",
              "\n",
              "      <script>\n",
              "        const buttonEl =\n",
              "          document.querySelector('#df-e9716b43-4ae3-43d4-9f1d-430d846ebcf8 button.colab-df-convert');\n",
              "        buttonEl.style.display =\n",
              "          google.colab.kernel.accessAllowed ? 'block' : 'none';\n",
              "\n",
              "        async function convertToInteractive(key) {\n",
              "          const element = document.querySelector('#df-e9716b43-4ae3-43d4-9f1d-430d846ebcf8');\n",
              "          const dataTable =\n",
              "            await google.colab.kernel.invokeFunction('convertToInteractive',\n",
              "                                                     [key], {});\n",
              "          if (!dataTable) return;\n",
              "\n",
              "          const docLinkHtml = 'Like what you see? Visit the ' +\n",
              "            '<a target=\"_blank\" href=https://colab.research.google.com/notebooks/data_table.ipynb>data table notebook</a>'\n",
              "            + ' to learn more about interactive tables.';\n",
              "          element.innerHTML = '';\n",
              "          dataTable['output_type'] = 'display_data';\n",
              "          await google.colab.output.renderOutput(dataTable, element);\n",
              "          const docLink = document.createElement('div');\n",
              "          docLink.innerHTML = docLinkHtml;\n",
              "          element.appendChild(docLink);\n",
              "        }\n",
              "      </script>\n",
              "    </div>\n",
              "  </div>\n",
              "  "
            ]
          },
          "metadata": {},
          "execution_count": 20
        }
      ],
      "source": [
        "mwl = df_mwl.iloc[:,1:2]\n",
        "mwl.head()"
      ]
    },
    {
      "cell_type": "markdown",
      "metadata": {
        "id": "CZ0YK8Dey7qH"
      },
      "source": [
        "Created list of all math vocabulary."
      ]
    },
    {
      "cell_type": "code",
      "execution_count": 21,
      "metadata": {
        "colab": {
          "base_uri": "https://localhost:8080/"
        },
        "id": "d456XbA3y510",
        "outputId": "0088d0b2-96e0-401a-fe81-aba178c55139"
      },
      "outputs": [
        {
          "output_type": "stream",
          "name": "stdout",
          "text": [
            "the list of a single column from the dataframe\n",
            " ['x', 'What', 'frac', 'f', 'b', 'value', 'real', 'If', 'The', 'sqrt', 'A', 'c', 'sum', 'Find', 'n', 'answer', 'many', 'p', 'two', 'draw', 'Express', 'integers', 'equation', 'B', 'label', 'positive', 'graph', 'g', 'number', 'TRUE', 'numbers', 'How', 'Arrows', 'asy', 'integer', 'point', 'Let', 'r', 'form', 'C', 'text', 'cdot', 'xmax', 'right', 'left', 'values', 'xmin', 'points', 'k', 'square', 'sequence', 'size', 'fraction', 'line', 'ymin', 'ymax', 'one', 'xright', 'ytop', 'three', 'common', 'z', 'first', 'term', 'find', 'end', 'possible', 'dot', 'Ticks', 'product', 'Evaluate', 'linewidth', 'function', 'terms', 'expression', 'P', 'begin', 'solutions', 'For', 'axisarrowsize', 'axispen', 'xleft', 'ybottom', 'pen', 'cm', 'feet', 'gx', 'gy', 'area', 'ax', 'times', 'E', 'black', 'per', 'q', 'h', 'coordinates', 'Solve', 'total', 'FALSE', 'TicksArrx', 'TicksArry', 'extend', 'pTick', 'lfloor', 'rfloor', 'following', 'units', 'hours', 'Size', 'D', 'day', 'bp', 'red', 'N', 'Given', 'align', 'defined', 'laxis', 'In', 'Simplify', 'distance', 'height', 'geometric', 'Suppose', 'miles', 'years', 'pair', 'difference', 'bx', 'quadratic', 'array', 'equal', 'log', 'fontsize', 'cycle', 'ticklength', 'xstep', 'ystep', 'bool', 'On', 'arithmetic', 'greatest', 'second', 'le', 'roots', 'four', 'nearest', 'interval', 'lceil', 'rceil', 'rate', 'less', 'cases', 'width', 'I', 'hour', 'abs', 'Compute', 'dfrac', 'return', 'domain', 'S', 'satisfy', 'pic', 'dollars', 'interest', 'smallest', 'written', 'largest', 'shown', 'import', 'displaystyle', 'gs', 'circle', 'least', 'axes', 'xaxis', 'yaxis', 'When', 'length', 'notation', 'lines', 'ball', 'xy', 'ordered', 'must', 'segment', 'ratio', 'solution', 'five', 'order', 'gray', 'ab', 'triangle', 'defaultpen', 'tickdown', 'rr', 'cartesian', 'useticks', 'complexplane', 'usegrid', 'textnormal', 'else', 'push', 'invisible', 'xequals', 'yequals', 'star', 'j', 'side', 'cdots', 'decimal', 'squares', 'range', 'minutes', 'given', 'cost', 'degree', 'exactly', 'polynomial', 'th', 'dps', 'Step', 'parabola', 'At', 'Each', 'coordinate', 'denominator', 'consecutive', 'time', 'floor', 'midpoint', 'equations', 'series', 'twice', 'plane', 'inversely', 'simplest', 'slope', 'new', 'center', 'simplified', 'much', 'distinct', 'whose', 'grid', 'age', 'rectangular', 'digit', 'would', 'added', 'days', 'take', 'SE', 'NW', 'intersect', 'year', 'Expand', 'cqcqcq', 'ceil', 'NoZero', 'pounds', 'average', 'graphs', 'vertices', 'third', 'ds', 'price', 'rectangle', 'w', 'together', 'intercept', 'inch', 'operation', 'respectively', 'satisfies', 'half', 'money', 'dots', 'overline', 'AB', 'proportional', 'maximum', 'prime', 'get', 'expressed', 'constant', 'constants', 'cl', 'pi', 'make', 'sides', 'mx', 'add', 'shift', 'After', 'every', 'endpoints', 'bank', 'u', 'weigh', 'amount', 'There', 'percent', 'dollar', 'passes', 'ldots', 'minimum', 'region', 'void', 'Label', 'EndArrow', 'old', 'seconds', 'axis', 'takes', 'perimeter', 'inches', 'quad', 'work', 'Calculate', 'Q', 'Define', 'M', 'infinite', 'system', 'unit', 'F', 'vertex', 'e', 'week', 'costs', 'even', 'members', 'coefficient', 'Two', 'ticklen', 'tickspace', 'vectorarrowsize', 'tickdownlength', 'tickdownbase', 'wholetickdown', 'Re', 'Im', 'ylimits', 'xlimits', 'BottomTop', 'LeftRight', 'lsf', 'portion', 'Rationalize', 'radius', 'ground', 'bacteria', 'cans', 'resulting', 'W', 'buy', 'kx', 'original', 'Factor', 'homework', 'coins', 'drawn', 'example', 'blue', 'contains', 'clip', 'six', 'root', 'functions', 'pt', 'people', 'row', 'nonzero', 'intersection', 'annual', 'students', 'nabla', 'last', 'v', 'div', 'works', 'friend', 'pay', 'different', 'To', 'lowery', 'uppery', 'car', 'fill', 'balls', 'leftpt', 'rightpt', 'alpha', 'beta', 'ge', 'string', 'compounds', 'annually', 'Cartesian', 'parallel', 'perpendicular', 'She', 'origin', 'lengths', 'certain', 'It', 'greater', 'Bob', 'multiple', 'cents', 'house', 'hline', 'linetype', 'inverse', 'odd', 'identical', 'earn', 'increasing', 'larger', 'month', 'equals', 'hundredth', 'enclosed', 'sp', 'operator', 'fencing', 'G', 'canoes', 'fractional', 'long', 'needs', 'travel', 'radical', 'neq', 'using', 'test', 'Monday', 'cubic', 'vertical', 'wants', 'tabular', 'Consider', 'rgb', 'compounded', 'int', 'cookie', 'box', 'marbles', 'eps', 'account', 'endpoint', 'An', 'decreasing', 'fourth', 'define', 'represents', 'Alex', 'room', 'back', 'satisfying', 'negative', 'Tuesday', 'coefficients', 'school', 'leq', 'shots', 'He', 'fractions', 'trip', 'problems', 'tenth', 'fifth', 'zero', 'Delta', 'factor', 'ten', 'whole', 'polynomials', 'fence', 'underline', 'pieces', 'complete', 'inclusive', 'binomial', 'use', 'dashed', 'write', 'built', 'previous', 'intercepts', 'divisible', 'Note', 'rounded', 'travels', 'gets', 'bi', 'set', 'adds', 'friends', 'O', 'makes', 'geq', 'Four', 'result', 'non', 'smaller', 'bigcirc', 'balance', 'containing', 'paperclips', 'made', 'speed', 'coffee', 'intersects', 'weeks', 'book', 'gum', 'let', 'Give', 'midpoints', 'clubsuit', 'give', 'bike', 'cfrac', 'flour', 'reach', 'describes', 'successive', 'bounces', 'foot', 'pairs', 'invested', 'simple', 'another', 'One', 'girls', 'apples', 'finish', 'buys', 'continues', 'walk', 'Daniel', 'invest', 'expansion', 'necessarily', 'sequences', 'bc', 'complex', 'lie', 'Z', 'ounces', 'used', 'meters', 'full', 'absolute', 'Below', 'Luke', 'workers', 'represented', 'volume', 'increased', 'Betty', 'Charlie', 'earned', 'Andrew', 'widgets', 'dir', 'separated', 'lowest', 'gon', 'means', 'without', 'pencil', 'mile', 'problem', 'equivalent', 'degrees', 'particular', 'Assume', 'H', 'Bx', 'projectile', 'picture', 'zeros', 'standing', 'pm', 'Assuming', 'score', 'force', 'next', 'factors', 'yz', 'xyz', 'summer', 'boys', 'needed', 'circles', 'eat', 'home', 'table', 'exists', 'cells', 'Y', 'store', 'Point', 'dimensions', 'June', 'Three', 'We', 'eight', 'double', 'attended', 'weight', 'pq', 'My', 'math', 'express', 'UnFill', 'calculate', 'Row', 'areas', 'working', 'night', 'Theta', 'got', 'Pete', 'Paul', 'produce', 'unitsquare', 'heightC', 'put', 'exam', 'pays', 'drawSquares', 'sleep', 'km', 'band', 'loc', 'property', 'nx', 'paper', 'You', 'may', 'trying', 'ABC', 'lies', 'regular', 'nine', 'varies', 'entire', 'NE', 'subsequent', 'Which', 'closest', 'begins', 'far', 'l', 'Ax', 'solve', 'gives', 'dropped', 'mean', 'follows', 'directly', 'Write', 'investment', 'display', 'numerator', 'secret', 'student', 'linear', 'xz', 'either', 'purchase', 'small', 'rows', 'inequality', 'froods', 'undefined', 'consists', 'also', 'lawn', 'part', 'Circle', 'located', 'splits', 'This', 'Emily', 'bill', 'correct', 'eighth', 'ride', 'Completely', 'assuming', 'quarterly', 'Joe', 'ac', 'pattern', 'evaluate', 'thrown', 'nonnegative', 'ants', 'Species', 'field', 'obtained', 'current', 'ages', 'tank', 'large', 'George', 'infty', 'legs', 'cent', 'jar', 'cool', 'bills', 'amoebas', 'lattice', 'pound', 'page', 'received', 'coin', 'yellow', 'pool', 'worked', 'bananas', 'SW', 'widthC', 'widthE', 'lengthE', 'angleE', 'gallons', 'questions', 'bus', 'organization', 'passing', 'Bank', 'formula', 'parabolas', 'List', 'compute', 'borrowed', 'divided', 'multiplied', 'like', 'combined', 'continuous', 'lifting', 'water', 'run', 'calculator', 'Fermat', 'distances', 'solved', 'completing', 'process', 'diagram', 'bowtie', 'OmitTick', 'Brenda', 'older', 'bought', 'dividing', 'integral', 'cube', 'ends', 'digits', 'unitsize', 'path', 'invertible', 'rest', 'logs', 'high', 'starts', 'traveled', 'Earth', 'Bill', 'Jo', 'Kate', 'told', 'know', 'perfect', 'ft', 'denote', 'yards', 'contain', 'game', 'earns', 'remaining', 'formed', 'st', 'mow', 'fully', 'iz', 'diameter', 'differ', 'die', 'rational', 'answers', 'commas', 'Real', 'tax', 'income', 'shifted', 'improper', 'Then', 'loan', 'necessary', 'increase', 'hit', 'reported', 'cd', 'subtract', 'period', 'temperature', 'Anton', 'chess', 'team', 'Mark', 'sized', 'reciprocals', 'James', 'applied', 'hold', 'able', 'beginning', 'doubled', 'paint', 'backyard', 'cover', 'seventh', 'took', 'pizza', 'progression', 'fee', 'puddle', 'pencils', 'Amy', 'making', 'Mr', 'good', 'men', 'pages', 'finger', 'meet', 'David', 'moved', 'ink', 'green', 'white', 'Pirate', 'pile', 'charges', 'uses', 'read', 'could', 'symmetry', 'puppy', 'cat', 'round', 'Stage', 'textsize', 'cx', 'mbox', 'midpt', 'seats', 'deposited', 'balances', 'whoosits', 'J', 'Sandy', 'spadesuit', 'John', 'Andy', 'wrong', 'arc', 'shirt', 'bowling', 'ratios', 'head', 'Plan', 'gallon', 'frame', 'formation', 'increases', 'Sequence', 'sugar', 'assignments', 'cherry', 'grape', 'instead', 'finds', 'stringpair', 'invests', 'semicolons', 'charged', 'months', 'owe', 'Finally', 'Line', 'called', 'triangular', 'feel', 'minimized', 'obtains', 'factored', 'enclose', 'garden', 'cups', 'stop', 'way', 'piecewise', 'launched', 'upward', 'parabolic', 'launch', 'penny', 'pennies', 'graphed', 'top', 'paid', 'letters', 'always', 'colony', 'completely', 'By', 'overall', 'certificate', 'gravitational', 'surface', 'Your', 'selected', 'probability', 'Points', 'attend', 'picnic', 'Their', 'created', 'dropping', 'asymptotes', 'burgers', 'soda', 'burger', 'hop', 'Meanwhile', 'valued', 'mixed', 'Mary', 'Using', 'results', 'asymptote', 'American', 'euros', 'cake', 'enough', 'odot', 'X', 'XY', 'collected', 'toaster', 'customers', 'Susie', 'apart', 'scale', 'enter', 'bounded', 'condition', 'payment', 'population', 'none', 'stage', 'multiply', 'single', 'products', 'yearly', 'repeatedly', 'volumes', 'available', 'enchiladas', 'tacos', 'bf', 'ant', 'farm', 'knows', 'female', 'vary', 'boundary', 'otherwise', 'standard', 'loosen', 'bolt', 'wrench', 'divisor', 'pick', 'preceding', 'ay', 'lowerx', 'upperx', 'reflect', 'brakes', 'stops', 'rationalizing', 'faces', 'adjacent', 'decided', 'figures', 'JoAnn', 'cup', 'drank', 'cream', 'inside', 'V', 'rationalize', 'payments', 'list', 'build', 'refrigerator', 'sixth', 'motel', 'flat', 'amoeba', 'placed', 'pens', 'Abby', 'Bart', 'Cindy', 'Damon', 'pressure', 'gas', 'expanded', 'power', 'mistakenly', 'Al', 'surveyed', 'segments', 'Larry', 'output', 'Jack', 'walked', 'Box', 'ell', 'Annie', 'Barbara', 'equidistant', 'upwards', 'percentage', 'Joann', 'variables', 'bag', 'Hoses', 'turns', 'bisector', 'BC', 'Diamond', 'says', 'giving', 'tables', 'rewrites', 'Marika', 'birthday', 'bouquet', 'roses', 'energy', 'additional', 'train', 'piggy', 'sack', 'bunch', 'cantaloupe', 'sale', 'Determine', 'charge', 'diagonal', 'airplane', 'Mrs', 'Berkeley', 'hiked', 'respective', 'px', 'Julie', 'Beth', 'evaluated', 'shirts', 'sandwiches', 'jam', 'Allie', 'rolls', 'ate', 'league', 'discounts', 'Chris', 'ago', 'pebble', 'collects', 'street', 'houses', 'addresses', 'faucets', 'plus', 'algae', 'dagger', 'frisbee', 'crusts', 'leaders', 'Ryosuke', 'Chewbacca', 'Some', 'packs', 'pack', 'savings', 'Lisa', 'diamondsuit', 'quotient', 'Kimberly', 'borrows', 'monthly', 'remainder', 'counting', 'natural', 'Laura', 'swimming', 'spends', 'changing', 'running', 'drink', 'Her', 'lasts', 'fast', 'Wanda', 'locate', 'guesses', 'computes', 'came', 'novel', 'words', 'tx', 'Addison', 'Janet', 'ast', 'BoatsRUs', 'January', 'calendar', 'inequalities', 'cookies', 'map', 'centimeter', 'kilometers', 'represent', 'going', 'From', 'olympiad', 'L', 'T', 'bahs', 'rahs', 'yahs', 'denotes', 'R', 'labels', 'atan', 'thirds', 'chairs', 'Without', 'stack', 'bottom', 'fell', 'doubles', 'traveling', 'taxi', 'Ann', 'fare', 'exerts', 'object', 'Newtons', 'layer', 'similar', 'thing', 'however', 'rounds', 'rounding', 'Jessica', 'quarters', 'yard', 'Cu', 'falls', 'School', 'lunks', 'kunks', 'dozen', 'tangent', 'starting', 'million', 'multiplying', 'recent', 'Shenille', 'attempted', 'scores', 'eating', 'Megan', 'sodas', 'Lauren', 'decimals', 'thirteenth', 'Tom', 'Margo', 'route', 'walking', 'removed', 'split', 'organism', 'cell', 'becomes', 'ne', 'Berengere', 'bakery', 'They', 'want', 'need', 'Rewrite', 'algebra', 'comes', 'yield', 'minus', 'claims', 'measured', 'sales', 'according', 'chosen', 'Pretty', 'Penny', 'Five', 'originally', 'Julia', 'live', 'All', 'triangles', 'drawing', 'entering', 'character', 'parentheses', 'brackets', 'Of', 'owes', 'amounts', 'Round', 'present', 'abc', 'toothpicks', 'arrangement', 'create', 'drawSquare', 'squirrel', 'mn', 'decrease', 'downward', 'corresponding', 'measles', 'decreased', 'da', 'opposite', 'Jose', 'Patricia', 'acid', 'past', 'Also', 'hardcover', 'sells', 'fixed', 'ones', 'species', 'Day', 'counts', 'conditions', 'However', 'meeting', 'Jim', 'membership', 'male', 'writing', 'Cookie', 'Monster', 'encounters', 'confused', 'lunch', 'snack', 'dish', 'handle', 'requires', 'reciprocal', 'Mickey', 'Jerry', 'pass', 'still', 'simplifying', 'super', 'reached', 'exceeds', 'Louise', 'Jasmine', 'proceeded', 'triple', 'goes', 'liters', 'Tiffany', 'court', 'enclosure', 'space', 'Ramanujan', 'Hardy', 'played', 'picked', 'di', 'fi', 'covered', 'scored', 'response', 'incorrect', 'unanswered', 'Sarah', 'exact', 'cubed', 'specific', 'knowledge', 'rewrite', 'lesser', 'Here', 'choice', 'Billy', 'information', 'mentally', 'subtracts', 'well', 'show', 'counted', 'acrobats', 'heads', 'piece', 'quantity', 'inscribed', 'Richard', 'Arrow', 'sgn', 'tiles', 'listed', 'embankment', 'taken', 'eaten', 'sums', 'Natalie', 'bushes', 'containers', 'blueberries', 'zucchinis', 'shortest', 'adding', 'stay', 'nights', 'prices', 'include', 'cereal', 'say', 'liter', 'container', 'kPa', 'discriminant', 'dig', 'foundation', 'Darren', 'clams', 'daily', 'Fergie', 'Zachary', 'Clare', 'study', 'found', 'women', 'funding', 'research', 'connecting', 'Phi', 'varphi', 'writes', 'hole', 'Jill', 'min', 'rents', 'cubes', 'Ted', 'Sally', 'free', 'attempts', 'rode', 'Jaclyn', 'monic', 'ar', 'powers', 'places', 'outside', 'refill', 'absent', 'hoses', 'count', 'bows', 'Enter', 'Next', 'raised', 'oslash', 'stools', 'successfully', 'father', 'letter', 'eleventh', 'stored', 'start', 'Joules', 'decides', 'material', 'Provide', 'footnotesize', 'flight', 'stairs', 'ABCD', 'carton', 'dates', 'Juan', 'subtracted', 'chocolate', 'candies', 'multiples', 'horse', 'go', 'revolutions', 'mathrm', 'described', 'Xanthia', 'Molly', 'Cx', 'Terrell', 'weights', 'lift', 'Class', 'centered', 'class', 'latest', 'seven', 'theta', 'Cedric', 'compare', 'minimal', 'continued', 'figure', 'shaded', 'Harry', 'younger', 'intersectionpoint', 'receive', 'Alec', 'plans', 'dog', 'Seven', 'Elmo', 'peanut', 'butter', 'nonconstant', 'jellybeans', 'tree', 'ccc', 'local', 'males', 'debt', 'accumulates', 'Angela', 'priced', 'Ben', 'along', 'pebbles', 'bookstore', 'approach', 'rather', 'cucumbers', 'obtainable', 'vertically', 'horizontally', 'beans', 'Shea', 'corn', 'Jordan', 'Steve', 'wall', 'maximize', 'BoatWorks', 'properties', 'Manu', 'orange', 'Sean', 'painters', 'job', 'south', 'north', 'etc', 'paints', 'Diana', 'Eduardo', 'Chad', 'Faye', 'tub', 'Frederick', 'born', 'filldraw', 'aluminum', 'recycled', 'relatively', 'member', 'pond', 'Bao', 'woman', 'grains', 'rice', 'bullet', 'utility', 'relation', 'getting', 'Piravena', 'entirely', 'kilometer', 'Lulu', 'delta', 'phi', 'pie', 'oplus', 'K', 'pasture', 'barn', 'lollipops', 'dotsb', 'reads', 'teacher', 'grandfather', 'items', 'mathbf', 'mathit', 'cheese', 'mouse', 'mediumgrey', 'others', 'loose', 'loses', 'leading', 'Springfield', 'Super', 'High', 'Yield', 'accounts', 'Lucy', 'tfrac', 'geometrically', 'training', 'triathlon', 'bikes', 'parking', 'shoes', 'catching', 'runs', 'workout', 'Krzysztof', 'mb', 'polygon', 'diagonals', 'author', 'completed', 'BeginArrow', 'twins', 'Mackenzie', 'May', 'halfway', 'Lee', 'cse', 'Engineers', 'crushing', 'load', 'pillars', 'PQR', 'labelled', 'currently', 'Vertex', 'seated', 'fourths', 'empty', 'ending', 'Max', 'dirt', 'upfront', 'dx', 'Ay', 'Antonette', 'tests', 'engineer', 'worth', 'moon', 'earth', 'layers', 'supermarket', 'independently', 'heard', 'dimes', 'currentprojection', 'orthographic', 'yd', 'statement', 'rise', 'Homewood', 'Middle', 'boy', 'girl', 'traded', 'Circles', 'centers', 'alternatively', 'Anisha', 'grocer', 'lower', 'basketball', 'successful', 'Frood', 'Eating', 'hot', 'likes', 'Popsicle', 'keeps', 'consumption', 'Popsicles', 'Uri', 'Gen', 'Kevin', 'Kangaroo', 'hopping', 'tires', 'hopped', 'hops', 'Jane', 'Alice', 'beneath', 'Dr', 'Fu', 'Manchu', 'fiftieth', 'alone', 'remains', 'mowed', 'walks', 'median', 'plot', 'regions', 'horizontal', 'foreign', 'exchange', 'Paris', 'accepts', 'neither', 'contribute', 'euro', 'USD', 'Lucky', 'Lacy', 'missed', 'Jana', 'overlaid', 'grouped', 'alphabet', 'assigned', 'random', 'word', 'MATH', 'TEAM', 'MEET', 'city', 'taxation', 'thousand', 'Take', 'electronics', 'popularity', 'theory', 'numerically', 'Dime', 'rotated', 'Bernard', 'precedes', 'park', 'shows', 'although', 'appear', 'appears', 'borrow', 'options', 'accrue', 'lump', 'schemes', 'studying', 'exception', 'stages', 'toothpick', 'solves', 'exist', 'Since', 'representing', 'Mars', 'possibilities', 'coincides', 'U', 'linearly', 'XZ', 'ZY', 'fg', 'gh', 'hj', 'fj', 'pure', 'Salt', 'Lake', 'UT', 'noon', 'Starting', 'Shaffiq', 'divides', 'reaches', 'inverses', 'Theodore', 'Sturgeon', 'paperback', 'Theresa', 'copy', 'Ramon', 'item', 'primes', 'appearance', 'mathematical', 'apply', 'radicals', 'everyday', 'Hardey', 'Fitness', 'Center', 'management', 'survey', 'Quantities', 'thousandths', 'CB', 'Ap', 'Bp', 'Cp', 'possibly', 'lab', 'require', 'wx', 'Academic', 'Academy', 'miss', 'occur', 'py', 'mnp', 'randomly', 'choose', 'window', 'bounce', 'rises', 'caught', 'hitting', 'meter', 'travelled', 'tick', 'mark', 'alternate', 'Eight', 'cylindrical', 'differences', 'constructing', 'around', 'tennis', 'Regulation', 'states', 'accommodate', 'benches', 'storage', 'optimal', 'Six', 'labeled', 'intersections', 'except', 'Karen', 'drove', 'continuously', 'AMC', 'awarding', 'looking', 'attempt', 'leave', 'correctly', 'signs', 'acd', 'curve', 'cg', 'government', 'bond', 'Topsoil', 'topsoil', 'evidence', 'includes', 'Based', 'call', 'ounce', 'stirred', 'While', 'watching', 'circus', 'elephants', 'see', 'land', 'restrict', 'polygons', 'Eighty', 'Complex', 'often', 'dealing', 'alternating', 'AC', 'circuits', 'IZ', 'voltage', 'known', 'impedance', 'Joanie', 'columns', 'experiment', 'jx', 'symbols', 'dotsm', 'everyone', 'denominators', 'building', 'bordered', 'rods', 'connectors', 'connector', 'rod', 'homeowners', 'plan', 'middle', 'ascending', 'rectangles', 'trips', 'forms', 'Fully', 'twenty', 'blueberry', 'yields', 'trade', 'forty', 'charging', 'thereafter', 'Noah', 'living', 'evenly', 'divide', 'tens', 'planning', 'Unfortunately', 'sick', 'No', 'ca', 'Together', 'mathbb', 'Fat', 'Thin', 'emph', 'Among', 'question', 'NEI', 'sample', 'oxygen', 'move', 'Tim', 'edges', 'ad', 'steadily', 'apartment', 'numbered', 'Ethan', 'Gertie', 'repayments', 'change', 'nickel', 'nickels', 'farthest', 'cccc', 'away', 'among', 'ways', 'whereas', 'managed', 'lose', 'support', 'medical', 'supported', 'pinky', 'applies', 'ring', 'applying', 'suppose', 'longest', 'quadrilateral', 'Its', 'sin', 'Place', 'including', 'hill', 'max', 'whichever', 'similarly', 'Shown', 'Ivan', 'drives', 'party', 'town', 'agree', 'locations', 'location', 'Anthony', 'throw', 'success', 'Fran', 'rides', 'Marcelle', 'think', 'involving', 'Later', 'tired', 'simplify', 'exponents', 'measures', 'carpet', 'Rural', 'USA', 'enrolled', 'moment', 'remove', 'filled', 'since', 'jumbo', 'As', 'meets', 'extended', 'shares', 'treasure', 'interesting', 'distributed', 'gold', 'competition', 'held', 'stool', 'Po', 'said', 'Type', 'option', 'Rosa', 'Rose', 'Shop', 'equilateral', 'configuration', 'stores', 'produces', 'Exhausted', 'fewer', 'manages', 'freight', 'minute', 'Wendy', 'Milton', 'spilled', 'stain', 'cats', 'returns', 'road', 'mm', 'Climbing', 'Jimmy', 'climb', 'flights', 'purchases', 'Sanchez', 'asked', 'mistake', 'Maria', 'union', 'intervals', 'Machiavelli', 'television', 'discounted', 'slashed', 'liquidation', 'reduced', 'share', 'Use', 'Sam', 'hired', 'earnings', 'merry', 'AE', 'CD', 'late', 'Jenna', 'due', 'date', 'Exactly', 'reading', 'prism', 'machine', 'input', 'currentpen', 'Multiply', 'Compare', 'Add', 'Subtract', 'Out', 'Sin', 'usually', 'lifts', 'sections', 'First', 'Business', 'Economy', 'attainable', 'perimeters', 'Abraham', 'removing', 'leftmost', 'ninth', 'Kyle', 'sixteenth', 'seventeenth', 'Phoenix', 'Rocky', 'Path', 'Trail', 'averaged', 'hike', 'trail', 'raises', 'hd', 'rebounds', 'hits', 'rccccc', 'rd', 'strictly', 'Sixteen', 'straight', 'factory', 'production', 'Dave', 'indefinitely', 'dotfactor', 'mathematician', 'drinks', 'wish', 'Hogwarts', 'lvert', 'rvert', 'solving', 'Positive', 'rs', 'believes', 'related', 'believe', 'binomials', 'Both', 'dad', 'thirty', 'within', 'mutually', 'externally', 'radii', 'entrance', 'shopping', 'warehouse', 'allow', 'tied', 'post', 'rope', 'fundraiser', 'sandwich', 'globs', 'glob', 'blobs', 'blob', 'spaced', 'farmer', 'Separate', 'gasoline', 'marble', 'play', 'rolling', 'player', 'awarded', 'Jenny', 'remained', 'accidentally', 'subtracting', 'Working', 'Xenia', 'hourly', 'wage', 'Participation', 'soccer', 'higher', 'females', 'participating', 'participants', 'borrowing', 'offers', 'everything', 'nested', 'abcd', 'satisfied', 'regularly', 'coupon', 'discount', 'final', 'person', 'mows', 'uphill', 'hr', 'Murtha', 'collection', 'twelfth', 'Perry', 'Hotter', 'offering', 'clever', 'shopper', 'realizes', 'depending', 'save', 'taking', 'better', 'Tyler', 'Lines', 'Krista', 'Sunday', 'morning', 'exceed', 'downwards', 'translated', 'Corn', 'ran', 'rates', 'leaves', 'board', 'remain', 'Heidi', 'Eleven', 'seventy', 'deciding', 'books', 'sold', 'revenue', 'March', 'occurs', 'convenience', 'sq', 'longer', 'Carlos', 'flipping', 'flip', 'wins', 'win', 'sign', 'painter', 'appropriate', 'collect', 'Monica', 'shorter', 'dispense', 'grandparents', 'gave', 'gift', 'Consecutive', 'place', 'elongated', 'stands', 'Marina', 'eventually', 'Remember', 'newer', 'Do', 'determined', 'director', 'arranges', 'reduces', 'covering', 'Smith', 'magic', 'column', 'later', 'chessboard', 'puts', 'soon', 'Samson', 'derives', 'Utility', 'done', 'plays', 'spending', 'playing', 'Answer', 'proportionality', 'stays', 'parts', 'cities', 'angled', 'booking', 'flew', 'fly', 'leg', 'With', 'Karl', 'attempting', 'economic', 'fp', 'cow', 'altogether', 'Every', 'kicked', 'join', 'elected', 'become', 'fifteen', 'Moving', 'applications', 'cliff', 'picking', 'odometer', 'picks', 'drops', 'drive', 'combination', 'asks', 'calculates', 'twelve', 'Scott', 'completes', 'Noelle', 'assignment', 'rightarrow', 'Janice', 'farther', 'closer'] \n",
            " <class 'list'>\n"
          ]
        }
      ],
      "source": [
        "list = mwl['Word'].tolist()\n",
        "\n",
        "print(\"the list of a single column from the dataframe\\n\",\n",
        "        list,\n",
        "        \"\\n\",\n",
        "        type(list))"
      ]
    },
    {
      "cell_type": "markdown",
      "metadata": {
        "id": "EY3jmEqNzMZC"
      },
      "source": [
        "Count the words which are having more than 6 alphabets."
      ]
    },
    {
      "cell_type": "code",
      "execution_count": 22,
      "metadata": {
        "id": "_ZgpagZxy-LG"
      },
      "outputs": [],
      "source": [
        "def countWords(mwl_col):\n",
        "    words = mwl_col.split()\n",
        "    count = 0\n",
        "    for word in words:\n",
        "        if len(word) > 6:\n",
        "            count += 1\n",
        "    return count"
      ]
    },
    {
      "cell_type": "code",
      "execution_count": 23,
      "metadata": {
        "id": "OtWoMT1azO0G"
      },
      "outputs": [],
      "source": [
        "mwl['word_count'] = mwl['Word'].apply(countWords)"
      ]
    },
    {
      "cell_type": "code",
      "execution_count": 24,
      "metadata": {
        "colab": {
          "base_uri": "https://localhost:8080/",
          "height": 206
        },
        "id": "iiIC9MWszQc9",
        "outputId": "f1be87ac-a145-43f1-c2dd-691baceca85b"
      },
      "outputs": [
        {
          "output_type": "execute_result",
          "data": {
            "text/plain": [
              "   Word  word_count\n",
              "0     x           0\n",
              "1  What           0\n",
              "2  frac           0\n",
              "3     f           0\n",
              "4     b           0"
            ],
            "text/html": [
              "\n",
              "  <div id=\"df-51bf5cb7-76e6-478c-a58e-5ad4c8b64754\">\n",
              "    <div class=\"colab-df-container\">\n",
              "      <div>\n",
              "<style scoped>\n",
              "    .dataframe tbody tr th:only-of-type {\n",
              "        vertical-align: middle;\n",
              "    }\n",
              "\n",
              "    .dataframe tbody tr th {\n",
              "        vertical-align: top;\n",
              "    }\n",
              "\n",
              "    .dataframe thead th {\n",
              "        text-align: right;\n",
              "    }\n",
              "</style>\n",
              "<table border=\"1\" class=\"dataframe\">\n",
              "  <thead>\n",
              "    <tr style=\"text-align: right;\">\n",
              "      <th></th>\n",
              "      <th>Word</th>\n",
              "      <th>word_count</th>\n",
              "    </tr>\n",
              "  </thead>\n",
              "  <tbody>\n",
              "    <tr>\n",
              "      <th>0</th>\n",
              "      <td>x</td>\n",
              "      <td>0</td>\n",
              "    </tr>\n",
              "    <tr>\n",
              "      <th>1</th>\n",
              "      <td>What</td>\n",
              "      <td>0</td>\n",
              "    </tr>\n",
              "    <tr>\n",
              "      <th>2</th>\n",
              "      <td>frac</td>\n",
              "      <td>0</td>\n",
              "    </tr>\n",
              "    <tr>\n",
              "      <th>3</th>\n",
              "      <td>f</td>\n",
              "      <td>0</td>\n",
              "    </tr>\n",
              "    <tr>\n",
              "      <th>4</th>\n",
              "      <td>b</td>\n",
              "      <td>0</td>\n",
              "    </tr>\n",
              "  </tbody>\n",
              "</table>\n",
              "</div>\n",
              "      <button class=\"colab-df-convert\" onclick=\"convertToInteractive('df-51bf5cb7-76e6-478c-a58e-5ad4c8b64754')\"\n",
              "              title=\"Convert this dataframe to an interactive table.\"\n",
              "              style=\"display:none;\">\n",
              "        \n",
              "  <svg xmlns=\"http://www.w3.org/2000/svg\" height=\"24px\"viewBox=\"0 0 24 24\"\n",
              "       width=\"24px\">\n",
              "    <path d=\"M0 0h24v24H0V0z\" fill=\"none\"/>\n",
              "    <path d=\"M18.56 5.44l.94 2.06.94-2.06 2.06-.94-2.06-.94-.94-2.06-.94 2.06-2.06.94zm-11 1L8.5 8.5l.94-2.06 2.06-.94-2.06-.94L8.5 2.5l-.94 2.06-2.06.94zm10 10l.94 2.06.94-2.06 2.06-.94-2.06-.94-.94-2.06-.94 2.06-2.06.94z\"/><path d=\"M17.41 7.96l-1.37-1.37c-.4-.4-.92-.59-1.43-.59-.52 0-1.04.2-1.43.59L10.3 9.45l-7.72 7.72c-.78.78-.78 2.05 0 2.83L4 21.41c.39.39.9.59 1.41.59.51 0 1.02-.2 1.41-.59l7.78-7.78 2.81-2.81c.8-.78.8-2.07 0-2.86zM5.41 20L4 18.59l7.72-7.72 1.47 1.35L5.41 20z\"/>\n",
              "  </svg>\n",
              "      </button>\n",
              "      \n",
              "  <style>\n",
              "    .colab-df-container {\n",
              "      display:flex;\n",
              "      flex-wrap:wrap;\n",
              "      gap: 12px;\n",
              "    }\n",
              "\n",
              "    .colab-df-convert {\n",
              "      background-color: #E8F0FE;\n",
              "      border: none;\n",
              "      border-radius: 50%;\n",
              "      cursor: pointer;\n",
              "      display: none;\n",
              "      fill: #1967D2;\n",
              "      height: 32px;\n",
              "      padding: 0 0 0 0;\n",
              "      width: 32px;\n",
              "    }\n",
              "\n",
              "    .colab-df-convert:hover {\n",
              "      background-color: #E2EBFA;\n",
              "      box-shadow: 0px 1px 2px rgba(60, 64, 67, 0.3), 0px 1px 3px 1px rgba(60, 64, 67, 0.15);\n",
              "      fill: #174EA6;\n",
              "    }\n",
              "\n",
              "    [theme=dark] .colab-df-convert {\n",
              "      background-color: #3B4455;\n",
              "      fill: #D2E3FC;\n",
              "    }\n",
              "\n",
              "    [theme=dark] .colab-df-convert:hover {\n",
              "      background-color: #434B5C;\n",
              "      box-shadow: 0px 1px 3px 1px rgba(0, 0, 0, 0.15);\n",
              "      filter: drop-shadow(0px 1px 2px rgba(0, 0, 0, 0.3));\n",
              "      fill: #FFFFFF;\n",
              "    }\n",
              "  </style>\n",
              "\n",
              "      <script>\n",
              "        const buttonEl =\n",
              "          document.querySelector('#df-51bf5cb7-76e6-478c-a58e-5ad4c8b64754 button.colab-df-convert');\n",
              "        buttonEl.style.display =\n",
              "          google.colab.kernel.accessAllowed ? 'block' : 'none';\n",
              "\n",
              "        async function convertToInteractive(key) {\n",
              "          const element = document.querySelector('#df-51bf5cb7-76e6-478c-a58e-5ad4c8b64754');\n",
              "          const dataTable =\n",
              "            await google.colab.kernel.invokeFunction('convertToInteractive',\n",
              "                                                     [key], {});\n",
              "          if (!dataTable) return;\n",
              "\n",
              "          const docLinkHtml = 'Like what you see? Visit the ' +\n",
              "            '<a target=\"_blank\" href=https://colab.research.google.com/notebooks/data_table.ipynb>data table notebook</a>'\n",
              "            + ' to learn more about interactive tables.';\n",
              "          element.innerHTML = '';\n",
              "          dataTable['output_type'] = 'display_data';\n",
              "          await google.colab.output.renderOutput(dataTable, element);\n",
              "          const docLink = document.createElement('div');\n",
              "          docLink.innerHTML = docLinkHtml;\n",
              "          element.appendChild(docLink);\n",
              "        }\n",
              "      </script>\n",
              "    </div>\n",
              "  </div>\n",
              "  "
            ]
          },
          "metadata": {},
          "execution_count": 24
        }
      ],
      "source": [
        "mwl.head(5)"
      ]
    },
    {
      "cell_type": "code",
      "execution_count": 25,
      "metadata": {
        "colab": {
          "base_uri": "https://localhost:8080/"
        },
        "id": "5VtRLDLfzSEr",
        "outputId": "260b4156-edcc-44a0-f3b6-a230d516c2f2"
      },
      "outputs": [
        {
          "output_type": "execute_result",
          "data": {
            "text/plain": [
              "(2258, 2)"
            ]
          },
          "metadata": {},
          "execution_count": 25
        }
      ],
      "source": [
        "mwl.shape"
      ]
    },
    {
      "cell_type": "code",
      "execution_count": 26,
      "metadata": {
        "id": "38FtRbW_zT-m"
      },
      "outputs": [],
      "source": [
        "mwl_complex = mwl.loc[mwl['word_count'] == 1]"
      ]
    },
    {
      "cell_type": "code",
      "execution_count": 27,
      "metadata": {
        "colab": {
          "base_uri": "https://localhost:8080/",
          "height": 206
        },
        "id": "Lvek5ANrzVp0",
        "outputId": "3d9e6a5d-cb68-4f1e-9e6f-bac5705e8cd3"
      },
      "outputs": [
        {
          "output_type": "execute_result",
          "data": {
            "text/plain": [
              "        Word  word_count\n",
              "20   Express           1\n",
              "21  integers           1\n",
              "22  equation           1\n",
              "25  positive           1\n",
              "30   numbers           1"
            ],
            "text/html": [
              "\n",
              "  <div id=\"df-c4e16cd3-c8bd-41d7-9b27-a4f69fadd172\">\n",
              "    <div class=\"colab-df-container\">\n",
              "      <div>\n",
              "<style scoped>\n",
              "    .dataframe tbody tr th:only-of-type {\n",
              "        vertical-align: middle;\n",
              "    }\n",
              "\n",
              "    .dataframe tbody tr th {\n",
              "        vertical-align: top;\n",
              "    }\n",
              "\n",
              "    .dataframe thead th {\n",
              "        text-align: right;\n",
              "    }\n",
              "</style>\n",
              "<table border=\"1\" class=\"dataframe\">\n",
              "  <thead>\n",
              "    <tr style=\"text-align: right;\">\n",
              "      <th></th>\n",
              "      <th>Word</th>\n",
              "      <th>word_count</th>\n",
              "    </tr>\n",
              "  </thead>\n",
              "  <tbody>\n",
              "    <tr>\n",
              "      <th>20</th>\n",
              "      <td>Express</td>\n",
              "      <td>1</td>\n",
              "    </tr>\n",
              "    <tr>\n",
              "      <th>21</th>\n",
              "      <td>integers</td>\n",
              "      <td>1</td>\n",
              "    </tr>\n",
              "    <tr>\n",
              "      <th>22</th>\n",
              "      <td>equation</td>\n",
              "      <td>1</td>\n",
              "    </tr>\n",
              "    <tr>\n",
              "      <th>25</th>\n",
              "      <td>positive</td>\n",
              "      <td>1</td>\n",
              "    </tr>\n",
              "    <tr>\n",
              "      <th>30</th>\n",
              "      <td>numbers</td>\n",
              "      <td>1</td>\n",
              "    </tr>\n",
              "  </tbody>\n",
              "</table>\n",
              "</div>\n",
              "      <button class=\"colab-df-convert\" onclick=\"convertToInteractive('df-c4e16cd3-c8bd-41d7-9b27-a4f69fadd172')\"\n",
              "              title=\"Convert this dataframe to an interactive table.\"\n",
              "              style=\"display:none;\">\n",
              "        \n",
              "  <svg xmlns=\"http://www.w3.org/2000/svg\" height=\"24px\"viewBox=\"0 0 24 24\"\n",
              "       width=\"24px\">\n",
              "    <path d=\"M0 0h24v24H0V0z\" fill=\"none\"/>\n",
              "    <path d=\"M18.56 5.44l.94 2.06.94-2.06 2.06-.94-2.06-.94-.94-2.06-.94 2.06-2.06.94zm-11 1L8.5 8.5l.94-2.06 2.06-.94-2.06-.94L8.5 2.5l-.94 2.06-2.06.94zm10 10l.94 2.06.94-2.06 2.06-.94-2.06-.94-.94-2.06-.94 2.06-2.06.94z\"/><path d=\"M17.41 7.96l-1.37-1.37c-.4-.4-.92-.59-1.43-.59-.52 0-1.04.2-1.43.59L10.3 9.45l-7.72 7.72c-.78.78-.78 2.05 0 2.83L4 21.41c.39.39.9.59 1.41.59.51 0 1.02-.2 1.41-.59l7.78-7.78 2.81-2.81c.8-.78.8-2.07 0-2.86zM5.41 20L4 18.59l7.72-7.72 1.47 1.35L5.41 20z\"/>\n",
              "  </svg>\n",
              "      </button>\n",
              "      \n",
              "  <style>\n",
              "    .colab-df-container {\n",
              "      display:flex;\n",
              "      flex-wrap:wrap;\n",
              "      gap: 12px;\n",
              "    }\n",
              "\n",
              "    .colab-df-convert {\n",
              "      background-color: #E8F0FE;\n",
              "      border: none;\n",
              "      border-radius: 50%;\n",
              "      cursor: pointer;\n",
              "      display: none;\n",
              "      fill: #1967D2;\n",
              "      height: 32px;\n",
              "      padding: 0 0 0 0;\n",
              "      width: 32px;\n",
              "    }\n",
              "\n",
              "    .colab-df-convert:hover {\n",
              "      background-color: #E2EBFA;\n",
              "      box-shadow: 0px 1px 2px rgba(60, 64, 67, 0.3), 0px 1px 3px 1px rgba(60, 64, 67, 0.15);\n",
              "      fill: #174EA6;\n",
              "    }\n",
              "\n",
              "    [theme=dark] .colab-df-convert {\n",
              "      background-color: #3B4455;\n",
              "      fill: #D2E3FC;\n",
              "    }\n",
              "\n",
              "    [theme=dark] .colab-df-convert:hover {\n",
              "      background-color: #434B5C;\n",
              "      box-shadow: 0px 1px 3px 1px rgba(0, 0, 0, 0.15);\n",
              "      filter: drop-shadow(0px 1px 2px rgba(0, 0, 0, 0.3));\n",
              "      fill: #FFFFFF;\n",
              "    }\n",
              "  </style>\n",
              "\n",
              "      <script>\n",
              "        const buttonEl =\n",
              "          document.querySelector('#df-c4e16cd3-c8bd-41d7-9b27-a4f69fadd172 button.colab-df-convert');\n",
              "        buttonEl.style.display =\n",
              "          google.colab.kernel.accessAllowed ? 'block' : 'none';\n",
              "\n",
              "        async function convertToInteractive(key) {\n",
              "          const element = document.querySelector('#df-c4e16cd3-c8bd-41d7-9b27-a4f69fadd172');\n",
              "          const dataTable =\n",
              "            await google.colab.kernel.invokeFunction('convertToInteractive',\n",
              "                                                     [key], {});\n",
              "          if (!dataTable) return;\n",
              "\n",
              "          const docLinkHtml = 'Like what you see? Visit the ' +\n",
              "            '<a target=\"_blank\" href=https://colab.research.google.com/notebooks/data_table.ipynb>data table notebook</a>'\n",
              "            + ' to learn more about interactive tables.';\n",
              "          element.innerHTML = '';\n",
              "          dataTable['output_type'] = 'display_data';\n",
              "          await google.colab.output.renderOutput(dataTable, element);\n",
              "          const docLink = document.createElement('div');\n",
              "          docLink.innerHTML = docLinkHtml;\n",
              "          element.appendChild(docLink);\n",
              "        }\n",
              "      </script>\n",
              "    </div>\n",
              "  </div>\n",
              "  "
            ]
          },
          "metadata": {},
          "execution_count": 27
        }
      ],
      "source": [
        "mwl_complex.head()"
      ]
    },
    {
      "cell_type": "code",
      "execution_count": 28,
      "metadata": {
        "colab": {
          "base_uri": "https://localhost:8080/",
          "height": 206
        },
        "id": "H4-TE_i9zntW",
        "outputId": "9374ef15-f12b-4aba-cf27-01515e445642"
      },
      "outputs": [
        {
          "output_type": "execute_result",
          "data": {
            "text/plain": [
              "            Word  word_count\n",
              "2248  calculates           1\n",
              "2251   completes           1\n",
              "2253  assignment           1\n",
              "2254  rightarrow           1\n",
              "2256     farther           1"
            ],
            "text/html": [
              "\n",
              "  <div id=\"df-b443996f-0913-4c76-9ba1-9b1630fa5dcc\">\n",
              "    <div class=\"colab-df-container\">\n",
              "      <div>\n",
              "<style scoped>\n",
              "    .dataframe tbody tr th:only-of-type {\n",
              "        vertical-align: middle;\n",
              "    }\n",
              "\n",
              "    .dataframe tbody tr th {\n",
              "        vertical-align: top;\n",
              "    }\n",
              "\n",
              "    .dataframe thead th {\n",
              "        text-align: right;\n",
              "    }\n",
              "</style>\n",
              "<table border=\"1\" class=\"dataframe\">\n",
              "  <thead>\n",
              "    <tr style=\"text-align: right;\">\n",
              "      <th></th>\n",
              "      <th>Word</th>\n",
              "      <th>word_count</th>\n",
              "    </tr>\n",
              "  </thead>\n",
              "  <tbody>\n",
              "    <tr>\n",
              "      <th>2248</th>\n",
              "      <td>calculates</td>\n",
              "      <td>1</td>\n",
              "    </tr>\n",
              "    <tr>\n",
              "      <th>2251</th>\n",
              "      <td>completes</td>\n",
              "      <td>1</td>\n",
              "    </tr>\n",
              "    <tr>\n",
              "      <th>2253</th>\n",
              "      <td>assignment</td>\n",
              "      <td>1</td>\n",
              "    </tr>\n",
              "    <tr>\n",
              "      <th>2254</th>\n",
              "      <td>rightarrow</td>\n",
              "      <td>1</td>\n",
              "    </tr>\n",
              "    <tr>\n",
              "      <th>2256</th>\n",
              "      <td>farther</td>\n",
              "      <td>1</td>\n",
              "    </tr>\n",
              "  </tbody>\n",
              "</table>\n",
              "</div>\n",
              "      <button class=\"colab-df-convert\" onclick=\"convertToInteractive('df-b443996f-0913-4c76-9ba1-9b1630fa5dcc')\"\n",
              "              title=\"Convert this dataframe to an interactive table.\"\n",
              "              style=\"display:none;\">\n",
              "        \n",
              "  <svg xmlns=\"http://www.w3.org/2000/svg\" height=\"24px\"viewBox=\"0 0 24 24\"\n",
              "       width=\"24px\">\n",
              "    <path d=\"M0 0h24v24H0V0z\" fill=\"none\"/>\n",
              "    <path d=\"M18.56 5.44l.94 2.06.94-2.06 2.06-.94-2.06-.94-.94-2.06-.94 2.06-2.06.94zm-11 1L8.5 8.5l.94-2.06 2.06-.94-2.06-.94L8.5 2.5l-.94 2.06-2.06.94zm10 10l.94 2.06.94-2.06 2.06-.94-2.06-.94-.94-2.06-.94 2.06-2.06.94z\"/><path d=\"M17.41 7.96l-1.37-1.37c-.4-.4-.92-.59-1.43-.59-.52 0-1.04.2-1.43.59L10.3 9.45l-7.72 7.72c-.78.78-.78 2.05 0 2.83L4 21.41c.39.39.9.59 1.41.59.51 0 1.02-.2 1.41-.59l7.78-7.78 2.81-2.81c.8-.78.8-2.07 0-2.86zM5.41 20L4 18.59l7.72-7.72 1.47 1.35L5.41 20z\"/>\n",
              "  </svg>\n",
              "      </button>\n",
              "      \n",
              "  <style>\n",
              "    .colab-df-container {\n",
              "      display:flex;\n",
              "      flex-wrap:wrap;\n",
              "      gap: 12px;\n",
              "    }\n",
              "\n",
              "    .colab-df-convert {\n",
              "      background-color: #E8F0FE;\n",
              "      border: none;\n",
              "      border-radius: 50%;\n",
              "      cursor: pointer;\n",
              "      display: none;\n",
              "      fill: #1967D2;\n",
              "      height: 32px;\n",
              "      padding: 0 0 0 0;\n",
              "      width: 32px;\n",
              "    }\n",
              "\n",
              "    .colab-df-convert:hover {\n",
              "      background-color: #E2EBFA;\n",
              "      box-shadow: 0px 1px 2px rgba(60, 64, 67, 0.3), 0px 1px 3px 1px rgba(60, 64, 67, 0.15);\n",
              "      fill: #174EA6;\n",
              "    }\n",
              "\n",
              "    [theme=dark] .colab-df-convert {\n",
              "      background-color: #3B4455;\n",
              "      fill: #D2E3FC;\n",
              "    }\n",
              "\n",
              "    [theme=dark] .colab-df-convert:hover {\n",
              "      background-color: #434B5C;\n",
              "      box-shadow: 0px 1px 3px 1px rgba(0, 0, 0, 0.15);\n",
              "      filter: drop-shadow(0px 1px 2px rgba(0, 0, 0, 0.3));\n",
              "      fill: #FFFFFF;\n",
              "    }\n",
              "  </style>\n",
              "\n",
              "      <script>\n",
              "        const buttonEl =\n",
              "          document.querySelector('#df-b443996f-0913-4c76-9ba1-9b1630fa5dcc button.colab-df-convert');\n",
              "        buttonEl.style.display =\n",
              "          google.colab.kernel.accessAllowed ? 'block' : 'none';\n",
              "\n",
              "        async function convertToInteractive(key) {\n",
              "          const element = document.querySelector('#df-b443996f-0913-4c76-9ba1-9b1630fa5dcc');\n",
              "          const dataTable =\n",
              "            await google.colab.kernel.invokeFunction('convertToInteractive',\n",
              "                                                     [key], {});\n",
              "          if (!dataTable) return;\n",
              "\n",
              "          const docLinkHtml = 'Like what you see? Visit the ' +\n",
              "            '<a target=\"_blank\" href=https://colab.research.google.com/notebooks/data_table.ipynb>data table notebook</a>'\n",
              "            + ' to learn more about interactive tables.';\n",
              "          element.innerHTML = '';\n",
              "          dataTable['output_type'] = 'display_data';\n",
              "          await google.colab.output.renderOutput(dataTable, element);\n",
              "          const docLink = document.createElement('div');\n",
              "          docLink.innerHTML = docLinkHtml;\n",
              "          element.appendChild(docLink);\n",
              "        }\n",
              "      </script>\n",
              "    </div>\n",
              "  </div>\n",
              "  "
            ]
          },
          "metadata": {},
          "execution_count": 28
        }
      ],
      "source": [
        "mwl_complex.tail()"
      ]
    },
    {
      "cell_type": "markdown",
      "metadata": {
        "id": "RivpI5FSzZfU"
      },
      "source": [
        "**Here we defined that complex words are those words which are more than 6 characters**"
      ]
    },
    {
      "cell_type": "code",
      "execution_count": 29,
      "metadata": {
        "colab": {
          "base_uri": "https://localhost:8080/"
        },
        "id": "TCmZ0p7kzrsx",
        "outputId": "4a8141e5-3d16-4dd6-c26c-3fdb288ccc33"
      },
      "outputs": [
        {
          "output_type": "execute_result",
          "data": {
            "text/plain": [
              "(880, 2)"
            ]
          },
          "metadata": {},
          "execution_count": 29
        }
      ],
      "source": [
        "mwl_complex.shape"
      ]
    },
    {
      "cell_type": "markdown",
      "metadata": {
        "id": "NjVyJGZazwEc"
      },
      "source": [
        "Extracting math vocab words from the column 'Problem'"
      ]
    },
    {
      "cell_type": "code",
      "execution_count": 30,
      "metadata": {
        "colab": {
          "base_uri": "https://localhost:8080/"
        },
        "id": "dZm2Scz7zXOH",
        "outputId": "03a12de0-2f70-40ea-dfe1-4f4736065abe"
      },
      "outputs": [
        {
          "output_type": "stream",
          "name": "stdout",
          "text": [
            "                                               Problem     Level   sent_sum  \\\n",
            "0     There are constants    alpha  and    beta  suc...  Veryhigh         2   \n",
            "1     The length of the segment between the points  ...  Veryhigh         2   \n",
            "2     Chewbacca has 20 pieces of cherry gum and 30 p...  Veryhigh         5   \n",
            "3     For some constants  a  and  b,  let   [f(x) = ...  Veryhigh         3   \n",
            "4     Calculate the sum  1 + 3 + 5 +   cdots + 15 + ...       Low         1   \n",
            "...                                                 ...       ...       ...   \n",
            "1739  What is the slope of the line passing through ...       Low         1   \n",
            "1740  Evaluate  i^{11} + i^{16} + i^{21} + i^{26} + ...      High         1   \n",
            "1741  If  a  is a constant such that  4x^2 - 12x + a...  Moderate         1   \n",
            "1742  Given  a   star b = a^2 + 2ab + b^2 , what is ...  Moderate         1   \n",
            "1743  The graph of the function  f(x)  is shown belo...  Veryhigh         3   \n",
            "\n",
            "                                                   word  \n",
            "0     [There, constants, alpha, beta, frac, x, alpha...  \n",
            "1     [The, length, segment, points, sqrt, units, Wh...  \n",
            "2     [Chewbacca, pieces, cherry, gum, pieces, grape...  \n",
            "3     [For, constants, b, let, f, x, left, begin, ar...  \n",
            "4                               [Calculate, sum, cdots]  \n",
            "...                                                 ...  \n",
            "1739                       [What, slope, line, passing]  \n",
            "1740                                         [Evaluate]  \n",
            "1741                   [If, constant, square, binomial]  \n",
            "1742             [Given, star, b, b, value, star, b, b]  \n",
            "1743  [The, graph, function, f, x, shown, How, many,...  \n",
            "\n",
            "[1744 rows x 4 columns]\n"
          ]
        }
      ],
      "source": [
        "query = '|'.join(list)\n",
        "df['word'] = df['Problem '].str.findall(r'\\b({})\\b'.format(query))\n",
        "\n",
        "print(df)"
      ]
    },
    {
      "cell_type": "code",
      "execution_count": 31,
      "metadata": {
        "colab": {
          "base_uri": "https://localhost:8080/",
          "height": 206
        },
        "id": "zmhrUTbnzyod",
        "outputId": "5bade920-a16d-4f74-b0d9-32be6710760e"
      },
      "outputs": [
        {
          "output_type": "execute_result",
          "data": {
            "text/plain": [
              "                                            Problem     Level   sent_sum  \\\n",
              "0  There are constants    alpha  and    beta  suc...  Veryhigh         2   \n",
              "1  The length of the segment between the points  ...  Veryhigh         2   \n",
              "2  Chewbacca has 20 pieces of cherry gum and 30 p...  Veryhigh         5   \n",
              "3  For some constants  a  and  b,  let   [f(x) = ...  Veryhigh         3   \n",
              "4  Calculate the sum  1 + 3 + 5 +   cdots + 15 + ...       Low         1   \n",
              "\n",
              "                                                word  \n",
              "0  [There, constants, alpha, beta, frac, x, alpha...  \n",
              "1  [The, length, segment, points, sqrt, units, Wh...  \n",
              "2  [Chewbacca, pieces, cherry, gum, pieces, grape...  \n",
              "3  [For, constants, b, let, f, x, left, begin, ar...  \n",
              "4                            [Calculate, sum, cdots]  "
            ],
            "text/html": [
              "\n",
              "  <div id=\"df-22721bdf-d564-4151-ae1d-e33e5bae38a6\">\n",
              "    <div class=\"colab-df-container\">\n",
              "      <div>\n",
              "<style scoped>\n",
              "    .dataframe tbody tr th:only-of-type {\n",
              "        vertical-align: middle;\n",
              "    }\n",
              "\n",
              "    .dataframe tbody tr th {\n",
              "        vertical-align: top;\n",
              "    }\n",
              "\n",
              "    .dataframe thead th {\n",
              "        text-align: right;\n",
              "    }\n",
              "</style>\n",
              "<table border=\"1\" class=\"dataframe\">\n",
              "  <thead>\n",
              "    <tr style=\"text-align: right;\">\n",
              "      <th></th>\n",
              "      <th>Problem</th>\n",
              "      <th>Level</th>\n",
              "      <th>sent_sum</th>\n",
              "      <th>word</th>\n",
              "    </tr>\n",
              "  </thead>\n",
              "  <tbody>\n",
              "    <tr>\n",
              "      <th>0</th>\n",
              "      <td>There are constants    alpha  and    beta  suc...</td>\n",
              "      <td>Veryhigh</td>\n",
              "      <td>2</td>\n",
              "      <td>[There, constants, alpha, beta, frac, x, alpha...</td>\n",
              "    </tr>\n",
              "    <tr>\n",
              "      <th>1</th>\n",
              "      <td>The length of the segment between the points  ...</td>\n",
              "      <td>Veryhigh</td>\n",
              "      <td>2</td>\n",
              "      <td>[The, length, segment, points, sqrt, units, Wh...</td>\n",
              "    </tr>\n",
              "    <tr>\n",
              "      <th>2</th>\n",
              "      <td>Chewbacca has 20 pieces of cherry gum and 30 p...</td>\n",
              "      <td>Veryhigh</td>\n",
              "      <td>5</td>\n",
              "      <td>[Chewbacca, pieces, cherry, gum, pieces, grape...</td>\n",
              "    </tr>\n",
              "    <tr>\n",
              "      <th>3</th>\n",
              "      <td>For some constants  a  and  b,  let   [f(x) = ...</td>\n",
              "      <td>Veryhigh</td>\n",
              "      <td>3</td>\n",
              "      <td>[For, constants, b, let, f, x, left, begin, ar...</td>\n",
              "    </tr>\n",
              "    <tr>\n",
              "      <th>4</th>\n",
              "      <td>Calculate the sum  1 + 3 + 5 +   cdots + 15 + ...</td>\n",
              "      <td>Low</td>\n",
              "      <td>1</td>\n",
              "      <td>[Calculate, sum, cdots]</td>\n",
              "    </tr>\n",
              "  </tbody>\n",
              "</table>\n",
              "</div>\n",
              "      <button class=\"colab-df-convert\" onclick=\"convertToInteractive('df-22721bdf-d564-4151-ae1d-e33e5bae38a6')\"\n",
              "              title=\"Convert this dataframe to an interactive table.\"\n",
              "              style=\"display:none;\">\n",
              "        \n",
              "  <svg xmlns=\"http://www.w3.org/2000/svg\" height=\"24px\"viewBox=\"0 0 24 24\"\n",
              "       width=\"24px\">\n",
              "    <path d=\"M0 0h24v24H0V0z\" fill=\"none\"/>\n",
              "    <path d=\"M18.56 5.44l.94 2.06.94-2.06 2.06-.94-2.06-.94-.94-2.06-.94 2.06-2.06.94zm-11 1L8.5 8.5l.94-2.06 2.06-.94-2.06-.94L8.5 2.5l-.94 2.06-2.06.94zm10 10l.94 2.06.94-2.06 2.06-.94-2.06-.94-.94-2.06-.94 2.06-2.06.94z\"/><path d=\"M17.41 7.96l-1.37-1.37c-.4-.4-.92-.59-1.43-.59-.52 0-1.04.2-1.43.59L10.3 9.45l-7.72 7.72c-.78.78-.78 2.05 0 2.83L4 21.41c.39.39.9.59 1.41.59.51 0 1.02-.2 1.41-.59l7.78-7.78 2.81-2.81c.8-.78.8-2.07 0-2.86zM5.41 20L4 18.59l7.72-7.72 1.47 1.35L5.41 20z\"/>\n",
              "  </svg>\n",
              "      </button>\n",
              "      \n",
              "  <style>\n",
              "    .colab-df-container {\n",
              "      display:flex;\n",
              "      flex-wrap:wrap;\n",
              "      gap: 12px;\n",
              "    }\n",
              "\n",
              "    .colab-df-convert {\n",
              "      background-color: #E8F0FE;\n",
              "      border: none;\n",
              "      border-radius: 50%;\n",
              "      cursor: pointer;\n",
              "      display: none;\n",
              "      fill: #1967D2;\n",
              "      height: 32px;\n",
              "      padding: 0 0 0 0;\n",
              "      width: 32px;\n",
              "    }\n",
              "\n",
              "    .colab-df-convert:hover {\n",
              "      background-color: #E2EBFA;\n",
              "      box-shadow: 0px 1px 2px rgba(60, 64, 67, 0.3), 0px 1px 3px 1px rgba(60, 64, 67, 0.15);\n",
              "      fill: #174EA6;\n",
              "    }\n",
              "\n",
              "    [theme=dark] .colab-df-convert {\n",
              "      background-color: #3B4455;\n",
              "      fill: #D2E3FC;\n",
              "    }\n",
              "\n",
              "    [theme=dark] .colab-df-convert:hover {\n",
              "      background-color: #434B5C;\n",
              "      box-shadow: 0px 1px 3px 1px rgba(0, 0, 0, 0.15);\n",
              "      filter: drop-shadow(0px 1px 2px rgba(0, 0, 0, 0.3));\n",
              "      fill: #FFFFFF;\n",
              "    }\n",
              "  </style>\n",
              "\n",
              "      <script>\n",
              "        const buttonEl =\n",
              "          document.querySelector('#df-22721bdf-d564-4151-ae1d-e33e5bae38a6 button.colab-df-convert');\n",
              "        buttonEl.style.display =\n",
              "          google.colab.kernel.accessAllowed ? 'block' : 'none';\n",
              "\n",
              "        async function convertToInteractive(key) {\n",
              "          const element = document.querySelector('#df-22721bdf-d564-4151-ae1d-e33e5bae38a6');\n",
              "          const dataTable =\n",
              "            await google.colab.kernel.invokeFunction('convertToInteractive',\n",
              "                                                     [key], {});\n",
              "          if (!dataTable) return;\n",
              "\n",
              "          const docLinkHtml = 'Like what you see? Visit the ' +\n",
              "            '<a target=\"_blank\" href=https://colab.research.google.com/notebooks/data_table.ipynb>data table notebook</a>'\n",
              "            + ' to learn more about interactive tables.';\n",
              "          element.innerHTML = '';\n",
              "          dataTable['output_type'] = 'display_data';\n",
              "          await google.colab.output.renderOutput(dataTable, element);\n",
              "          const docLink = document.createElement('div');\n",
              "          docLink.innerHTML = docLinkHtml;\n",
              "          element.appendChild(docLink);\n",
              "        }\n",
              "      </script>\n",
              "    </div>\n",
              "  </div>\n",
              "  "
            ]
          },
          "metadata": {},
          "execution_count": 31
        }
      ],
      "source": [
        "df.head()"
      ]
    },
    {
      "cell_type": "markdown",
      "metadata": {
        "id": "GCSgY_1Bz4_d"
      },
      "source": [
        "Dropping the column 'Problem' from df"
      ]
    },
    {
      "cell_type": "code",
      "execution_count": 32,
      "metadata": {
        "id": "1mhBVSIuz1s5"
      },
      "outputs": [],
      "source": [
        "df_word = df.drop(['Problem '], axis = 1)"
      ]
    },
    {
      "cell_type": "code",
      "execution_count": 33,
      "metadata": {
        "colab": {
          "base_uri": "https://localhost:8080/",
          "height": 206
        },
        "id": "OCzV13RZz7Ft",
        "outputId": "2812359e-9315-4803-c6d2-b3765f526eaf"
      },
      "outputs": [
        {
          "output_type": "execute_result",
          "data": {
            "text/plain": [
              "     Level   sent_sum                                               word\n",
              "0  Veryhigh         2  [There, constants, alpha, beta, frac, x, alpha...\n",
              "1  Veryhigh         2  [The, length, segment, points, sqrt, units, Wh...\n",
              "2  Veryhigh         5  [Chewbacca, pieces, cherry, gum, pieces, grape...\n",
              "3  Veryhigh         3  [For, constants, b, let, f, x, left, begin, ar...\n",
              "4       Low         1                            [Calculate, sum, cdots]"
            ],
            "text/html": [
              "\n",
              "  <div id=\"df-733a1fde-092c-43e5-971a-c5141ef2fdd5\">\n",
              "    <div class=\"colab-df-container\">\n",
              "      <div>\n",
              "<style scoped>\n",
              "    .dataframe tbody tr th:only-of-type {\n",
              "        vertical-align: middle;\n",
              "    }\n",
              "\n",
              "    .dataframe tbody tr th {\n",
              "        vertical-align: top;\n",
              "    }\n",
              "\n",
              "    .dataframe thead th {\n",
              "        text-align: right;\n",
              "    }\n",
              "</style>\n",
              "<table border=\"1\" class=\"dataframe\">\n",
              "  <thead>\n",
              "    <tr style=\"text-align: right;\">\n",
              "      <th></th>\n",
              "      <th>Level</th>\n",
              "      <th>sent_sum</th>\n",
              "      <th>word</th>\n",
              "    </tr>\n",
              "  </thead>\n",
              "  <tbody>\n",
              "    <tr>\n",
              "      <th>0</th>\n",
              "      <td>Veryhigh</td>\n",
              "      <td>2</td>\n",
              "      <td>[There, constants, alpha, beta, frac, x, alpha...</td>\n",
              "    </tr>\n",
              "    <tr>\n",
              "      <th>1</th>\n",
              "      <td>Veryhigh</td>\n",
              "      <td>2</td>\n",
              "      <td>[The, length, segment, points, sqrt, units, Wh...</td>\n",
              "    </tr>\n",
              "    <tr>\n",
              "      <th>2</th>\n",
              "      <td>Veryhigh</td>\n",
              "      <td>5</td>\n",
              "      <td>[Chewbacca, pieces, cherry, gum, pieces, grape...</td>\n",
              "    </tr>\n",
              "    <tr>\n",
              "      <th>3</th>\n",
              "      <td>Veryhigh</td>\n",
              "      <td>3</td>\n",
              "      <td>[For, constants, b, let, f, x, left, begin, ar...</td>\n",
              "    </tr>\n",
              "    <tr>\n",
              "      <th>4</th>\n",
              "      <td>Low</td>\n",
              "      <td>1</td>\n",
              "      <td>[Calculate, sum, cdots]</td>\n",
              "    </tr>\n",
              "  </tbody>\n",
              "</table>\n",
              "</div>\n",
              "      <button class=\"colab-df-convert\" onclick=\"convertToInteractive('df-733a1fde-092c-43e5-971a-c5141ef2fdd5')\"\n",
              "              title=\"Convert this dataframe to an interactive table.\"\n",
              "              style=\"display:none;\">\n",
              "        \n",
              "  <svg xmlns=\"http://www.w3.org/2000/svg\" height=\"24px\"viewBox=\"0 0 24 24\"\n",
              "       width=\"24px\">\n",
              "    <path d=\"M0 0h24v24H0V0z\" fill=\"none\"/>\n",
              "    <path d=\"M18.56 5.44l.94 2.06.94-2.06 2.06-.94-2.06-.94-.94-2.06-.94 2.06-2.06.94zm-11 1L8.5 8.5l.94-2.06 2.06-.94-2.06-.94L8.5 2.5l-.94 2.06-2.06.94zm10 10l.94 2.06.94-2.06 2.06-.94-2.06-.94-.94-2.06-.94 2.06-2.06.94z\"/><path d=\"M17.41 7.96l-1.37-1.37c-.4-.4-.92-.59-1.43-.59-.52 0-1.04.2-1.43.59L10.3 9.45l-7.72 7.72c-.78.78-.78 2.05 0 2.83L4 21.41c.39.39.9.59 1.41.59.51 0 1.02-.2 1.41-.59l7.78-7.78 2.81-2.81c.8-.78.8-2.07 0-2.86zM5.41 20L4 18.59l7.72-7.72 1.47 1.35L5.41 20z\"/>\n",
              "  </svg>\n",
              "      </button>\n",
              "      \n",
              "  <style>\n",
              "    .colab-df-container {\n",
              "      display:flex;\n",
              "      flex-wrap:wrap;\n",
              "      gap: 12px;\n",
              "    }\n",
              "\n",
              "    .colab-df-convert {\n",
              "      background-color: #E8F0FE;\n",
              "      border: none;\n",
              "      border-radius: 50%;\n",
              "      cursor: pointer;\n",
              "      display: none;\n",
              "      fill: #1967D2;\n",
              "      height: 32px;\n",
              "      padding: 0 0 0 0;\n",
              "      width: 32px;\n",
              "    }\n",
              "\n",
              "    .colab-df-convert:hover {\n",
              "      background-color: #E2EBFA;\n",
              "      box-shadow: 0px 1px 2px rgba(60, 64, 67, 0.3), 0px 1px 3px 1px rgba(60, 64, 67, 0.15);\n",
              "      fill: #174EA6;\n",
              "    }\n",
              "\n",
              "    [theme=dark] .colab-df-convert {\n",
              "      background-color: #3B4455;\n",
              "      fill: #D2E3FC;\n",
              "    }\n",
              "\n",
              "    [theme=dark] .colab-df-convert:hover {\n",
              "      background-color: #434B5C;\n",
              "      box-shadow: 0px 1px 3px 1px rgba(0, 0, 0, 0.15);\n",
              "      filter: drop-shadow(0px 1px 2px rgba(0, 0, 0, 0.3));\n",
              "      fill: #FFFFFF;\n",
              "    }\n",
              "  </style>\n",
              "\n",
              "      <script>\n",
              "        const buttonEl =\n",
              "          document.querySelector('#df-733a1fde-092c-43e5-971a-c5141ef2fdd5 button.colab-df-convert');\n",
              "        buttonEl.style.display =\n",
              "          google.colab.kernel.accessAllowed ? 'block' : 'none';\n",
              "\n",
              "        async function convertToInteractive(key) {\n",
              "          const element = document.querySelector('#df-733a1fde-092c-43e5-971a-c5141ef2fdd5');\n",
              "          const dataTable =\n",
              "            await google.colab.kernel.invokeFunction('convertToInteractive',\n",
              "                                                     [key], {});\n",
              "          if (!dataTable) return;\n",
              "\n",
              "          const docLinkHtml = 'Like what you see? Visit the ' +\n",
              "            '<a target=\"_blank\" href=https://colab.research.google.com/notebooks/data_table.ipynb>data table notebook</a>'\n",
              "            + ' to learn more about interactive tables.';\n",
              "          element.innerHTML = '';\n",
              "          dataTable['output_type'] = 'display_data';\n",
              "          await google.colab.output.renderOutput(dataTable, element);\n",
              "          const docLink = document.createElement('div');\n",
              "          docLink.innerHTML = docLinkHtml;\n",
              "          element.appendChild(docLink);\n",
              "        }\n",
              "      </script>\n",
              "    </div>\n",
              "  </div>\n",
              "  "
            ]
          },
          "metadata": {},
          "execution_count": 33
        }
      ],
      "source": [
        "df_word.head()"
      ]
    },
    {
      "cell_type": "markdown",
      "metadata": {
        "id": "1VU3v15n0AEd"
      },
      "source": [
        "Creating a new column called 'liststring' which takes every element of each list in lists and creates a string with each element separated by commas."
      ]
    },
    {
      "cell_type": "code",
      "execution_count": 34,
      "metadata": {
        "id": "wIZDw3o5z8pM"
      },
      "outputs": [],
      "source": [
        "df_word['liststring'] = df_word.word.apply(lambda x: ', '.join([str(i) for i in x]))"
      ]
    },
    {
      "cell_type": "code",
      "execution_count": 35,
      "metadata": {
        "colab": {
          "base_uri": "https://localhost:8080/",
          "height": 206
        },
        "id": "JcWyxsAi0CSr",
        "outputId": "e9dea5f1-bc2a-4747-d9df-415b3aaf267f"
      },
      "outputs": [
        {
          "output_type": "execute_result",
          "data": {
            "text/plain": [
              "     Level   sent_sum                                               word  \\\n",
              "0  Veryhigh         2  [There, constants, alpha, beta, frac, x, alpha...   \n",
              "1  Veryhigh         2  [The, length, segment, points, sqrt, units, Wh...   \n",
              "2  Veryhigh         5  [Chewbacca, pieces, cherry, gum, pieces, grape...   \n",
              "3  Veryhigh         3  [For, constants, b, let, f, x, left, begin, ar...   \n",
              "4       Low         1                            [Calculate, sum, cdots]   \n",
              "\n",
              "                                          liststring  \n",
              "0  There, constants, alpha, beta, frac, x, alpha,...  \n",
              "1  The, length, segment, points, sqrt, units, Wha...  \n",
              "2  Chewbacca, pieces, cherry, gum, pieces, grape,...  \n",
              "3  For, constants, b, let, f, x, left, begin, arr...  \n",
              "4                              Calculate, sum, cdots  "
            ],
            "text/html": [
              "\n",
              "  <div id=\"df-a3a5a3ef-1444-4652-8497-335baea7f909\">\n",
              "    <div class=\"colab-df-container\">\n",
              "      <div>\n",
              "<style scoped>\n",
              "    .dataframe tbody tr th:only-of-type {\n",
              "        vertical-align: middle;\n",
              "    }\n",
              "\n",
              "    .dataframe tbody tr th {\n",
              "        vertical-align: top;\n",
              "    }\n",
              "\n",
              "    .dataframe thead th {\n",
              "        text-align: right;\n",
              "    }\n",
              "</style>\n",
              "<table border=\"1\" class=\"dataframe\">\n",
              "  <thead>\n",
              "    <tr style=\"text-align: right;\">\n",
              "      <th></th>\n",
              "      <th>Level</th>\n",
              "      <th>sent_sum</th>\n",
              "      <th>word</th>\n",
              "      <th>liststring</th>\n",
              "    </tr>\n",
              "  </thead>\n",
              "  <tbody>\n",
              "    <tr>\n",
              "      <th>0</th>\n",
              "      <td>Veryhigh</td>\n",
              "      <td>2</td>\n",
              "      <td>[There, constants, alpha, beta, frac, x, alpha...</td>\n",
              "      <td>There, constants, alpha, beta, frac, x, alpha,...</td>\n",
              "    </tr>\n",
              "    <tr>\n",
              "      <th>1</th>\n",
              "      <td>Veryhigh</td>\n",
              "      <td>2</td>\n",
              "      <td>[The, length, segment, points, sqrt, units, Wh...</td>\n",
              "      <td>The, length, segment, points, sqrt, units, Wha...</td>\n",
              "    </tr>\n",
              "    <tr>\n",
              "      <th>2</th>\n",
              "      <td>Veryhigh</td>\n",
              "      <td>5</td>\n",
              "      <td>[Chewbacca, pieces, cherry, gum, pieces, grape...</td>\n",
              "      <td>Chewbacca, pieces, cherry, gum, pieces, grape,...</td>\n",
              "    </tr>\n",
              "    <tr>\n",
              "      <th>3</th>\n",
              "      <td>Veryhigh</td>\n",
              "      <td>3</td>\n",
              "      <td>[For, constants, b, let, f, x, left, begin, ar...</td>\n",
              "      <td>For, constants, b, let, f, x, left, begin, arr...</td>\n",
              "    </tr>\n",
              "    <tr>\n",
              "      <th>4</th>\n",
              "      <td>Low</td>\n",
              "      <td>1</td>\n",
              "      <td>[Calculate, sum, cdots]</td>\n",
              "      <td>Calculate, sum, cdots</td>\n",
              "    </tr>\n",
              "  </tbody>\n",
              "</table>\n",
              "</div>\n",
              "      <button class=\"colab-df-convert\" onclick=\"convertToInteractive('df-a3a5a3ef-1444-4652-8497-335baea7f909')\"\n",
              "              title=\"Convert this dataframe to an interactive table.\"\n",
              "              style=\"display:none;\">\n",
              "        \n",
              "  <svg xmlns=\"http://www.w3.org/2000/svg\" height=\"24px\"viewBox=\"0 0 24 24\"\n",
              "       width=\"24px\">\n",
              "    <path d=\"M0 0h24v24H0V0z\" fill=\"none\"/>\n",
              "    <path d=\"M18.56 5.44l.94 2.06.94-2.06 2.06-.94-2.06-.94-.94-2.06-.94 2.06-2.06.94zm-11 1L8.5 8.5l.94-2.06 2.06-.94-2.06-.94L8.5 2.5l-.94 2.06-2.06.94zm10 10l.94 2.06.94-2.06 2.06-.94-2.06-.94-.94-2.06-.94 2.06-2.06.94z\"/><path d=\"M17.41 7.96l-1.37-1.37c-.4-.4-.92-.59-1.43-.59-.52 0-1.04.2-1.43.59L10.3 9.45l-7.72 7.72c-.78.78-.78 2.05 0 2.83L4 21.41c.39.39.9.59 1.41.59.51 0 1.02-.2 1.41-.59l7.78-7.78 2.81-2.81c.8-.78.8-2.07 0-2.86zM5.41 20L4 18.59l7.72-7.72 1.47 1.35L5.41 20z\"/>\n",
              "  </svg>\n",
              "      </button>\n",
              "      \n",
              "  <style>\n",
              "    .colab-df-container {\n",
              "      display:flex;\n",
              "      flex-wrap:wrap;\n",
              "      gap: 12px;\n",
              "    }\n",
              "\n",
              "    .colab-df-convert {\n",
              "      background-color: #E8F0FE;\n",
              "      border: none;\n",
              "      border-radius: 50%;\n",
              "      cursor: pointer;\n",
              "      display: none;\n",
              "      fill: #1967D2;\n",
              "      height: 32px;\n",
              "      padding: 0 0 0 0;\n",
              "      width: 32px;\n",
              "    }\n",
              "\n",
              "    .colab-df-convert:hover {\n",
              "      background-color: #E2EBFA;\n",
              "      box-shadow: 0px 1px 2px rgba(60, 64, 67, 0.3), 0px 1px 3px 1px rgba(60, 64, 67, 0.15);\n",
              "      fill: #174EA6;\n",
              "    }\n",
              "\n",
              "    [theme=dark] .colab-df-convert {\n",
              "      background-color: #3B4455;\n",
              "      fill: #D2E3FC;\n",
              "    }\n",
              "\n",
              "    [theme=dark] .colab-df-convert:hover {\n",
              "      background-color: #434B5C;\n",
              "      box-shadow: 0px 1px 3px 1px rgba(0, 0, 0, 0.15);\n",
              "      filter: drop-shadow(0px 1px 2px rgba(0, 0, 0, 0.3));\n",
              "      fill: #FFFFFF;\n",
              "    }\n",
              "  </style>\n",
              "\n",
              "      <script>\n",
              "        const buttonEl =\n",
              "          document.querySelector('#df-a3a5a3ef-1444-4652-8497-335baea7f909 button.colab-df-convert');\n",
              "        buttonEl.style.display =\n",
              "          google.colab.kernel.accessAllowed ? 'block' : 'none';\n",
              "\n",
              "        async function convertToInteractive(key) {\n",
              "          const element = document.querySelector('#df-a3a5a3ef-1444-4652-8497-335baea7f909');\n",
              "          const dataTable =\n",
              "            await google.colab.kernel.invokeFunction('convertToInteractive',\n",
              "                                                     [key], {});\n",
              "          if (!dataTable) return;\n",
              "\n",
              "          const docLinkHtml = 'Like what you see? Visit the ' +\n",
              "            '<a target=\"_blank\" href=https://colab.research.google.com/notebooks/data_table.ipynb>data table notebook</a>'\n",
              "            + ' to learn more about interactive tables.';\n",
              "          element.innerHTML = '';\n",
              "          dataTable['output_type'] = 'display_data';\n",
              "          await google.colab.output.renderOutput(dataTable, element);\n",
              "          const docLink = document.createElement('div');\n",
              "          docLink.innerHTML = docLinkHtml;\n",
              "          element.appendChild(docLink);\n",
              "        }\n",
              "      </script>\n",
              "    </div>\n",
              "  </div>\n",
              "  "
            ]
          },
          "metadata": {},
          "execution_count": 35
        }
      ],
      "source": [
        "df_word.head()"
      ]
    },
    {
      "cell_type": "markdown",
      "metadata": {
        "id": "LtkY9B_M0GL2"
      },
      "source": [
        "Dropping of the column 'word'"
      ]
    },
    {
      "cell_type": "code",
      "execution_count": 36,
      "metadata": {
        "id": "1ToWYc3b0D6S"
      },
      "outputs": [],
      "source": [
        "df_liststring = df_word.drop(['word'], axis = 1)"
      ]
    },
    {
      "cell_type": "code",
      "execution_count": 37,
      "metadata": {
        "colab": {
          "base_uri": "https://localhost:8080/",
          "height": 206
        },
        "id": "7f_UEGRw0Iva",
        "outputId": "04b78415-d85a-44e9-9306-513eafb85cf4"
      },
      "outputs": [
        {
          "output_type": "execute_result",
          "data": {
            "text/plain": [
              "     Level   sent_sum                                         liststring\n",
              "0  Veryhigh         2  There, constants, alpha, beta, frac, x, alpha,...\n",
              "1  Veryhigh         2  The, length, segment, points, sqrt, units, Wha...\n",
              "2  Veryhigh         5  Chewbacca, pieces, cherry, gum, pieces, grape,...\n",
              "3  Veryhigh         3  For, constants, b, let, f, x, left, begin, arr...\n",
              "4       Low         1                              Calculate, sum, cdots"
            ],
            "text/html": [
              "\n",
              "  <div id=\"df-b679bb1c-ebb6-480c-aa38-39cd742edcb6\">\n",
              "    <div class=\"colab-df-container\">\n",
              "      <div>\n",
              "<style scoped>\n",
              "    .dataframe tbody tr th:only-of-type {\n",
              "        vertical-align: middle;\n",
              "    }\n",
              "\n",
              "    .dataframe tbody tr th {\n",
              "        vertical-align: top;\n",
              "    }\n",
              "\n",
              "    .dataframe thead th {\n",
              "        text-align: right;\n",
              "    }\n",
              "</style>\n",
              "<table border=\"1\" class=\"dataframe\">\n",
              "  <thead>\n",
              "    <tr style=\"text-align: right;\">\n",
              "      <th></th>\n",
              "      <th>Level</th>\n",
              "      <th>sent_sum</th>\n",
              "      <th>liststring</th>\n",
              "    </tr>\n",
              "  </thead>\n",
              "  <tbody>\n",
              "    <tr>\n",
              "      <th>0</th>\n",
              "      <td>Veryhigh</td>\n",
              "      <td>2</td>\n",
              "      <td>There, constants, alpha, beta, frac, x, alpha,...</td>\n",
              "    </tr>\n",
              "    <tr>\n",
              "      <th>1</th>\n",
              "      <td>Veryhigh</td>\n",
              "      <td>2</td>\n",
              "      <td>The, length, segment, points, sqrt, units, Wha...</td>\n",
              "    </tr>\n",
              "    <tr>\n",
              "      <th>2</th>\n",
              "      <td>Veryhigh</td>\n",
              "      <td>5</td>\n",
              "      <td>Chewbacca, pieces, cherry, gum, pieces, grape,...</td>\n",
              "    </tr>\n",
              "    <tr>\n",
              "      <th>3</th>\n",
              "      <td>Veryhigh</td>\n",
              "      <td>3</td>\n",
              "      <td>For, constants, b, let, f, x, left, begin, arr...</td>\n",
              "    </tr>\n",
              "    <tr>\n",
              "      <th>4</th>\n",
              "      <td>Low</td>\n",
              "      <td>1</td>\n",
              "      <td>Calculate, sum, cdots</td>\n",
              "    </tr>\n",
              "  </tbody>\n",
              "</table>\n",
              "</div>\n",
              "      <button class=\"colab-df-convert\" onclick=\"convertToInteractive('df-b679bb1c-ebb6-480c-aa38-39cd742edcb6')\"\n",
              "              title=\"Convert this dataframe to an interactive table.\"\n",
              "              style=\"display:none;\">\n",
              "        \n",
              "  <svg xmlns=\"http://www.w3.org/2000/svg\" height=\"24px\"viewBox=\"0 0 24 24\"\n",
              "       width=\"24px\">\n",
              "    <path d=\"M0 0h24v24H0V0z\" fill=\"none\"/>\n",
              "    <path d=\"M18.56 5.44l.94 2.06.94-2.06 2.06-.94-2.06-.94-.94-2.06-.94 2.06-2.06.94zm-11 1L8.5 8.5l.94-2.06 2.06-.94-2.06-.94L8.5 2.5l-.94 2.06-2.06.94zm10 10l.94 2.06.94-2.06 2.06-.94-2.06-.94-.94-2.06-.94 2.06-2.06.94z\"/><path d=\"M17.41 7.96l-1.37-1.37c-.4-.4-.92-.59-1.43-.59-.52 0-1.04.2-1.43.59L10.3 9.45l-7.72 7.72c-.78.78-.78 2.05 0 2.83L4 21.41c.39.39.9.59 1.41.59.51 0 1.02-.2 1.41-.59l7.78-7.78 2.81-2.81c.8-.78.8-2.07 0-2.86zM5.41 20L4 18.59l7.72-7.72 1.47 1.35L5.41 20z\"/>\n",
              "  </svg>\n",
              "      </button>\n",
              "      \n",
              "  <style>\n",
              "    .colab-df-container {\n",
              "      display:flex;\n",
              "      flex-wrap:wrap;\n",
              "      gap: 12px;\n",
              "    }\n",
              "\n",
              "    .colab-df-convert {\n",
              "      background-color: #E8F0FE;\n",
              "      border: none;\n",
              "      border-radius: 50%;\n",
              "      cursor: pointer;\n",
              "      display: none;\n",
              "      fill: #1967D2;\n",
              "      height: 32px;\n",
              "      padding: 0 0 0 0;\n",
              "      width: 32px;\n",
              "    }\n",
              "\n",
              "    .colab-df-convert:hover {\n",
              "      background-color: #E2EBFA;\n",
              "      box-shadow: 0px 1px 2px rgba(60, 64, 67, 0.3), 0px 1px 3px 1px rgba(60, 64, 67, 0.15);\n",
              "      fill: #174EA6;\n",
              "    }\n",
              "\n",
              "    [theme=dark] .colab-df-convert {\n",
              "      background-color: #3B4455;\n",
              "      fill: #D2E3FC;\n",
              "    }\n",
              "\n",
              "    [theme=dark] .colab-df-convert:hover {\n",
              "      background-color: #434B5C;\n",
              "      box-shadow: 0px 1px 3px 1px rgba(0, 0, 0, 0.15);\n",
              "      filter: drop-shadow(0px 1px 2px rgba(0, 0, 0, 0.3));\n",
              "      fill: #FFFFFF;\n",
              "    }\n",
              "  </style>\n",
              "\n",
              "      <script>\n",
              "        const buttonEl =\n",
              "          document.querySelector('#df-b679bb1c-ebb6-480c-aa38-39cd742edcb6 button.colab-df-convert');\n",
              "        buttonEl.style.display =\n",
              "          google.colab.kernel.accessAllowed ? 'block' : 'none';\n",
              "\n",
              "        async function convertToInteractive(key) {\n",
              "          const element = document.querySelector('#df-b679bb1c-ebb6-480c-aa38-39cd742edcb6');\n",
              "          const dataTable =\n",
              "            await google.colab.kernel.invokeFunction('convertToInteractive',\n",
              "                                                     [key], {});\n",
              "          if (!dataTable) return;\n",
              "\n",
              "          const docLinkHtml = 'Like what you see? Visit the ' +\n",
              "            '<a target=\"_blank\" href=https://colab.research.google.com/notebooks/data_table.ipynb>data table notebook</a>'\n",
              "            + ' to learn more about interactive tables.';\n",
              "          element.innerHTML = '';\n",
              "          dataTable['output_type'] = 'display_data';\n",
              "          await google.colab.output.renderOutput(dataTable, element);\n",
              "          const docLink = document.createElement('div');\n",
              "          docLink.innerHTML = docLinkHtml;\n",
              "          element.appendChild(docLink);\n",
              "        }\n",
              "      </script>\n",
              "    </div>\n",
              "  </div>\n",
              "  "
            ]
          },
          "metadata": {},
          "execution_count": 37
        }
      ],
      "source": [
        "df_liststring.head()"
      ]
    },
    {
      "cell_type": "markdown",
      "metadata": {
        "id": "1cua6gW90ONh"
      },
      "source": [
        "Removing the commas from the column liststring."
      ]
    },
    {
      "cell_type": "code",
      "execution_count": 38,
      "metadata": {
        "id": "fnKPZb380K44"
      },
      "outputs": [],
      "source": [
        "df_liststring['liststring']=df_liststring['liststring'].str.replace(',','')"
      ]
    },
    {
      "cell_type": "code",
      "execution_count": 39,
      "metadata": {
        "colab": {
          "base_uri": "https://localhost:8080/",
          "height": 363
        },
        "id": "7v_A7JZv0RGz",
        "outputId": "6e4f67a5-c03e-4109-f266-d65759645e2b"
      },
      "outputs": [
        {
          "output_type": "execute_result",
          "data": {
            "text/plain": [
              "     Level   sent_sum                                         liststring\n",
              "0  Veryhigh         2  There constants alpha beta frac x alpha x beta...\n",
              "1  Veryhigh         2  The length segment points sqrt units What prod...\n",
              "2  Veryhigh         5  Chewbacca pieces cherry gum pieces grape gum S...\n",
              "3  Veryhigh         3  For constants b let f x left begin array cl ax...\n",
              "4       Low         1                                Calculate sum cdots\n",
              "5      High         3  What number units area circle center P passing...\n",
              "6      High         1  Find positive value n equation nx exactly one ...\n",
              "7  Moderate         1  Find leading coefficient polynomial x x x x si...\n",
              "8  Veryhigh         1                       Find greatest frac sqrt sqrt\n",
              "9      High         3  The Bank Springfield Super High Yield savings ..."
            ],
            "text/html": [
              "\n",
              "  <div id=\"df-d000c3a1-c3ce-428a-914d-4005bf6528c0\">\n",
              "    <div class=\"colab-df-container\">\n",
              "      <div>\n",
              "<style scoped>\n",
              "    .dataframe tbody tr th:only-of-type {\n",
              "        vertical-align: middle;\n",
              "    }\n",
              "\n",
              "    .dataframe tbody tr th {\n",
              "        vertical-align: top;\n",
              "    }\n",
              "\n",
              "    .dataframe thead th {\n",
              "        text-align: right;\n",
              "    }\n",
              "</style>\n",
              "<table border=\"1\" class=\"dataframe\">\n",
              "  <thead>\n",
              "    <tr style=\"text-align: right;\">\n",
              "      <th></th>\n",
              "      <th>Level</th>\n",
              "      <th>sent_sum</th>\n",
              "      <th>liststring</th>\n",
              "    </tr>\n",
              "  </thead>\n",
              "  <tbody>\n",
              "    <tr>\n",
              "      <th>0</th>\n",
              "      <td>Veryhigh</td>\n",
              "      <td>2</td>\n",
              "      <td>There constants alpha beta frac x alpha x beta...</td>\n",
              "    </tr>\n",
              "    <tr>\n",
              "      <th>1</th>\n",
              "      <td>Veryhigh</td>\n",
              "      <td>2</td>\n",
              "      <td>The length segment points sqrt units What prod...</td>\n",
              "    </tr>\n",
              "    <tr>\n",
              "      <th>2</th>\n",
              "      <td>Veryhigh</td>\n",
              "      <td>5</td>\n",
              "      <td>Chewbacca pieces cherry gum pieces grape gum S...</td>\n",
              "    </tr>\n",
              "    <tr>\n",
              "      <th>3</th>\n",
              "      <td>Veryhigh</td>\n",
              "      <td>3</td>\n",
              "      <td>For constants b let f x left begin array cl ax...</td>\n",
              "    </tr>\n",
              "    <tr>\n",
              "      <th>4</th>\n",
              "      <td>Low</td>\n",
              "      <td>1</td>\n",
              "      <td>Calculate sum cdots</td>\n",
              "    </tr>\n",
              "    <tr>\n",
              "      <th>5</th>\n",
              "      <td>High</td>\n",
              "      <td>3</td>\n",
              "      <td>What number units area circle center P passing...</td>\n",
              "    </tr>\n",
              "    <tr>\n",
              "      <th>6</th>\n",
              "      <td>High</td>\n",
              "      <td>1</td>\n",
              "      <td>Find positive value n equation nx exactly one ...</td>\n",
              "    </tr>\n",
              "    <tr>\n",
              "      <th>7</th>\n",
              "      <td>Moderate</td>\n",
              "      <td>1</td>\n",
              "      <td>Find leading coefficient polynomial x x x x si...</td>\n",
              "    </tr>\n",
              "    <tr>\n",
              "      <th>8</th>\n",
              "      <td>Veryhigh</td>\n",
              "      <td>1</td>\n",
              "      <td>Find greatest frac sqrt sqrt</td>\n",
              "    </tr>\n",
              "    <tr>\n",
              "      <th>9</th>\n",
              "      <td>High</td>\n",
              "      <td>3</td>\n",
              "      <td>The Bank Springfield Super High Yield savings ...</td>\n",
              "    </tr>\n",
              "  </tbody>\n",
              "</table>\n",
              "</div>\n",
              "      <button class=\"colab-df-convert\" onclick=\"convertToInteractive('df-d000c3a1-c3ce-428a-914d-4005bf6528c0')\"\n",
              "              title=\"Convert this dataframe to an interactive table.\"\n",
              "              style=\"display:none;\">\n",
              "        \n",
              "  <svg xmlns=\"http://www.w3.org/2000/svg\" height=\"24px\"viewBox=\"0 0 24 24\"\n",
              "       width=\"24px\">\n",
              "    <path d=\"M0 0h24v24H0V0z\" fill=\"none\"/>\n",
              "    <path d=\"M18.56 5.44l.94 2.06.94-2.06 2.06-.94-2.06-.94-.94-2.06-.94 2.06-2.06.94zm-11 1L8.5 8.5l.94-2.06 2.06-.94-2.06-.94L8.5 2.5l-.94 2.06-2.06.94zm10 10l.94 2.06.94-2.06 2.06-.94-2.06-.94-.94-2.06-.94 2.06-2.06.94z\"/><path d=\"M17.41 7.96l-1.37-1.37c-.4-.4-.92-.59-1.43-.59-.52 0-1.04.2-1.43.59L10.3 9.45l-7.72 7.72c-.78.78-.78 2.05 0 2.83L4 21.41c.39.39.9.59 1.41.59.51 0 1.02-.2 1.41-.59l7.78-7.78 2.81-2.81c.8-.78.8-2.07 0-2.86zM5.41 20L4 18.59l7.72-7.72 1.47 1.35L5.41 20z\"/>\n",
              "  </svg>\n",
              "      </button>\n",
              "      \n",
              "  <style>\n",
              "    .colab-df-container {\n",
              "      display:flex;\n",
              "      flex-wrap:wrap;\n",
              "      gap: 12px;\n",
              "    }\n",
              "\n",
              "    .colab-df-convert {\n",
              "      background-color: #E8F0FE;\n",
              "      border: none;\n",
              "      border-radius: 50%;\n",
              "      cursor: pointer;\n",
              "      display: none;\n",
              "      fill: #1967D2;\n",
              "      height: 32px;\n",
              "      padding: 0 0 0 0;\n",
              "      width: 32px;\n",
              "    }\n",
              "\n",
              "    .colab-df-convert:hover {\n",
              "      background-color: #E2EBFA;\n",
              "      box-shadow: 0px 1px 2px rgba(60, 64, 67, 0.3), 0px 1px 3px 1px rgba(60, 64, 67, 0.15);\n",
              "      fill: #174EA6;\n",
              "    }\n",
              "\n",
              "    [theme=dark] .colab-df-convert {\n",
              "      background-color: #3B4455;\n",
              "      fill: #D2E3FC;\n",
              "    }\n",
              "\n",
              "    [theme=dark] .colab-df-convert:hover {\n",
              "      background-color: #434B5C;\n",
              "      box-shadow: 0px 1px 3px 1px rgba(0, 0, 0, 0.15);\n",
              "      filter: drop-shadow(0px 1px 2px rgba(0, 0, 0, 0.3));\n",
              "      fill: #FFFFFF;\n",
              "    }\n",
              "  </style>\n",
              "\n",
              "      <script>\n",
              "        const buttonEl =\n",
              "          document.querySelector('#df-d000c3a1-c3ce-428a-914d-4005bf6528c0 button.colab-df-convert');\n",
              "        buttonEl.style.display =\n",
              "          google.colab.kernel.accessAllowed ? 'block' : 'none';\n",
              "\n",
              "        async function convertToInteractive(key) {\n",
              "          const element = document.querySelector('#df-d000c3a1-c3ce-428a-914d-4005bf6528c0');\n",
              "          const dataTable =\n",
              "            await google.colab.kernel.invokeFunction('convertToInteractive',\n",
              "                                                     [key], {});\n",
              "          if (!dataTable) return;\n",
              "\n",
              "          const docLinkHtml = 'Like what you see? Visit the ' +\n",
              "            '<a target=\"_blank\" href=https://colab.research.google.com/notebooks/data_table.ipynb>data table notebook</a>'\n",
              "            + ' to learn more about interactive tables.';\n",
              "          element.innerHTML = '';\n",
              "          dataTable['output_type'] = 'display_data';\n",
              "          await google.colab.output.renderOutput(dataTable, element);\n",
              "          const docLink = document.createElement('div');\n",
              "          docLink.innerHTML = docLinkHtml;\n",
              "          element.appendChild(docLink);\n",
              "        }\n",
              "      </script>\n",
              "    </div>\n",
              "  </div>\n",
              "  "
            ]
          },
          "metadata": {},
          "execution_count": 39
        }
      ],
      "source": [
        "df_liststring.head(10)"
      ]
    },
    {
      "cell_type": "markdown",
      "metadata": {
        "id": "sdMCs72Y0V3j"
      },
      "source": [
        "Function to count number of words sum in the liststring."
      ]
    },
    {
      "cell_type": "code",
      "execution_count": 40,
      "metadata": {
        "id": "i9DvSSqL0ST8"
      },
      "outputs": [],
      "source": [
        "def count_words(df_col):\n",
        "  count = 0\n",
        "  for i in df_col:\n",
        "    for j in i:\n",
        "      count = count+1\n",
        "  return count"
      ]
    },
    {
      "cell_type": "code",
      "execution_count": 41,
      "metadata": {
        "id": "5_elezBg0XoF"
      },
      "outputs": [],
      "source": [
        "df_liststring['word_sum'] = df_liststring['liststring'].apply(count_words)"
      ]
    },
    {
      "cell_type": "code",
      "execution_count": 42,
      "metadata": {
        "colab": {
          "base_uri": "https://localhost:8080/",
          "height": 206
        },
        "id": "bkr9fIim0ZSQ",
        "outputId": "fd999a6b-59ad-4700-9e8f-ed8be4303b02"
      },
      "outputs": [
        {
          "output_type": "execute_result",
          "data": {
            "text/plain": [
              "     Level   sent_sum                                         liststring  \\\n",
              "0  Veryhigh         2  There constants alpha beta frac x alpha x beta...   \n",
              "1  Veryhigh         2  The length segment points sqrt units What prod...   \n",
              "2  Veryhigh         5  Chewbacca pieces cherry gum pieces grape gum S...   \n",
              "3  Veryhigh         3  For constants b let f x left begin array cl ax...   \n",
              "4       Low         1                                Calculate sum cdots   \n",
              "\n",
              "   word_sum  \n",
              "0        71  \n",
              "1        65  \n",
              "2       263  \n",
              "3       122  \n",
              "4        19  "
            ],
            "text/html": [
              "\n",
              "  <div id=\"df-a07e1631-7245-457c-a973-65ad21d4de71\">\n",
              "    <div class=\"colab-df-container\">\n",
              "      <div>\n",
              "<style scoped>\n",
              "    .dataframe tbody tr th:only-of-type {\n",
              "        vertical-align: middle;\n",
              "    }\n",
              "\n",
              "    .dataframe tbody tr th {\n",
              "        vertical-align: top;\n",
              "    }\n",
              "\n",
              "    .dataframe thead th {\n",
              "        text-align: right;\n",
              "    }\n",
              "</style>\n",
              "<table border=\"1\" class=\"dataframe\">\n",
              "  <thead>\n",
              "    <tr style=\"text-align: right;\">\n",
              "      <th></th>\n",
              "      <th>Level</th>\n",
              "      <th>sent_sum</th>\n",
              "      <th>liststring</th>\n",
              "      <th>word_sum</th>\n",
              "    </tr>\n",
              "  </thead>\n",
              "  <tbody>\n",
              "    <tr>\n",
              "      <th>0</th>\n",
              "      <td>Veryhigh</td>\n",
              "      <td>2</td>\n",
              "      <td>There constants alpha beta frac x alpha x beta...</td>\n",
              "      <td>71</td>\n",
              "    </tr>\n",
              "    <tr>\n",
              "      <th>1</th>\n",
              "      <td>Veryhigh</td>\n",
              "      <td>2</td>\n",
              "      <td>The length segment points sqrt units What prod...</td>\n",
              "      <td>65</td>\n",
              "    </tr>\n",
              "    <tr>\n",
              "      <th>2</th>\n",
              "      <td>Veryhigh</td>\n",
              "      <td>5</td>\n",
              "      <td>Chewbacca pieces cherry gum pieces grape gum S...</td>\n",
              "      <td>263</td>\n",
              "    </tr>\n",
              "    <tr>\n",
              "      <th>3</th>\n",
              "      <td>Veryhigh</td>\n",
              "      <td>3</td>\n",
              "      <td>For constants b let f x left begin array cl ax...</td>\n",
              "      <td>122</td>\n",
              "    </tr>\n",
              "    <tr>\n",
              "      <th>4</th>\n",
              "      <td>Low</td>\n",
              "      <td>1</td>\n",
              "      <td>Calculate sum cdots</td>\n",
              "      <td>19</td>\n",
              "    </tr>\n",
              "  </tbody>\n",
              "</table>\n",
              "</div>\n",
              "      <button class=\"colab-df-convert\" onclick=\"convertToInteractive('df-a07e1631-7245-457c-a973-65ad21d4de71')\"\n",
              "              title=\"Convert this dataframe to an interactive table.\"\n",
              "              style=\"display:none;\">\n",
              "        \n",
              "  <svg xmlns=\"http://www.w3.org/2000/svg\" height=\"24px\"viewBox=\"0 0 24 24\"\n",
              "       width=\"24px\">\n",
              "    <path d=\"M0 0h24v24H0V0z\" fill=\"none\"/>\n",
              "    <path d=\"M18.56 5.44l.94 2.06.94-2.06 2.06-.94-2.06-.94-.94-2.06-.94 2.06-2.06.94zm-11 1L8.5 8.5l.94-2.06 2.06-.94-2.06-.94L8.5 2.5l-.94 2.06-2.06.94zm10 10l.94 2.06.94-2.06 2.06-.94-2.06-.94-.94-2.06-.94 2.06-2.06.94z\"/><path d=\"M17.41 7.96l-1.37-1.37c-.4-.4-.92-.59-1.43-.59-.52 0-1.04.2-1.43.59L10.3 9.45l-7.72 7.72c-.78.78-.78 2.05 0 2.83L4 21.41c.39.39.9.59 1.41.59.51 0 1.02-.2 1.41-.59l7.78-7.78 2.81-2.81c.8-.78.8-2.07 0-2.86zM5.41 20L4 18.59l7.72-7.72 1.47 1.35L5.41 20z\"/>\n",
              "  </svg>\n",
              "      </button>\n",
              "      \n",
              "  <style>\n",
              "    .colab-df-container {\n",
              "      display:flex;\n",
              "      flex-wrap:wrap;\n",
              "      gap: 12px;\n",
              "    }\n",
              "\n",
              "    .colab-df-convert {\n",
              "      background-color: #E8F0FE;\n",
              "      border: none;\n",
              "      border-radius: 50%;\n",
              "      cursor: pointer;\n",
              "      display: none;\n",
              "      fill: #1967D2;\n",
              "      height: 32px;\n",
              "      padding: 0 0 0 0;\n",
              "      width: 32px;\n",
              "    }\n",
              "\n",
              "    .colab-df-convert:hover {\n",
              "      background-color: #E2EBFA;\n",
              "      box-shadow: 0px 1px 2px rgba(60, 64, 67, 0.3), 0px 1px 3px 1px rgba(60, 64, 67, 0.15);\n",
              "      fill: #174EA6;\n",
              "    }\n",
              "\n",
              "    [theme=dark] .colab-df-convert {\n",
              "      background-color: #3B4455;\n",
              "      fill: #D2E3FC;\n",
              "    }\n",
              "\n",
              "    [theme=dark] .colab-df-convert:hover {\n",
              "      background-color: #434B5C;\n",
              "      box-shadow: 0px 1px 3px 1px rgba(0, 0, 0, 0.15);\n",
              "      filter: drop-shadow(0px 1px 2px rgba(0, 0, 0, 0.3));\n",
              "      fill: #FFFFFF;\n",
              "    }\n",
              "  </style>\n",
              "\n",
              "      <script>\n",
              "        const buttonEl =\n",
              "          document.querySelector('#df-a07e1631-7245-457c-a973-65ad21d4de71 button.colab-df-convert');\n",
              "        buttonEl.style.display =\n",
              "          google.colab.kernel.accessAllowed ? 'block' : 'none';\n",
              "\n",
              "        async function convertToInteractive(key) {\n",
              "          const element = document.querySelector('#df-a07e1631-7245-457c-a973-65ad21d4de71');\n",
              "          const dataTable =\n",
              "            await google.colab.kernel.invokeFunction('convertToInteractive',\n",
              "                                                     [key], {});\n",
              "          if (!dataTable) return;\n",
              "\n",
              "          const docLinkHtml = 'Like what you see? Visit the ' +\n",
              "            '<a target=\"_blank\" href=https://colab.research.google.com/notebooks/data_table.ipynb>data table notebook</a>'\n",
              "            + ' to learn more about interactive tables.';\n",
              "          element.innerHTML = '';\n",
              "          dataTable['output_type'] = 'display_data';\n",
              "          await google.colab.output.renderOutput(dataTable, element);\n",
              "          const docLink = document.createElement('div');\n",
              "          docLink.innerHTML = docLinkHtml;\n",
              "          element.appendChild(docLink);\n",
              "        }\n",
              "      </script>\n",
              "    </div>\n",
              "  </div>\n",
              "  "
            ]
          },
          "metadata": {},
          "execution_count": 42
        }
      ],
      "source": [
        "df_liststring.head()"
      ]
    },
    {
      "cell_type": "markdown",
      "metadata": {
        "id": "UtCsSEEA0hvc"
      },
      "source": [
        "Function to count number of word length or word count in the liststring."
      ]
    },
    {
      "cell_type": "code",
      "execution_count": 43,
      "metadata": {
        "id": "Zh4dPXXa0bOu"
      },
      "outputs": [],
      "source": [
        "def word_length(df_col):\n",
        "  number_of_words = len(df_col.split())\n",
        "  # print(df_col.split())\n",
        "  return number_of_words"
      ]
    },
    {
      "cell_type": "code",
      "execution_count": 44,
      "metadata": {
        "id": "Nom5als40jbc"
      },
      "outputs": [],
      "source": [
        "df_liststring['word_count'] = df_liststring['liststring'].apply(word_length)"
      ]
    },
    {
      "cell_type": "code",
      "execution_count": 45,
      "metadata": {
        "colab": {
          "base_uri": "https://localhost:8080/",
          "height": 206
        },
        "id": "rOEPQOvz0sak",
        "outputId": "8bde23e8-4631-418d-9104-e2a9b065c712"
      },
      "outputs": [
        {
          "output_type": "execute_result",
          "data": {
            "text/plain": [
              "     Level   sent_sum                                         liststring  \\\n",
              "0  Veryhigh         2  There constants alpha beta frac x alpha x beta...   \n",
              "1  Veryhigh         2  The length segment points sqrt units What prod...   \n",
              "2  Veryhigh         5  Chewbacca pieces cherry gum pieces grape gum S...   \n",
              "3  Veryhigh         3  For constants b let f x left begin array cl ax...   \n",
              "4       Low         1                                Calculate sum cdots   \n",
              "\n",
              "   word_sum  word_count  \n",
              "0        71          15  \n",
              "1        65          10  \n",
              "2       263          44  \n",
              "3       122          31  \n",
              "4        19           3  "
            ],
            "text/html": [
              "\n",
              "  <div id=\"df-ba8446dc-dcc4-4b3f-8ea6-ac0117ef28dc\">\n",
              "    <div class=\"colab-df-container\">\n",
              "      <div>\n",
              "<style scoped>\n",
              "    .dataframe tbody tr th:only-of-type {\n",
              "        vertical-align: middle;\n",
              "    }\n",
              "\n",
              "    .dataframe tbody tr th {\n",
              "        vertical-align: top;\n",
              "    }\n",
              "\n",
              "    .dataframe thead th {\n",
              "        text-align: right;\n",
              "    }\n",
              "</style>\n",
              "<table border=\"1\" class=\"dataframe\">\n",
              "  <thead>\n",
              "    <tr style=\"text-align: right;\">\n",
              "      <th></th>\n",
              "      <th>Level</th>\n",
              "      <th>sent_sum</th>\n",
              "      <th>liststring</th>\n",
              "      <th>word_sum</th>\n",
              "      <th>word_count</th>\n",
              "    </tr>\n",
              "  </thead>\n",
              "  <tbody>\n",
              "    <tr>\n",
              "      <th>0</th>\n",
              "      <td>Veryhigh</td>\n",
              "      <td>2</td>\n",
              "      <td>There constants alpha beta frac x alpha x beta...</td>\n",
              "      <td>71</td>\n",
              "      <td>15</td>\n",
              "    </tr>\n",
              "    <tr>\n",
              "      <th>1</th>\n",
              "      <td>Veryhigh</td>\n",
              "      <td>2</td>\n",
              "      <td>The length segment points sqrt units What prod...</td>\n",
              "      <td>65</td>\n",
              "      <td>10</td>\n",
              "    </tr>\n",
              "    <tr>\n",
              "      <th>2</th>\n",
              "      <td>Veryhigh</td>\n",
              "      <td>5</td>\n",
              "      <td>Chewbacca pieces cherry gum pieces grape gum S...</td>\n",
              "      <td>263</td>\n",
              "      <td>44</td>\n",
              "    </tr>\n",
              "    <tr>\n",
              "      <th>3</th>\n",
              "      <td>Veryhigh</td>\n",
              "      <td>3</td>\n",
              "      <td>For constants b let f x left begin array cl ax...</td>\n",
              "      <td>122</td>\n",
              "      <td>31</td>\n",
              "    </tr>\n",
              "    <tr>\n",
              "      <th>4</th>\n",
              "      <td>Low</td>\n",
              "      <td>1</td>\n",
              "      <td>Calculate sum cdots</td>\n",
              "      <td>19</td>\n",
              "      <td>3</td>\n",
              "    </tr>\n",
              "  </tbody>\n",
              "</table>\n",
              "</div>\n",
              "      <button class=\"colab-df-convert\" onclick=\"convertToInteractive('df-ba8446dc-dcc4-4b3f-8ea6-ac0117ef28dc')\"\n",
              "              title=\"Convert this dataframe to an interactive table.\"\n",
              "              style=\"display:none;\">\n",
              "        \n",
              "  <svg xmlns=\"http://www.w3.org/2000/svg\" height=\"24px\"viewBox=\"0 0 24 24\"\n",
              "       width=\"24px\">\n",
              "    <path d=\"M0 0h24v24H0V0z\" fill=\"none\"/>\n",
              "    <path d=\"M18.56 5.44l.94 2.06.94-2.06 2.06-.94-2.06-.94-.94-2.06-.94 2.06-2.06.94zm-11 1L8.5 8.5l.94-2.06 2.06-.94-2.06-.94L8.5 2.5l-.94 2.06-2.06.94zm10 10l.94 2.06.94-2.06 2.06-.94-2.06-.94-.94-2.06-.94 2.06-2.06.94z\"/><path d=\"M17.41 7.96l-1.37-1.37c-.4-.4-.92-.59-1.43-.59-.52 0-1.04.2-1.43.59L10.3 9.45l-7.72 7.72c-.78.78-.78 2.05 0 2.83L4 21.41c.39.39.9.59 1.41.59.51 0 1.02-.2 1.41-.59l7.78-7.78 2.81-2.81c.8-.78.8-2.07 0-2.86zM5.41 20L4 18.59l7.72-7.72 1.47 1.35L5.41 20z\"/>\n",
              "  </svg>\n",
              "      </button>\n",
              "      \n",
              "  <style>\n",
              "    .colab-df-container {\n",
              "      display:flex;\n",
              "      flex-wrap:wrap;\n",
              "      gap: 12px;\n",
              "    }\n",
              "\n",
              "    .colab-df-convert {\n",
              "      background-color: #E8F0FE;\n",
              "      border: none;\n",
              "      border-radius: 50%;\n",
              "      cursor: pointer;\n",
              "      display: none;\n",
              "      fill: #1967D2;\n",
              "      height: 32px;\n",
              "      padding: 0 0 0 0;\n",
              "      width: 32px;\n",
              "    }\n",
              "\n",
              "    .colab-df-convert:hover {\n",
              "      background-color: #E2EBFA;\n",
              "      box-shadow: 0px 1px 2px rgba(60, 64, 67, 0.3), 0px 1px 3px 1px rgba(60, 64, 67, 0.15);\n",
              "      fill: #174EA6;\n",
              "    }\n",
              "\n",
              "    [theme=dark] .colab-df-convert {\n",
              "      background-color: #3B4455;\n",
              "      fill: #D2E3FC;\n",
              "    }\n",
              "\n",
              "    [theme=dark] .colab-df-convert:hover {\n",
              "      background-color: #434B5C;\n",
              "      box-shadow: 0px 1px 3px 1px rgba(0, 0, 0, 0.15);\n",
              "      filter: drop-shadow(0px 1px 2px rgba(0, 0, 0, 0.3));\n",
              "      fill: #FFFFFF;\n",
              "    }\n",
              "  </style>\n",
              "\n",
              "      <script>\n",
              "        const buttonEl =\n",
              "          document.querySelector('#df-ba8446dc-dcc4-4b3f-8ea6-ac0117ef28dc button.colab-df-convert');\n",
              "        buttonEl.style.display =\n",
              "          google.colab.kernel.accessAllowed ? 'block' : 'none';\n",
              "\n",
              "        async function convertToInteractive(key) {\n",
              "          const element = document.querySelector('#df-ba8446dc-dcc4-4b3f-8ea6-ac0117ef28dc');\n",
              "          const dataTable =\n",
              "            await google.colab.kernel.invokeFunction('convertToInteractive',\n",
              "                                                     [key], {});\n",
              "          if (!dataTable) return;\n",
              "\n",
              "          const docLinkHtml = 'Like what you see? Visit the ' +\n",
              "            '<a target=\"_blank\" href=https://colab.research.google.com/notebooks/data_table.ipynb>data table notebook</a>'\n",
              "            + ' to learn more about interactive tables.';\n",
              "          element.innerHTML = '';\n",
              "          dataTable['output_type'] = 'display_data';\n",
              "          await google.colab.output.renderOutput(dataTable, element);\n",
              "          const docLink = document.createElement('div');\n",
              "          docLink.innerHTML = docLinkHtml;\n",
              "          element.appendChild(docLink);\n",
              "        }\n",
              "      </script>\n",
              "    </div>\n",
              "  </div>\n",
              "  "
            ]
          },
          "metadata": {},
          "execution_count": 45
        }
      ],
      "source": [
        "df_liststring.head()"
      ]
    },
    {
      "cell_type": "markdown",
      "metadata": {
        "id": "lySSRDon1Lvl"
      },
      "source": [
        "Function to count syllables"
      ]
    },
    {
      "cell_type": "markdown",
      "metadata": {
        "id": "ja0kkz6g1OXu"
      },
      "source": [
        "Counted number of syllables."
      ]
    },
    {
      "cell_type": "code",
      "execution_count": 46,
      "metadata": {
        "id": "wdhlwcVv0t5O"
      },
      "outputs": [],
      "source": [
        "def syllable_count(df_col):\n",
        "    df_col = df_col.lower()\n",
        "    count = 0\n",
        "    vowels = \"aeiou\"\n",
        "    if df_col[0] in vowels:\n",
        "        count += 1\n",
        "    for index in range(1, len(df_col)):\n",
        "        if df_col[index] in vowels and df_col[index - 1] not in vowels:\n",
        "            count += 1\n",
        "    if df_col.endswith(\"e\"):\n",
        "        count -= 1\n",
        "    if count == 0:\n",
        "        count += 1\n",
        "    return count"
      ]
    },
    {
      "cell_type": "code",
      "execution_count": 47,
      "metadata": {
        "id": "PCd2gABB1Q0B"
      },
      "outputs": [],
      "source": [
        "df_liststring['syllables'] = df_liststring['liststring'].apply(syllable_count)"
      ]
    },
    {
      "cell_type": "code",
      "execution_count": 48,
      "metadata": {
        "colab": {
          "base_uri": "https://localhost:8080/",
          "height": 206
        },
        "id": "ZnPaa5Bk1XRU",
        "outputId": "821725fd-a510-4dbe-f48d-8eec45c5c8ea"
      },
      "outputs": [
        {
          "output_type": "execute_result",
          "data": {
            "text/plain": [
              "     Level   sent_sum                                         liststring  \\\n",
              "0  Veryhigh         2  There constants alpha beta frac x alpha x beta...   \n",
              "1  Veryhigh         2  The length segment points sqrt units What prod...   \n",
              "2  Veryhigh         5  Chewbacca pieces cherry gum pieces grape gum S...   \n",
              "3  Veryhigh         3  For constants b let f x left begin array cl ax...   \n",
              "4       Low         1                                Calculate sum cdots   \n",
              "\n",
              "   word_sum  word_count  syllables  \n",
              "0        71          15         19  \n",
              "1        65          10         15  \n",
              "2       263          44         70  \n",
              "3       122          31         23  \n",
              "4        19           3          6  "
            ],
            "text/html": [
              "\n",
              "  <div id=\"df-227428f3-06f9-483e-b4ca-d9e540d74750\">\n",
              "    <div class=\"colab-df-container\">\n",
              "      <div>\n",
              "<style scoped>\n",
              "    .dataframe tbody tr th:only-of-type {\n",
              "        vertical-align: middle;\n",
              "    }\n",
              "\n",
              "    .dataframe tbody tr th {\n",
              "        vertical-align: top;\n",
              "    }\n",
              "\n",
              "    .dataframe thead th {\n",
              "        text-align: right;\n",
              "    }\n",
              "</style>\n",
              "<table border=\"1\" class=\"dataframe\">\n",
              "  <thead>\n",
              "    <tr style=\"text-align: right;\">\n",
              "      <th></th>\n",
              "      <th>Level</th>\n",
              "      <th>sent_sum</th>\n",
              "      <th>liststring</th>\n",
              "      <th>word_sum</th>\n",
              "      <th>word_count</th>\n",
              "      <th>syllables</th>\n",
              "    </tr>\n",
              "  </thead>\n",
              "  <tbody>\n",
              "    <tr>\n",
              "      <th>0</th>\n",
              "      <td>Veryhigh</td>\n",
              "      <td>2</td>\n",
              "      <td>There constants alpha beta frac x alpha x beta...</td>\n",
              "      <td>71</td>\n",
              "      <td>15</td>\n",
              "      <td>19</td>\n",
              "    </tr>\n",
              "    <tr>\n",
              "      <th>1</th>\n",
              "      <td>Veryhigh</td>\n",
              "      <td>2</td>\n",
              "      <td>The length segment points sqrt units What prod...</td>\n",
              "      <td>65</td>\n",
              "      <td>10</td>\n",
              "      <td>15</td>\n",
              "    </tr>\n",
              "    <tr>\n",
              "      <th>2</th>\n",
              "      <td>Veryhigh</td>\n",
              "      <td>5</td>\n",
              "      <td>Chewbacca pieces cherry gum pieces grape gum S...</td>\n",
              "      <td>263</td>\n",
              "      <td>44</td>\n",
              "      <td>70</td>\n",
              "    </tr>\n",
              "    <tr>\n",
              "      <th>3</th>\n",
              "      <td>Veryhigh</td>\n",
              "      <td>3</td>\n",
              "      <td>For constants b let f x left begin array cl ax...</td>\n",
              "      <td>122</td>\n",
              "      <td>31</td>\n",
              "      <td>23</td>\n",
              "    </tr>\n",
              "    <tr>\n",
              "      <th>4</th>\n",
              "      <td>Low</td>\n",
              "      <td>1</td>\n",
              "      <td>Calculate sum cdots</td>\n",
              "      <td>19</td>\n",
              "      <td>3</td>\n",
              "      <td>6</td>\n",
              "    </tr>\n",
              "  </tbody>\n",
              "</table>\n",
              "</div>\n",
              "      <button class=\"colab-df-convert\" onclick=\"convertToInteractive('df-227428f3-06f9-483e-b4ca-d9e540d74750')\"\n",
              "              title=\"Convert this dataframe to an interactive table.\"\n",
              "              style=\"display:none;\">\n",
              "        \n",
              "  <svg xmlns=\"http://www.w3.org/2000/svg\" height=\"24px\"viewBox=\"0 0 24 24\"\n",
              "       width=\"24px\">\n",
              "    <path d=\"M0 0h24v24H0V0z\" fill=\"none\"/>\n",
              "    <path d=\"M18.56 5.44l.94 2.06.94-2.06 2.06-.94-2.06-.94-.94-2.06-.94 2.06-2.06.94zm-11 1L8.5 8.5l.94-2.06 2.06-.94-2.06-.94L8.5 2.5l-.94 2.06-2.06.94zm10 10l.94 2.06.94-2.06 2.06-.94-2.06-.94-.94-2.06-.94 2.06-2.06.94z\"/><path d=\"M17.41 7.96l-1.37-1.37c-.4-.4-.92-.59-1.43-.59-.52 0-1.04.2-1.43.59L10.3 9.45l-7.72 7.72c-.78.78-.78 2.05 0 2.83L4 21.41c.39.39.9.59 1.41.59.51 0 1.02-.2 1.41-.59l7.78-7.78 2.81-2.81c.8-.78.8-2.07 0-2.86zM5.41 20L4 18.59l7.72-7.72 1.47 1.35L5.41 20z\"/>\n",
              "  </svg>\n",
              "      </button>\n",
              "      \n",
              "  <style>\n",
              "    .colab-df-container {\n",
              "      display:flex;\n",
              "      flex-wrap:wrap;\n",
              "      gap: 12px;\n",
              "    }\n",
              "\n",
              "    .colab-df-convert {\n",
              "      background-color: #E8F0FE;\n",
              "      border: none;\n",
              "      border-radius: 50%;\n",
              "      cursor: pointer;\n",
              "      display: none;\n",
              "      fill: #1967D2;\n",
              "      height: 32px;\n",
              "      padding: 0 0 0 0;\n",
              "      width: 32px;\n",
              "    }\n",
              "\n",
              "    .colab-df-convert:hover {\n",
              "      background-color: #E2EBFA;\n",
              "      box-shadow: 0px 1px 2px rgba(60, 64, 67, 0.3), 0px 1px 3px 1px rgba(60, 64, 67, 0.15);\n",
              "      fill: #174EA6;\n",
              "    }\n",
              "\n",
              "    [theme=dark] .colab-df-convert {\n",
              "      background-color: #3B4455;\n",
              "      fill: #D2E3FC;\n",
              "    }\n",
              "\n",
              "    [theme=dark] .colab-df-convert:hover {\n",
              "      background-color: #434B5C;\n",
              "      box-shadow: 0px 1px 3px 1px rgba(0, 0, 0, 0.15);\n",
              "      filter: drop-shadow(0px 1px 2px rgba(0, 0, 0, 0.3));\n",
              "      fill: #FFFFFF;\n",
              "    }\n",
              "  </style>\n",
              "\n",
              "      <script>\n",
              "        const buttonEl =\n",
              "          document.querySelector('#df-227428f3-06f9-483e-b4ca-d9e540d74750 button.colab-df-convert');\n",
              "        buttonEl.style.display =\n",
              "          google.colab.kernel.accessAllowed ? 'block' : 'none';\n",
              "\n",
              "        async function convertToInteractive(key) {\n",
              "          const element = document.querySelector('#df-227428f3-06f9-483e-b4ca-d9e540d74750');\n",
              "          const dataTable =\n",
              "            await google.colab.kernel.invokeFunction('convertToInteractive',\n",
              "                                                     [key], {});\n",
              "          if (!dataTable) return;\n",
              "\n",
              "          const docLinkHtml = 'Like what you see? Visit the ' +\n",
              "            '<a target=\"_blank\" href=https://colab.research.google.com/notebooks/data_table.ipynb>data table notebook</a>'\n",
              "            + ' to learn more about interactive tables.';\n",
              "          element.innerHTML = '';\n",
              "          dataTable['output_type'] = 'display_data';\n",
              "          await google.colab.output.renderOutput(dataTable, element);\n",
              "          const docLink = document.createElement('div');\n",
              "          docLink.innerHTML = docLinkHtml;\n",
              "          element.appendChild(docLink);\n",
              "        }\n",
              "      </script>\n",
              "    </div>\n",
              "  </div>\n",
              "  "
            ]
          },
          "metadata": {},
          "execution_count": 48
        }
      ],
      "source": [
        "df_liststring.head()"
      ]
    },
    {
      "cell_type": "markdown",
      "metadata": {
        "id": "JPDQ_pUo1dxD"
      },
      "source": [
        "COUNT OF POLY SYLLABLES"
      ]
    },
    {
      "cell_type": "code",
      "execution_count": 49,
      "metadata": {
        "id": "kLCi2aO91Yo4"
      },
      "outputs": [],
      "source": [
        "def count_poly_syllables(df_col):\n",
        "  total_count = 0\n",
        "  df_col = df_col.split()\n",
        "  for word in df_col: \n",
        "    #print(word)\n",
        "    temp = syllable_count(word)\n",
        "    if temp>=3:\n",
        "      total_count = total_count+temp\n",
        "  return total_count"
      ]
    },
    {
      "cell_type": "code",
      "execution_count": 50,
      "metadata": {
        "id": "MD5O7ZBU1fw6"
      },
      "outputs": [],
      "source": [
        "df_liststring['poly_syllables'] = df_liststring['liststring'].apply(count_poly_syllables)"
      ]
    },
    {
      "cell_type": "code",
      "execution_count": 51,
      "metadata": {
        "colab": {
          "base_uri": "https://localhost:8080/",
          "height": 206
        },
        "id": "EkU2qLnx1iHf",
        "outputId": "5b332770-4c1c-4dce-84f4-0ade6ffaf5b4"
      },
      "outputs": [
        {
          "output_type": "execute_result",
          "data": {
            "text/plain": [
              "     Level   sent_sum                                         liststring  \\\n",
              "0  Veryhigh         2  There constants alpha beta frac x alpha x beta...   \n",
              "1  Veryhigh         2  The length segment points sqrt units What prod...   \n",
              "2  Veryhigh         5  Chewbacca pieces cherry gum pieces grape gum S...   \n",
              "3  Veryhigh         3  For constants b let f x left begin array cl ax...   \n",
              "4       Low         1                                Calculate sum cdots   \n",
              "\n",
              "   word_sum  word_count  syllables  poly_syllables  \n",
              "0        71          15         19               0  \n",
              "1        65          10         15               0  \n",
              "2       263          44         70               6  \n",
              "3       122          31         23               0  \n",
              "4        19           3          6               3  "
            ],
            "text/html": [
              "\n",
              "  <div id=\"df-ddf45832-f77b-4b47-9238-dec8ff2743b8\">\n",
              "    <div class=\"colab-df-container\">\n",
              "      <div>\n",
              "<style scoped>\n",
              "    .dataframe tbody tr th:only-of-type {\n",
              "        vertical-align: middle;\n",
              "    }\n",
              "\n",
              "    .dataframe tbody tr th {\n",
              "        vertical-align: top;\n",
              "    }\n",
              "\n",
              "    .dataframe thead th {\n",
              "        text-align: right;\n",
              "    }\n",
              "</style>\n",
              "<table border=\"1\" class=\"dataframe\">\n",
              "  <thead>\n",
              "    <tr style=\"text-align: right;\">\n",
              "      <th></th>\n",
              "      <th>Level</th>\n",
              "      <th>sent_sum</th>\n",
              "      <th>liststring</th>\n",
              "      <th>word_sum</th>\n",
              "      <th>word_count</th>\n",
              "      <th>syllables</th>\n",
              "      <th>poly_syllables</th>\n",
              "    </tr>\n",
              "  </thead>\n",
              "  <tbody>\n",
              "    <tr>\n",
              "      <th>0</th>\n",
              "      <td>Veryhigh</td>\n",
              "      <td>2</td>\n",
              "      <td>There constants alpha beta frac x alpha x beta...</td>\n",
              "      <td>71</td>\n",
              "      <td>15</td>\n",
              "      <td>19</td>\n",
              "      <td>0</td>\n",
              "    </tr>\n",
              "    <tr>\n",
              "      <th>1</th>\n",
              "      <td>Veryhigh</td>\n",
              "      <td>2</td>\n",
              "      <td>The length segment points sqrt units What prod...</td>\n",
              "      <td>65</td>\n",
              "      <td>10</td>\n",
              "      <td>15</td>\n",
              "      <td>0</td>\n",
              "    </tr>\n",
              "    <tr>\n",
              "      <th>2</th>\n",
              "      <td>Veryhigh</td>\n",
              "      <td>5</td>\n",
              "      <td>Chewbacca pieces cherry gum pieces grape gum S...</td>\n",
              "      <td>263</td>\n",
              "      <td>44</td>\n",
              "      <td>70</td>\n",
              "      <td>6</td>\n",
              "    </tr>\n",
              "    <tr>\n",
              "      <th>3</th>\n",
              "      <td>Veryhigh</td>\n",
              "      <td>3</td>\n",
              "      <td>For constants b let f x left begin array cl ax...</td>\n",
              "      <td>122</td>\n",
              "      <td>31</td>\n",
              "      <td>23</td>\n",
              "      <td>0</td>\n",
              "    </tr>\n",
              "    <tr>\n",
              "      <th>4</th>\n",
              "      <td>Low</td>\n",
              "      <td>1</td>\n",
              "      <td>Calculate sum cdots</td>\n",
              "      <td>19</td>\n",
              "      <td>3</td>\n",
              "      <td>6</td>\n",
              "      <td>3</td>\n",
              "    </tr>\n",
              "  </tbody>\n",
              "</table>\n",
              "</div>\n",
              "      <button class=\"colab-df-convert\" onclick=\"convertToInteractive('df-ddf45832-f77b-4b47-9238-dec8ff2743b8')\"\n",
              "              title=\"Convert this dataframe to an interactive table.\"\n",
              "              style=\"display:none;\">\n",
              "        \n",
              "  <svg xmlns=\"http://www.w3.org/2000/svg\" height=\"24px\"viewBox=\"0 0 24 24\"\n",
              "       width=\"24px\">\n",
              "    <path d=\"M0 0h24v24H0V0z\" fill=\"none\"/>\n",
              "    <path d=\"M18.56 5.44l.94 2.06.94-2.06 2.06-.94-2.06-.94-.94-2.06-.94 2.06-2.06.94zm-11 1L8.5 8.5l.94-2.06 2.06-.94-2.06-.94L8.5 2.5l-.94 2.06-2.06.94zm10 10l.94 2.06.94-2.06 2.06-.94-2.06-.94-.94-2.06-.94 2.06-2.06.94z\"/><path d=\"M17.41 7.96l-1.37-1.37c-.4-.4-.92-.59-1.43-.59-.52 0-1.04.2-1.43.59L10.3 9.45l-7.72 7.72c-.78.78-.78 2.05 0 2.83L4 21.41c.39.39.9.59 1.41.59.51 0 1.02-.2 1.41-.59l7.78-7.78 2.81-2.81c.8-.78.8-2.07 0-2.86zM5.41 20L4 18.59l7.72-7.72 1.47 1.35L5.41 20z\"/>\n",
              "  </svg>\n",
              "      </button>\n",
              "      \n",
              "  <style>\n",
              "    .colab-df-container {\n",
              "      display:flex;\n",
              "      flex-wrap:wrap;\n",
              "      gap: 12px;\n",
              "    }\n",
              "\n",
              "    .colab-df-convert {\n",
              "      background-color: #E8F0FE;\n",
              "      border: none;\n",
              "      border-radius: 50%;\n",
              "      cursor: pointer;\n",
              "      display: none;\n",
              "      fill: #1967D2;\n",
              "      height: 32px;\n",
              "      padding: 0 0 0 0;\n",
              "      width: 32px;\n",
              "    }\n",
              "\n",
              "    .colab-df-convert:hover {\n",
              "      background-color: #E2EBFA;\n",
              "      box-shadow: 0px 1px 2px rgba(60, 64, 67, 0.3), 0px 1px 3px 1px rgba(60, 64, 67, 0.15);\n",
              "      fill: #174EA6;\n",
              "    }\n",
              "\n",
              "    [theme=dark] .colab-df-convert {\n",
              "      background-color: #3B4455;\n",
              "      fill: #D2E3FC;\n",
              "    }\n",
              "\n",
              "    [theme=dark] .colab-df-convert:hover {\n",
              "      background-color: #434B5C;\n",
              "      box-shadow: 0px 1px 3px 1px rgba(0, 0, 0, 0.15);\n",
              "      filter: drop-shadow(0px 1px 2px rgba(0, 0, 0, 0.3));\n",
              "      fill: #FFFFFF;\n",
              "    }\n",
              "  </style>\n",
              "\n",
              "      <script>\n",
              "        const buttonEl =\n",
              "          document.querySelector('#df-ddf45832-f77b-4b47-9238-dec8ff2743b8 button.colab-df-convert');\n",
              "        buttonEl.style.display =\n",
              "          google.colab.kernel.accessAllowed ? 'block' : 'none';\n",
              "\n",
              "        async function convertToInteractive(key) {\n",
              "          const element = document.querySelector('#df-ddf45832-f77b-4b47-9238-dec8ff2743b8');\n",
              "          const dataTable =\n",
              "            await google.colab.kernel.invokeFunction('convertToInteractive',\n",
              "                                                     [key], {});\n",
              "          if (!dataTable) return;\n",
              "\n",
              "          const docLinkHtml = 'Like what you see? Visit the ' +\n",
              "            '<a target=\"_blank\" href=https://colab.research.google.com/notebooks/data_table.ipynb>data table notebook</a>'\n",
              "            + ' to learn more about interactive tables.';\n",
              "          element.innerHTML = '';\n",
              "          dataTable['output_type'] = 'display_data';\n",
              "          await google.colab.output.renderOutput(dataTable, element);\n",
              "          const docLink = document.createElement('div');\n",
              "          docLink.innerHTML = docLinkHtml;\n",
              "          element.appendChild(docLink);\n",
              "        }\n",
              "      </script>\n",
              "    </div>\n",
              "  </div>\n",
              "  "
            ]
          },
          "metadata": {},
          "execution_count": 51
        }
      ],
      "source": [
        "df_liststring.head()"
      ]
    },
    {
      "cell_type": "markdown",
      "metadata": {
        "id": "5T1RCWoA11Dw"
      },
      "source": [
        "Gunning Fog Index"
      ]
    },
    {
      "cell_type": "markdown",
      "metadata": {
        "id": "ZlWQZGVH17Si"
      },
      "source": [
        "count_words = Numbers of characters in sentences."
      ]
    },
    {
      "cell_type": "markdown",
      "metadata": {
        "id": "ZRDi82b_1-Jk"
      },
      "source": [
        "word_length = Number of words in sentences."
      ]
    },
    {
      "cell_type": "code",
      "execution_count": 52,
      "metadata": {
        "id": "AHisRvBS1mjN"
      },
      "outputs": [],
      "source": [
        "# 0.4[ (words/sentence) + 100(complex words/words) ]\n",
        "GF = []\n",
        "for i in df.iloc[:,0]:\n",
        "  w = word_length(i)\n",
        "  c = countWords(i)\n",
        "  s = count_sentences(i)\n",
        "  gf_score = (w/s) + (100*c/w)\n",
        "  GF.append(0.4*gf_score)"
      ]
    },
    {
      "cell_type": "code",
      "execution_count": 53,
      "metadata": {
        "colab": {
          "base_uri": "https://localhost:8080/"
        },
        "id": "ds4cwp7g2AC3",
        "outputId": "00b74a5c-3a09-4830-92d0-3f9eb147cd7a"
      },
      "outputs": [
        {
          "output_type": "execute_result",
          "data": {
            "text/plain": [
              "1744"
            ]
          },
          "metadata": {},
          "execution_count": 53
        }
      ],
      "source": [
        "len(GF)"
      ]
    },
    {
      "cell_type": "markdown",
      "metadata": {
        "id": "AbtQG5Sh5cWq"
      },
      "source": [
        "Flesch - Kincaid Readability Index"
      ]
    },
    {
      "cell_type": "markdown",
      "metadata": {
        "id": "RbG4JxRw5egR"
      },
      "source": [
        "count_words = Numbers of characters in sentences."
      ]
    },
    {
      "cell_type": "markdown",
      "metadata": {
        "id": "jJlxKG1r5ghN"
      },
      "source": [
        "word_length = Number of words in sentences."
      ]
    },
    {
      "cell_type": "code",
      "execution_count": 54,
      "metadata": {
        "id": "vDAyCHtZ2RPw"
      },
      "outputs": [],
      "source": [
        "#Formula: 206.835 - 1.015(total words/total sentences) - 84.6(total syllables/total words)\n",
        "FK = []\n",
        "for i in df.iloc[:,0]:\n",
        "  w = word_length(i)\n",
        "  syl = syllable_count(i)\n",
        "  s = count_sentences(i)\n",
        "  fk_score = (1.015*w/s) + (84.6*syl/w)\n",
        "  fk_score = 206.835 - fk_score \n",
        "  FK.append(fk_score)"
      ]
    },
    {
      "cell_type": "code",
      "execution_count": 55,
      "metadata": {
        "colab": {
          "base_uri": "https://localhost:8080/"
        },
        "id": "9IfBxcbH5i1P",
        "outputId": "a5190aab-acec-4eb0-f24b-a0e717c0976d"
      },
      "outputs": [
        {
          "output_type": "execute_result",
          "data": {
            "text/plain": [
              "1744"
            ]
          },
          "metadata": {},
          "execution_count": 55
        }
      ],
      "source": [
        "len(FK)"
      ]
    },
    {
      "cell_type": "markdown",
      "metadata": {
        "id": "owb-QT-r5wT7"
      },
      "source": [
        "SMOG (Simple Measure of Gobbledygook) Index"
      ]
    },
    {
      "cell_type": "code",
      "execution_count": 56,
      "metadata": {
        "id": "Ji-ryO4t5r8b"
      },
      "outputs": [],
      "source": [
        "# Fromula: 3.1291 + 1.0430(sqrt(number of polysyllables * 30 /number of sentences))\n",
        "SMOG = []\n",
        "for i in df.iloc[:,0]:\n",
        "  syl = count_poly_syllables(i)\n",
        "  s = count_sentences(i)\n",
        "  smog_score = np.sqrt(30*syl/s)\n",
        "  smog_score = smog_score * 1.0430\n",
        "  SMOG.append(3.1291+smog_score)"
      ]
    },
    {
      "cell_type": "code",
      "execution_count": 57,
      "metadata": {
        "colab": {
          "base_uri": "https://localhost:8080/"
        },
        "id": "tCGHxJSQ5yOG",
        "outputId": "6c359085-4ce1-4b85-c0f1-cc584d5013b5"
      },
      "outputs": [
        {
          "output_type": "execute_result",
          "data": {
            "text/plain": [
              "1744"
            ]
          },
          "metadata": {},
          "execution_count": 57
        }
      ],
      "source": [
        "len(SMOG)"
      ]
    },
    {
      "cell_type": "markdown",
      "metadata": {
        "id": "1h0T680152hU"
      },
      "source": [
        "Automated Readability Index"
      ]
    },
    {
      "cell_type": "markdown",
      "metadata": {
        "id": "rJ-6dqtx54i4"
      },
      "source": [
        "count_words = Numbers of characters in sentences."
      ]
    },
    {
      "cell_type": "markdown",
      "metadata": {
        "id": "ZSYKz9bS56XN"
      },
      "source": [
        "word_length = Number of words in sentences."
      ]
    },
    {
      "cell_type": "code",
      "execution_count": 58,
      "metadata": {
        "id": "PTByb1LS50Pb"
      },
      "outputs": [],
      "source": [
        "AR = []\n",
        "for i in df.iloc[:,0]:\n",
        "  w = word_length(i)\n",
        "  c = count_words(i)\n",
        "  s = count_sentences(i)\n",
        "  ar_score = (4.71*c/w) + (0.5*w/s) - 21.43\n",
        "  AR.append(ar_score)"
      ]
    },
    {
      "cell_type": "code",
      "execution_count": 59,
      "metadata": {
        "colab": {
          "base_uri": "https://localhost:8080/"
        },
        "id": "OwbuD-JN58TA",
        "outputId": "1a6b5983-d201-43e8-9c0a-fd83ffb244ae"
      },
      "outputs": [
        {
          "output_type": "execute_result",
          "data": {
            "text/plain": [
              "1744"
            ]
          },
          "metadata": {},
          "execution_count": 59
        }
      ],
      "source": [
        "len(AR)"
      ]
    },
    {
      "cell_type": "markdown",
      "metadata": {
        "id": "9zUctQp15_tP"
      },
      "source": [
        "Coleman-Liau Index"
      ]
    },
    {
      "cell_type": "markdown",
      "metadata": {
        "id": "uwI901x06B5j"
      },
      "source": [
        "count_words = Numbers of characters in sentences."
      ]
    },
    {
      "cell_type": "markdown",
      "metadata": {
        "id": "0GkWK7Fy6EDa"
      },
      "source": [
        "word_length = Number of words in sentences."
      ]
    },
    {
      "cell_type": "code",
      "execution_count": 60,
      "metadata": {
        "id": "xrmGENaJ591s"
      },
      "outputs": [],
      "source": [
        "#Formula: 0.0588(Avg characters per 100 words) - 15.8 - 0.296(average number of sentences per 100 words)\n",
        "CL = []\n",
        "for i in df.iloc[:,0]:\n",
        "  w = word_length(i)\n",
        "  c = count_words(i)\n",
        "  s = count_sentences(i)\n",
        "  term1 = 0.0588*c*100/w #c:w :: ?:100\n",
        "  term3 = 0.296*s*100/w #s:w :: ?:100\n",
        "  cl_score = term1-15.8-term3\n",
        "  CL.append(cl_score)"
      ]
    },
    {
      "cell_type": "code",
      "execution_count": 61,
      "metadata": {
        "colab": {
          "base_uri": "https://localhost:8080/"
        },
        "id": "dkA3jiYI6GIv",
        "outputId": "4fb9d6c4-11e4-400f-a3a6-e7d1d7135d57"
      },
      "outputs": [
        {
          "output_type": "execute_result",
          "data": {
            "text/plain": [
              "1744"
            ]
          },
          "metadata": {},
          "execution_count": 61
        }
      ],
      "source": [
        "len(CL)"
      ]
    },
    {
      "cell_type": "code",
      "execution_count": 62,
      "metadata": {
        "colab": {
          "base_uri": "https://localhost:8080/",
          "height": 206
        },
        "id": "7j0fZO4Z6Iok",
        "outputId": "e5922604-69d2-40d7-eed5-08912b5c123b"
      },
      "outputs": [
        {
          "output_type": "execute_result",
          "data": {
            "text/plain": [
              "     Level   sent_sum                                         liststring  \\\n",
              "0  Veryhigh         2  There constants alpha beta frac x alpha x beta...   \n",
              "1  Veryhigh         2  The length segment points sqrt units What prod...   \n",
              "2  Veryhigh         5  Chewbacca pieces cherry gum pieces grape gum S...   \n",
              "3  Veryhigh         3  For constants b let f x left begin array cl ax...   \n",
              "4       Low         1                                Calculate sum cdots   \n",
              "\n",
              "   word_sum  word_count  syllables  poly_syllables         GF          FK  \\\n",
              "0        71          15         19               0  12.221053   85.876711   \n",
              "1        65          10         15               0  12.742857  101.982143   \n",
              "2       263          44         70               6   9.936790   78.636444   \n",
              "3       122          31         23               0  13.066667  129.006333   \n",
              "4        19           3          6               3   8.666667  152.130000   \n",
              "\n",
              "        SMOG         AR         CL  \n",
              "0   3.129100  19.512632  26.267368  \n",
              "1   3.129100  10.129286  12.745714  \n",
              "2   9.387100  10.161852  11.700247  \n",
              "3  11.855464   9.982333  11.236000  \n",
              "4  13.023867   1.770000   1.826667  "
            ],
            "text/html": [
              "\n",
              "  <div id=\"df-bfa9c54a-2b97-4167-b326-676dc685f10b\">\n",
              "    <div class=\"colab-df-container\">\n",
              "      <div>\n",
              "<style scoped>\n",
              "    .dataframe tbody tr th:only-of-type {\n",
              "        vertical-align: middle;\n",
              "    }\n",
              "\n",
              "    .dataframe tbody tr th {\n",
              "        vertical-align: top;\n",
              "    }\n",
              "\n",
              "    .dataframe thead th {\n",
              "        text-align: right;\n",
              "    }\n",
              "</style>\n",
              "<table border=\"1\" class=\"dataframe\">\n",
              "  <thead>\n",
              "    <tr style=\"text-align: right;\">\n",
              "      <th></th>\n",
              "      <th>Level</th>\n",
              "      <th>sent_sum</th>\n",
              "      <th>liststring</th>\n",
              "      <th>word_sum</th>\n",
              "      <th>word_count</th>\n",
              "      <th>syllables</th>\n",
              "      <th>poly_syllables</th>\n",
              "      <th>GF</th>\n",
              "      <th>FK</th>\n",
              "      <th>SMOG</th>\n",
              "      <th>AR</th>\n",
              "      <th>CL</th>\n",
              "    </tr>\n",
              "  </thead>\n",
              "  <tbody>\n",
              "    <tr>\n",
              "      <th>0</th>\n",
              "      <td>Veryhigh</td>\n",
              "      <td>2</td>\n",
              "      <td>There constants alpha beta frac x alpha x beta...</td>\n",
              "      <td>71</td>\n",
              "      <td>15</td>\n",
              "      <td>19</td>\n",
              "      <td>0</td>\n",
              "      <td>12.221053</td>\n",
              "      <td>85.876711</td>\n",
              "      <td>3.129100</td>\n",
              "      <td>19.512632</td>\n",
              "      <td>26.267368</td>\n",
              "    </tr>\n",
              "    <tr>\n",
              "      <th>1</th>\n",
              "      <td>Veryhigh</td>\n",
              "      <td>2</td>\n",
              "      <td>The length segment points sqrt units What prod...</td>\n",
              "      <td>65</td>\n",
              "      <td>10</td>\n",
              "      <td>15</td>\n",
              "      <td>0</td>\n",
              "      <td>12.742857</td>\n",
              "      <td>101.982143</td>\n",
              "      <td>3.129100</td>\n",
              "      <td>10.129286</td>\n",
              "      <td>12.745714</td>\n",
              "    </tr>\n",
              "    <tr>\n",
              "      <th>2</th>\n",
              "      <td>Veryhigh</td>\n",
              "      <td>5</td>\n",
              "      <td>Chewbacca pieces cherry gum pieces grape gum S...</td>\n",
              "      <td>263</td>\n",
              "      <td>44</td>\n",
              "      <td>70</td>\n",
              "      <td>6</td>\n",
              "      <td>9.936790</td>\n",
              "      <td>78.636444</td>\n",
              "      <td>9.387100</td>\n",
              "      <td>10.161852</td>\n",
              "      <td>11.700247</td>\n",
              "    </tr>\n",
              "    <tr>\n",
              "      <th>3</th>\n",
              "      <td>Veryhigh</td>\n",
              "      <td>3</td>\n",
              "      <td>For constants b let f x left begin array cl ax...</td>\n",
              "      <td>122</td>\n",
              "      <td>31</td>\n",
              "      <td>23</td>\n",
              "      <td>0</td>\n",
              "      <td>13.066667</td>\n",
              "      <td>129.006333</td>\n",
              "      <td>11.855464</td>\n",
              "      <td>9.982333</td>\n",
              "      <td>11.236000</td>\n",
              "    </tr>\n",
              "    <tr>\n",
              "      <th>4</th>\n",
              "      <td>Low</td>\n",
              "      <td>1</td>\n",
              "      <td>Calculate sum cdots</td>\n",
              "      <td>19</td>\n",
              "      <td>3</td>\n",
              "      <td>6</td>\n",
              "      <td>3</td>\n",
              "      <td>8.666667</td>\n",
              "      <td>152.130000</td>\n",
              "      <td>13.023867</td>\n",
              "      <td>1.770000</td>\n",
              "      <td>1.826667</td>\n",
              "    </tr>\n",
              "  </tbody>\n",
              "</table>\n",
              "</div>\n",
              "      <button class=\"colab-df-convert\" onclick=\"convertToInteractive('df-bfa9c54a-2b97-4167-b326-676dc685f10b')\"\n",
              "              title=\"Convert this dataframe to an interactive table.\"\n",
              "              style=\"display:none;\">\n",
              "        \n",
              "  <svg xmlns=\"http://www.w3.org/2000/svg\" height=\"24px\"viewBox=\"0 0 24 24\"\n",
              "       width=\"24px\">\n",
              "    <path d=\"M0 0h24v24H0V0z\" fill=\"none\"/>\n",
              "    <path d=\"M18.56 5.44l.94 2.06.94-2.06 2.06-.94-2.06-.94-.94-2.06-.94 2.06-2.06.94zm-11 1L8.5 8.5l.94-2.06 2.06-.94-2.06-.94L8.5 2.5l-.94 2.06-2.06.94zm10 10l.94 2.06.94-2.06 2.06-.94-2.06-.94-.94-2.06-.94 2.06-2.06.94z\"/><path d=\"M17.41 7.96l-1.37-1.37c-.4-.4-.92-.59-1.43-.59-.52 0-1.04.2-1.43.59L10.3 9.45l-7.72 7.72c-.78.78-.78 2.05 0 2.83L4 21.41c.39.39.9.59 1.41.59.51 0 1.02-.2 1.41-.59l7.78-7.78 2.81-2.81c.8-.78.8-2.07 0-2.86zM5.41 20L4 18.59l7.72-7.72 1.47 1.35L5.41 20z\"/>\n",
              "  </svg>\n",
              "      </button>\n",
              "      \n",
              "  <style>\n",
              "    .colab-df-container {\n",
              "      display:flex;\n",
              "      flex-wrap:wrap;\n",
              "      gap: 12px;\n",
              "    }\n",
              "\n",
              "    .colab-df-convert {\n",
              "      background-color: #E8F0FE;\n",
              "      border: none;\n",
              "      border-radius: 50%;\n",
              "      cursor: pointer;\n",
              "      display: none;\n",
              "      fill: #1967D2;\n",
              "      height: 32px;\n",
              "      padding: 0 0 0 0;\n",
              "      width: 32px;\n",
              "    }\n",
              "\n",
              "    .colab-df-convert:hover {\n",
              "      background-color: #E2EBFA;\n",
              "      box-shadow: 0px 1px 2px rgba(60, 64, 67, 0.3), 0px 1px 3px 1px rgba(60, 64, 67, 0.15);\n",
              "      fill: #174EA6;\n",
              "    }\n",
              "\n",
              "    [theme=dark] .colab-df-convert {\n",
              "      background-color: #3B4455;\n",
              "      fill: #D2E3FC;\n",
              "    }\n",
              "\n",
              "    [theme=dark] .colab-df-convert:hover {\n",
              "      background-color: #434B5C;\n",
              "      box-shadow: 0px 1px 3px 1px rgba(0, 0, 0, 0.15);\n",
              "      filter: drop-shadow(0px 1px 2px rgba(0, 0, 0, 0.3));\n",
              "      fill: #FFFFFF;\n",
              "    }\n",
              "  </style>\n",
              "\n",
              "      <script>\n",
              "        const buttonEl =\n",
              "          document.querySelector('#df-bfa9c54a-2b97-4167-b326-676dc685f10b button.colab-df-convert');\n",
              "        buttonEl.style.display =\n",
              "          google.colab.kernel.accessAllowed ? 'block' : 'none';\n",
              "\n",
              "        async function convertToInteractive(key) {\n",
              "          const element = document.querySelector('#df-bfa9c54a-2b97-4167-b326-676dc685f10b');\n",
              "          const dataTable =\n",
              "            await google.colab.kernel.invokeFunction('convertToInteractive',\n",
              "                                                     [key], {});\n",
              "          if (!dataTable) return;\n",
              "\n",
              "          const docLinkHtml = 'Like what you see? Visit the ' +\n",
              "            '<a target=\"_blank\" href=https://colab.research.google.com/notebooks/data_table.ipynb>data table notebook</a>'\n",
              "            + ' to learn more about interactive tables.';\n",
              "          element.innerHTML = '';\n",
              "          dataTable['output_type'] = 'display_data';\n",
              "          await google.colab.output.renderOutput(dataTable, element);\n",
              "          const docLink = document.createElement('div');\n",
              "          docLink.innerHTML = docLinkHtml;\n",
              "          element.appendChild(docLink);\n",
              "        }\n",
              "      </script>\n",
              "    </div>\n",
              "  </div>\n",
              "  "
            ]
          },
          "metadata": {},
          "execution_count": 62
        }
      ],
      "source": [
        "df_liststring[\"GF\"]=GF\n",
        "df_liststring[\"FK\"]=FK\n",
        "df_liststring[\"SMOG\"]=SMOG\n",
        "df_liststring[\"AR\"]=AR\n",
        "df_liststring[\"CL\"]=CL\n",
        "df_liststring.head(5)"
      ]
    },
    {
      "cell_type": "code",
      "execution_count": 63,
      "metadata": {
        "colab": {
          "base_uri": "https://localhost:8080/",
          "height": 206
        },
        "id": "ValMaBeD6Kdx",
        "outputId": "6740886a-5afc-4d9f-b5f4-7bb8d1dc64bd"
      },
      "outputs": [
        {
          "output_type": "execute_result",
          "data": {
            "text/plain": [
              "     Level   sent_sum  word_sum  word_count  syllables  poly_syllables  \\\n",
              "0  Veryhigh         2        71          15         19               0   \n",
              "1  Veryhigh         2        65          10         15               0   \n",
              "2  Veryhigh         5       263          44         70               6   \n",
              "3  Veryhigh         3       122          31         23               0   \n",
              "4       Low         1        19           3          6               3   \n",
              "\n",
              "          GF          FK       SMOG         AR         CL  \n",
              "0  12.221053   85.876711   3.129100  19.512632  26.267368  \n",
              "1  12.742857  101.982143   3.129100  10.129286  12.745714  \n",
              "2   9.936790   78.636444   9.387100  10.161852  11.700247  \n",
              "3  13.066667  129.006333  11.855464   9.982333  11.236000  \n",
              "4   8.666667  152.130000  13.023867   1.770000   1.826667  "
            ],
            "text/html": [
              "\n",
              "  <div id=\"df-efe281be-f543-4ccc-b06f-f6882081a5b8\">\n",
              "    <div class=\"colab-df-container\">\n",
              "      <div>\n",
              "<style scoped>\n",
              "    .dataframe tbody tr th:only-of-type {\n",
              "        vertical-align: middle;\n",
              "    }\n",
              "\n",
              "    .dataframe tbody tr th {\n",
              "        vertical-align: top;\n",
              "    }\n",
              "\n",
              "    .dataframe thead th {\n",
              "        text-align: right;\n",
              "    }\n",
              "</style>\n",
              "<table border=\"1\" class=\"dataframe\">\n",
              "  <thead>\n",
              "    <tr style=\"text-align: right;\">\n",
              "      <th></th>\n",
              "      <th>Level</th>\n",
              "      <th>sent_sum</th>\n",
              "      <th>word_sum</th>\n",
              "      <th>word_count</th>\n",
              "      <th>syllables</th>\n",
              "      <th>poly_syllables</th>\n",
              "      <th>GF</th>\n",
              "      <th>FK</th>\n",
              "      <th>SMOG</th>\n",
              "      <th>AR</th>\n",
              "      <th>CL</th>\n",
              "    </tr>\n",
              "  </thead>\n",
              "  <tbody>\n",
              "    <tr>\n",
              "      <th>0</th>\n",
              "      <td>Veryhigh</td>\n",
              "      <td>2</td>\n",
              "      <td>71</td>\n",
              "      <td>15</td>\n",
              "      <td>19</td>\n",
              "      <td>0</td>\n",
              "      <td>12.221053</td>\n",
              "      <td>85.876711</td>\n",
              "      <td>3.129100</td>\n",
              "      <td>19.512632</td>\n",
              "      <td>26.267368</td>\n",
              "    </tr>\n",
              "    <tr>\n",
              "      <th>1</th>\n",
              "      <td>Veryhigh</td>\n",
              "      <td>2</td>\n",
              "      <td>65</td>\n",
              "      <td>10</td>\n",
              "      <td>15</td>\n",
              "      <td>0</td>\n",
              "      <td>12.742857</td>\n",
              "      <td>101.982143</td>\n",
              "      <td>3.129100</td>\n",
              "      <td>10.129286</td>\n",
              "      <td>12.745714</td>\n",
              "    </tr>\n",
              "    <tr>\n",
              "      <th>2</th>\n",
              "      <td>Veryhigh</td>\n",
              "      <td>5</td>\n",
              "      <td>263</td>\n",
              "      <td>44</td>\n",
              "      <td>70</td>\n",
              "      <td>6</td>\n",
              "      <td>9.936790</td>\n",
              "      <td>78.636444</td>\n",
              "      <td>9.387100</td>\n",
              "      <td>10.161852</td>\n",
              "      <td>11.700247</td>\n",
              "    </tr>\n",
              "    <tr>\n",
              "      <th>3</th>\n",
              "      <td>Veryhigh</td>\n",
              "      <td>3</td>\n",
              "      <td>122</td>\n",
              "      <td>31</td>\n",
              "      <td>23</td>\n",
              "      <td>0</td>\n",
              "      <td>13.066667</td>\n",
              "      <td>129.006333</td>\n",
              "      <td>11.855464</td>\n",
              "      <td>9.982333</td>\n",
              "      <td>11.236000</td>\n",
              "    </tr>\n",
              "    <tr>\n",
              "      <th>4</th>\n",
              "      <td>Low</td>\n",
              "      <td>1</td>\n",
              "      <td>19</td>\n",
              "      <td>3</td>\n",
              "      <td>6</td>\n",
              "      <td>3</td>\n",
              "      <td>8.666667</td>\n",
              "      <td>152.130000</td>\n",
              "      <td>13.023867</td>\n",
              "      <td>1.770000</td>\n",
              "      <td>1.826667</td>\n",
              "    </tr>\n",
              "  </tbody>\n",
              "</table>\n",
              "</div>\n",
              "      <button class=\"colab-df-convert\" onclick=\"convertToInteractive('df-efe281be-f543-4ccc-b06f-f6882081a5b8')\"\n",
              "              title=\"Convert this dataframe to an interactive table.\"\n",
              "              style=\"display:none;\">\n",
              "        \n",
              "  <svg xmlns=\"http://www.w3.org/2000/svg\" height=\"24px\"viewBox=\"0 0 24 24\"\n",
              "       width=\"24px\">\n",
              "    <path d=\"M0 0h24v24H0V0z\" fill=\"none\"/>\n",
              "    <path d=\"M18.56 5.44l.94 2.06.94-2.06 2.06-.94-2.06-.94-.94-2.06-.94 2.06-2.06.94zm-11 1L8.5 8.5l.94-2.06 2.06-.94-2.06-.94L8.5 2.5l-.94 2.06-2.06.94zm10 10l.94 2.06.94-2.06 2.06-.94-2.06-.94-.94-2.06-.94 2.06-2.06.94z\"/><path d=\"M17.41 7.96l-1.37-1.37c-.4-.4-.92-.59-1.43-.59-.52 0-1.04.2-1.43.59L10.3 9.45l-7.72 7.72c-.78.78-.78 2.05 0 2.83L4 21.41c.39.39.9.59 1.41.59.51 0 1.02-.2 1.41-.59l7.78-7.78 2.81-2.81c.8-.78.8-2.07 0-2.86zM5.41 20L4 18.59l7.72-7.72 1.47 1.35L5.41 20z\"/>\n",
              "  </svg>\n",
              "      </button>\n",
              "      \n",
              "  <style>\n",
              "    .colab-df-container {\n",
              "      display:flex;\n",
              "      flex-wrap:wrap;\n",
              "      gap: 12px;\n",
              "    }\n",
              "\n",
              "    .colab-df-convert {\n",
              "      background-color: #E8F0FE;\n",
              "      border: none;\n",
              "      border-radius: 50%;\n",
              "      cursor: pointer;\n",
              "      display: none;\n",
              "      fill: #1967D2;\n",
              "      height: 32px;\n",
              "      padding: 0 0 0 0;\n",
              "      width: 32px;\n",
              "    }\n",
              "\n",
              "    .colab-df-convert:hover {\n",
              "      background-color: #E2EBFA;\n",
              "      box-shadow: 0px 1px 2px rgba(60, 64, 67, 0.3), 0px 1px 3px 1px rgba(60, 64, 67, 0.15);\n",
              "      fill: #174EA6;\n",
              "    }\n",
              "\n",
              "    [theme=dark] .colab-df-convert {\n",
              "      background-color: #3B4455;\n",
              "      fill: #D2E3FC;\n",
              "    }\n",
              "\n",
              "    [theme=dark] .colab-df-convert:hover {\n",
              "      background-color: #434B5C;\n",
              "      box-shadow: 0px 1px 3px 1px rgba(0, 0, 0, 0.15);\n",
              "      filter: drop-shadow(0px 1px 2px rgba(0, 0, 0, 0.3));\n",
              "      fill: #FFFFFF;\n",
              "    }\n",
              "  </style>\n",
              "\n",
              "      <script>\n",
              "        const buttonEl =\n",
              "          document.querySelector('#df-efe281be-f543-4ccc-b06f-f6882081a5b8 button.colab-df-convert');\n",
              "        buttonEl.style.display =\n",
              "          google.colab.kernel.accessAllowed ? 'block' : 'none';\n",
              "\n",
              "        async function convertToInteractive(key) {\n",
              "          const element = document.querySelector('#df-efe281be-f543-4ccc-b06f-f6882081a5b8');\n",
              "          const dataTable =\n",
              "            await google.colab.kernel.invokeFunction('convertToInteractive',\n",
              "                                                     [key], {});\n",
              "          if (!dataTable) return;\n",
              "\n",
              "          const docLinkHtml = 'Like what you see? Visit the ' +\n",
              "            '<a target=\"_blank\" href=https://colab.research.google.com/notebooks/data_table.ipynb>data table notebook</a>'\n",
              "            + ' to learn more about interactive tables.';\n",
              "          element.innerHTML = '';\n",
              "          dataTable['output_type'] = 'display_data';\n",
              "          await google.colab.output.renderOutput(dataTable, element);\n",
              "          const docLink = document.createElement('div');\n",
              "          docLink.innerHTML = docLinkHtml;\n",
              "          element.appendChild(docLink);\n",
              "        }\n",
              "      </script>\n",
              "    </div>\n",
              "  </div>\n",
              "  "
            ]
          },
          "metadata": {},
          "execution_count": 63
        }
      ],
      "source": [
        "df_liststring.drop(df_liststring.columns[[2]], axis=1, inplace=True)\n",
        "df_liststring.head()"
      ]
    },
    {
      "cell_type": "code",
      "execution_count": 64,
      "metadata": {
        "id": "ugv_EDUZmhgQ"
      },
      "outputs": [],
      "source": [
        "import scipy.stats as stats\n",
        "\n",
        "from statsmodels.miscmodels.ordinal_model import OrderedModel"
      ]
    },
    {
      "cell_type": "markdown",
      "source": [
        "**Probit ordinal regression:**"
      ],
      "metadata": {
        "id": "X9uJnKhAmhgY"
      }
    },
    {
      "cell_type": "code",
      "source": [
        "mod_prob = OrderedModel(df_liststring['Level'],\n",
        "                        df_liststring[['sent_sum', 'word_sum', 'word_count', 'syllables', 'poly_syllables', 'GF', 'FK', 'SMOG', 'AR', 'CL']],\n",
        "                        distr='probit')\n",
        "\n",
        "res_prob = mod_prob.fit(method='bfgs')\n",
        "res_prob.summary() "
      ],
      "metadata": {
        "id": "rjPiTy54qFfc"
      },
      "execution_count": null,
      "outputs": []
    },
    {
      "cell_type": "code",
      "source": [
        "df_liststring.iloc[:,0].replace([\"Verylow\", \"Low\", \"Moderate\", \"High\", \"Veryhigh\"],\n",
        "                        [1, 2, 3, 4, 5], inplace=True)"
      ],
      "metadata": {
        "id": "HQxwKG4gm01j"
      },
      "execution_count": null,
      "outputs": []
    },
    {
      "cell_type": "code",
      "execution_count": 68,
      "metadata": {
        "id": "jbZKo_VI_Gfu"
      },
      "outputs": [],
      "source": [
        "y=df_liststring['Level '] "
      ]
    },
    {
      "cell_type": "code",
      "execution_count": 69,
      "metadata": {
        "colab": {
          "base_uri": "https://localhost:8080/",
          "height": 206
        },
        "id": "3zrmfaYCBZ2s",
        "outputId": "cf91af63-c0a0-48e5-e0f0-89b2bb687b65"
      },
      "outputs": [
        {
          "output_type": "execute_result",
          "data": {
            "text/plain": [
              "   sent_sum  word_sum  word_count  syllables  poly_syllables         GF  \\\n",
              "0         2        71          15         19               0  12.221053   \n",
              "1         2        65          10         15               0  12.742857   \n",
              "2         5       263          44         70               6   9.936790   \n",
              "3         3       122          31         23               0  13.066667   \n",
              "4         1        19           3          6               3   8.666667   \n",
              "\n",
              "           FK       SMOG         AR         CL  \n",
              "0   85.876711   3.129100  19.512632  26.267368  \n",
              "1  101.982143   3.129100  10.129286  12.745714  \n",
              "2   78.636444   9.387100  10.161852  11.700247  \n",
              "3  129.006333  11.855464   9.982333  11.236000  \n",
              "4  152.130000  13.023867   1.770000   1.826667  "
            ],
            "text/html": [
              "\n",
              "  <div id=\"df-f3a19a17-34e0-490d-9a23-691f301ecbd6\">\n",
              "    <div class=\"colab-df-container\">\n",
              "      <div>\n",
              "<style scoped>\n",
              "    .dataframe tbody tr th:only-of-type {\n",
              "        vertical-align: middle;\n",
              "    }\n",
              "\n",
              "    .dataframe tbody tr th {\n",
              "        vertical-align: top;\n",
              "    }\n",
              "\n",
              "    .dataframe thead th {\n",
              "        text-align: right;\n",
              "    }\n",
              "</style>\n",
              "<table border=\"1\" class=\"dataframe\">\n",
              "  <thead>\n",
              "    <tr style=\"text-align: right;\">\n",
              "      <th></th>\n",
              "      <th>sent_sum</th>\n",
              "      <th>word_sum</th>\n",
              "      <th>word_count</th>\n",
              "      <th>syllables</th>\n",
              "      <th>poly_syllables</th>\n",
              "      <th>GF</th>\n",
              "      <th>FK</th>\n",
              "      <th>SMOG</th>\n",
              "      <th>AR</th>\n",
              "      <th>CL</th>\n",
              "    </tr>\n",
              "  </thead>\n",
              "  <tbody>\n",
              "    <tr>\n",
              "      <th>0</th>\n",
              "      <td>2</td>\n",
              "      <td>71</td>\n",
              "      <td>15</td>\n",
              "      <td>19</td>\n",
              "      <td>0</td>\n",
              "      <td>12.221053</td>\n",
              "      <td>85.876711</td>\n",
              "      <td>3.129100</td>\n",
              "      <td>19.512632</td>\n",
              "      <td>26.267368</td>\n",
              "    </tr>\n",
              "    <tr>\n",
              "      <th>1</th>\n",
              "      <td>2</td>\n",
              "      <td>65</td>\n",
              "      <td>10</td>\n",
              "      <td>15</td>\n",
              "      <td>0</td>\n",
              "      <td>12.742857</td>\n",
              "      <td>101.982143</td>\n",
              "      <td>3.129100</td>\n",
              "      <td>10.129286</td>\n",
              "      <td>12.745714</td>\n",
              "    </tr>\n",
              "    <tr>\n",
              "      <th>2</th>\n",
              "      <td>5</td>\n",
              "      <td>263</td>\n",
              "      <td>44</td>\n",
              "      <td>70</td>\n",
              "      <td>6</td>\n",
              "      <td>9.936790</td>\n",
              "      <td>78.636444</td>\n",
              "      <td>9.387100</td>\n",
              "      <td>10.161852</td>\n",
              "      <td>11.700247</td>\n",
              "    </tr>\n",
              "    <tr>\n",
              "      <th>3</th>\n",
              "      <td>3</td>\n",
              "      <td>122</td>\n",
              "      <td>31</td>\n",
              "      <td>23</td>\n",
              "      <td>0</td>\n",
              "      <td>13.066667</td>\n",
              "      <td>129.006333</td>\n",
              "      <td>11.855464</td>\n",
              "      <td>9.982333</td>\n",
              "      <td>11.236000</td>\n",
              "    </tr>\n",
              "    <tr>\n",
              "      <th>4</th>\n",
              "      <td>1</td>\n",
              "      <td>19</td>\n",
              "      <td>3</td>\n",
              "      <td>6</td>\n",
              "      <td>3</td>\n",
              "      <td>8.666667</td>\n",
              "      <td>152.130000</td>\n",
              "      <td>13.023867</td>\n",
              "      <td>1.770000</td>\n",
              "      <td>1.826667</td>\n",
              "    </tr>\n",
              "  </tbody>\n",
              "</table>\n",
              "</div>\n",
              "      <button class=\"colab-df-convert\" onclick=\"convertToInteractive('df-f3a19a17-34e0-490d-9a23-691f301ecbd6')\"\n",
              "              title=\"Convert this dataframe to an interactive table.\"\n",
              "              style=\"display:none;\">\n",
              "        \n",
              "  <svg xmlns=\"http://www.w3.org/2000/svg\" height=\"24px\"viewBox=\"0 0 24 24\"\n",
              "       width=\"24px\">\n",
              "    <path d=\"M0 0h24v24H0V0z\" fill=\"none\"/>\n",
              "    <path d=\"M18.56 5.44l.94 2.06.94-2.06 2.06-.94-2.06-.94-.94-2.06-.94 2.06-2.06.94zm-11 1L8.5 8.5l.94-2.06 2.06-.94-2.06-.94L8.5 2.5l-.94 2.06-2.06.94zm10 10l.94 2.06.94-2.06 2.06-.94-2.06-.94-.94-2.06-.94 2.06-2.06.94z\"/><path d=\"M17.41 7.96l-1.37-1.37c-.4-.4-.92-.59-1.43-.59-.52 0-1.04.2-1.43.59L10.3 9.45l-7.72 7.72c-.78.78-.78 2.05 0 2.83L4 21.41c.39.39.9.59 1.41.59.51 0 1.02-.2 1.41-.59l7.78-7.78 2.81-2.81c.8-.78.8-2.07 0-2.86zM5.41 20L4 18.59l7.72-7.72 1.47 1.35L5.41 20z\"/>\n",
              "  </svg>\n",
              "      </button>\n",
              "      \n",
              "  <style>\n",
              "    .colab-df-container {\n",
              "      display:flex;\n",
              "      flex-wrap:wrap;\n",
              "      gap: 12px;\n",
              "    }\n",
              "\n",
              "    .colab-df-convert {\n",
              "      background-color: #E8F0FE;\n",
              "      border: none;\n",
              "      border-radius: 50%;\n",
              "      cursor: pointer;\n",
              "      display: none;\n",
              "      fill: #1967D2;\n",
              "      height: 32px;\n",
              "      padding: 0 0 0 0;\n",
              "      width: 32px;\n",
              "    }\n",
              "\n",
              "    .colab-df-convert:hover {\n",
              "      background-color: #E2EBFA;\n",
              "      box-shadow: 0px 1px 2px rgba(60, 64, 67, 0.3), 0px 1px 3px 1px rgba(60, 64, 67, 0.15);\n",
              "      fill: #174EA6;\n",
              "    }\n",
              "\n",
              "    [theme=dark] .colab-df-convert {\n",
              "      background-color: #3B4455;\n",
              "      fill: #D2E3FC;\n",
              "    }\n",
              "\n",
              "    [theme=dark] .colab-df-convert:hover {\n",
              "      background-color: #434B5C;\n",
              "      box-shadow: 0px 1px 3px 1px rgba(0, 0, 0, 0.15);\n",
              "      filter: drop-shadow(0px 1px 2px rgba(0, 0, 0, 0.3));\n",
              "      fill: #FFFFFF;\n",
              "    }\n",
              "  </style>\n",
              "\n",
              "      <script>\n",
              "        const buttonEl =\n",
              "          document.querySelector('#df-f3a19a17-34e0-490d-9a23-691f301ecbd6 button.colab-df-convert');\n",
              "        buttonEl.style.display =\n",
              "          google.colab.kernel.accessAllowed ? 'block' : 'none';\n",
              "\n",
              "        async function convertToInteractive(key) {\n",
              "          const element = document.querySelector('#df-f3a19a17-34e0-490d-9a23-691f301ecbd6');\n",
              "          const dataTable =\n",
              "            await google.colab.kernel.invokeFunction('convertToInteractive',\n",
              "                                                     [key], {});\n",
              "          if (!dataTable) return;\n",
              "\n",
              "          const docLinkHtml = 'Like what you see? Visit the ' +\n",
              "            '<a target=\"_blank\" href=https://colab.research.google.com/notebooks/data_table.ipynb>data table notebook</a>'\n",
              "            + ' to learn more about interactive tables.';\n",
              "          element.innerHTML = '';\n",
              "          dataTable['output_type'] = 'display_data';\n",
              "          await google.colab.output.renderOutput(dataTable, element);\n",
              "          const docLink = document.createElement('div');\n",
              "          docLink.innerHTML = docLinkHtml;\n",
              "          element.appendChild(docLink);\n",
              "        }\n",
              "      </script>\n",
              "    </div>\n",
              "  </div>\n",
              "  "
            ]
          },
          "metadata": {},
          "execution_count": 69
        }
      ],
      "source": [
        "df_liststring.drop(df_liststring.columns[[0]], axis=1, inplace=True)\n",
        "df_liststring.head()"
      ]
    },
    {
      "cell_type": "code",
      "execution_count": 65,
      "metadata": {
        "colab": {
          "base_uri": "https://localhost:8080/"
        },
        "id": "aYMovOkcDfKs",
        "outputId": "80be0e6a-2f3d-44b2-9b4e-c68cb6d99ea4"
      },
      "outputs": [
        {
          "output_type": "execute_result",
          "data": {
            "text/plain": [
              "(1744, 10)"
            ]
          },
          "metadata": {},
          "execution_count": 65
        }
      ],
      "source": [
        "df_liststring.shape"
      ]
    },
    {
      "cell_type": "code",
      "execution_count": 66,
      "metadata": {
        "id": "Y6h3CCzqOIga"
      },
      "outputs": [],
      "source": [
        "#num_attr = ['sent_sum', 'word_sum', 'word_count', 'syllables', 'poly_syllables', 'GF', 'FK', 'SMOG', 'AR', 'CL']"
      ]
    },
    {
      "cell_type": "code",
      "execution_count": 67,
      "metadata": {
        "id": "Yz3Lh7urI2P7"
      },
      "outputs": [],
      "source": [
        "num_attr = ['GF', 'FK', 'SMOG', 'AR', 'CL']"
      ]
    },
    {
      "cell_type": "markdown",
      "metadata": {
        "id": "IC1s7McgAzCA"
      },
      "source": [
        "Train Test Split"
      ]
    },
    {
      "cell_type": "code",
      "execution_count": null,
      "metadata": {
        "colab": {
          "base_uri": "https://localhost:8080/"
        },
        "id": "0odTdJ4MAwIT",
        "outputId": "03361f1e-2682-486b-e864-199c57a19309"
      },
      "outputs": [
        {
          "data": {
            "text/plain": [
              "((1220, 10), (524, 10))"
            ]
          },
          "execution_count": 68,
          "metadata": {},
          "output_type": "execute_result"
        }
      ],
      "source": [
        "# Train-Test-Split is performed\n",
        "\n",
        "from sklearn.model_selection import train_test_split\n",
        "\n",
        "# Splitting the data into train and test\n",
        "X_train, X_test, y_train, y_test = train_test_split(df_liststring, y, train_size=0.7, random_state=42)\n",
        "X_train.shape, X_test.shape"
      ]
    },
    {
      "cell_type": "code",
      "execution_count": null,
      "metadata": {
        "colab": {
          "base_uri": "https://localhost:8080/",
          "height": 74
        },
        "id": "yJt2YLC3Odzv",
        "outputId": "3e9fd5fd-91d3-45d5-88b2-d5d62cbb3117"
      },
      "outputs": [
        {
          "data": {
            "text/html": [
              "<style>#sk-container-id-1 {color: black;background-color: white;}#sk-container-id-1 pre{padding: 0;}#sk-container-id-1 div.sk-toggleable {background-color: white;}#sk-container-id-1 label.sk-toggleable__label {cursor: pointer;display: block;width: 100%;margin-bottom: 0;padding: 0.3em;box-sizing: border-box;text-align: center;}#sk-container-id-1 label.sk-toggleable__label-arrow:before {content: \"▸\";float: left;margin-right: 0.25em;color: #696969;}#sk-container-id-1 label.sk-toggleable__label-arrow:hover:before {color: black;}#sk-container-id-1 div.sk-estimator:hover label.sk-toggleable__label-arrow:before {color: black;}#sk-container-id-1 div.sk-toggleable__content {max-height: 0;max-width: 0;overflow: hidden;text-align: left;background-color: #f0f8ff;}#sk-container-id-1 div.sk-toggleable__content pre {margin: 0.2em;color: black;border-radius: 0.25em;background-color: #f0f8ff;}#sk-container-id-1 input.sk-toggleable__control:checked~div.sk-toggleable__content {max-height: 200px;max-width: 100%;overflow: auto;}#sk-container-id-1 input.sk-toggleable__control:checked~label.sk-toggleable__label-arrow:before {content: \"▾\";}#sk-container-id-1 div.sk-estimator input.sk-toggleable__control:checked~label.sk-toggleable__label {background-color: #d4ebff;}#sk-container-id-1 div.sk-label input.sk-toggleable__control:checked~label.sk-toggleable__label {background-color: #d4ebff;}#sk-container-id-1 input.sk-hidden--visually {border: 0;clip: rect(1px 1px 1px 1px);clip: rect(1px, 1px, 1px, 1px);height: 1px;margin: -1px;overflow: hidden;padding: 0;position: absolute;width: 1px;}#sk-container-id-1 div.sk-estimator {font-family: monospace;background-color: #f0f8ff;border: 1px dotted black;border-radius: 0.25em;box-sizing: border-box;margin-bottom: 0.5em;}#sk-container-id-1 div.sk-estimator:hover {background-color: #d4ebff;}#sk-container-id-1 div.sk-parallel-item::after {content: \"\";width: 100%;border-bottom: 1px solid gray;flex-grow: 1;}#sk-container-id-1 div.sk-label:hover label.sk-toggleable__label {background-color: #d4ebff;}#sk-container-id-1 div.sk-serial::before {content: \"\";position: absolute;border-left: 1px solid gray;box-sizing: border-box;top: 0;bottom: 0;left: 50%;z-index: 0;}#sk-container-id-1 div.sk-serial {display: flex;flex-direction: column;align-items: center;background-color: white;padding-right: 0.2em;padding-left: 0.2em;position: relative;}#sk-container-id-1 div.sk-item {position: relative;z-index: 1;}#sk-container-id-1 div.sk-parallel {display: flex;align-items: stretch;justify-content: center;background-color: white;position: relative;}#sk-container-id-1 div.sk-item::before, #sk-container-id-1 div.sk-parallel-item::before {content: \"\";position: absolute;border-left: 1px solid gray;box-sizing: border-box;top: 0;bottom: 0;left: 50%;z-index: -1;}#sk-container-id-1 div.sk-parallel-item {display: flex;flex-direction: column;z-index: 1;position: relative;background-color: white;}#sk-container-id-1 div.sk-parallel-item:first-child::after {align-self: flex-end;width: 50%;}#sk-container-id-1 div.sk-parallel-item:last-child::after {align-self: flex-start;width: 50%;}#sk-container-id-1 div.sk-parallel-item:only-child::after {width: 0;}#sk-container-id-1 div.sk-dashed-wrapped {border: 1px dashed gray;margin: 0 0.4em 0.5em 0.4em;box-sizing: border-box;padding-bottom: 0.4em;background-color: white;}#sk-container-id-1 div.sk-label label {font-family: monospace;font-weight: bold;display: inline-block;line-height: 1.2em;}#sk-container-id-1 div.sk-label-container {text-align: center;}#sk-container-id-1 div.sk-container {/* jupyter's `normalize.less` sets `[hidden] { display: none; }` but bootstrap.min.css set `[hidden] { display: none !important; }` so we also need the `!important` here to be able to override the default hidden behavior on the sphinx rendered scikit-learn.org. See: https://github.com/scikit-learn/scikit-learn/issues/21755 */display: inline-block !important;position: relative;}#sk-container-id-1 div.sk-text-repr-fallback {display: none;}</style><div id=\"sk-container-id-1\" class=\"sk-top-container\"><div class=\"sk-text-repr-fallback\"><pre>StandardScaler()</pre><b>In a Jupyter environment, please rerun this cell to show the HTML representation or trust the notebook. <br />On GitHub, the HTML representation is unable to render, please try loading this page with nbviewer.org.</b></div><div class=\"sk-container\" hidden><div class=\"sk-item\"><div class=\"sk-estimator sk-toggleable\"><input class=\"sk-toggleable__control sk-hidden--visually\" id=\"sk-estimator-id-1\" type=\"checkbox\" checked><label for=\"sk-estimator-id-1\" class=\"sk-toggleable__label sk-toggleable__label-arrow\">StandardScaler</label><div class=\"sk-toggleable__content\"><pre>StandardScaler()</pre></div></div></div></div></div>"
            ],
            "text/plain": [
              "StandardScaler()"
            ]
          },
          "execution_count": 69,
          "metadata": {},
          "output_type": "execute_result"
        }
      ],
      "source": [
        "scaler = StandardScaler()\n",
        "scaler.fit(X_train[num_attr])"
      ]
    },
    {
      "cell_type": "code",
      "execution_count": null,
      "metadata": {
        "id": "myOiRtmlOfV6"
      },
      "outputs": [],
      "source": [
        "X_train_std = scaler.transform(X_train[num_attr])\n",
        "X_test_std = scaler.transform(X_test[num_attr])"
      ]
    },
    {
      "cell_type": "code",
      "execution_count": null,
      "metadata": {
        "colab": {
          "base_uri": "https://localhost:8080/"
        },
        "id": "31S3UtbKOivi",
        "outputId": "0c5938e9-4a59-4bcf-dc59-0225d7c71126"
      },
      "outputs": [
        {
          "name": "stdout",
          "output_type": "stream",
          "text": [
            "(1220, 5)\n",
            "(524, 5)\n"
          ]
        }
      ],
      "source": [
        "print(X_train_std.shape)\n",
        "print(X_test_std.shape)"
      ]
    },
    {
      "cell_type": "code",
      "execution_count": null,
      "metadata": {
        "colab": {
          "base_uri": "https://localhost:8080/"
        },
        "id": "5Lz1WwgIA2WU",
        "outputId": "cf7f4802-7e0f-4eb9-9e86-dfdd9cd1b21f"
      },
      "outputs": [
        {
          "name": "stdout",
          "output_type": "stream",
          "text": [
            "5    25.081967\n",
            "4    23.114754\n",
            "3    22.213115\n",
            "2    19.672131\n",
            "1     9.918033\n",
            "Name: Level , dtype: float64\n",
            "\n",
            "\n",
            "5    24.809160\n",
            "3    23.091603\n",
            "4    22.137405\n",
            "2    19.083969\n",
            "1    10.877863\n",
            "Name: Level , dtype: float64\n"
          ]
        }
      ],
      "source": [
        "print(y_train.value_counts(normalize=True)*100)\n",
        "print(\"\\n\")\n",
        "print(y_test.value_counts(normalize=True)*100)"
      ]
    },
    {
      "cell_type": "markdown",
      "metadata": {
        "id": "bbMEDd13Dooz"
      },
      "source": [
        "Model Building"
      ]
    },
    {
      "cell_type": "code",
      "execution_count": null,
      "metadata": {
        "id": "43czEVSFDkMA"
      },
      "outputs": [],
      "source": [
        "def perceptron_classifier (X_train_std, y_train, X_test_std, y_test):\n",
        "  p = Perceptron(random_state=150)\n",
        "  p.fit(X_train_std, y_train)\n",
        "  predictions_train = p.predict(X_train_std)\n",
        "  predictions_test = p.predict(X_test_std)\n",
        "  train_score = accuracy_score(predictions_train, y_train)\n",
        "  #print(\"score on train data: \", train_score)\n",
        "  test_score = f1_score(predictions_test, y_test, average='weighted' )\n",
        "  print(\"Perceptron F1 score:\", test_score)"
      ]
    },
    {
      "cell_type": "code",
      "execution_count": null,
      "metadata": {
        "colab": {
          "base_uri": "https://localhost:8080/"
        },
        "id": "Qb5dSWGNDtYF",
        "outputId": "aed1c4f0-3e62-4c43-9b6c-b136c9f9521e"
      },
      "outputs": [
        {
          "name": "stdout",
          "output_type": "stream",
          "text": [
            "Perceptron F1 score: 0.2545905373982978\n"
          ]
        }
      ],
      "source": [
        "from sklearn.linear_model import Perceptron\n",
        "perceptron_classifier(X_train_std, y_train, X_test_std, y_test) "
      ]
    },
    {
      "cell_type": "markdown",
      "metadata": {
        "id": "pJomyPcyaMNV"
      },
      "source": [
        "**Decision Tree**"
      ]
    },
    {
      "cell_type": "code",
      "execution_count": null,
      "metadata": {
        "id": "utEY_RBVaFg1"
      },
      "outputs": [],
      "source": [
        "clf_dt = DecisionTreeClassifier(max_depth=5)"
      ]
    },
    {
      "cell_type": "code",
      "execution_count": null,
      "metadata": {
        "colab": {
          "base_uri": "https://localhost:8080/",
          "height": 74
        },
        "id": "PRK8pGs-aRNd",
        "outputId": "99abbad4-c84f-4e0d-e174-c6fb2f2bb240"
      },
      "outputs": [
        {
          "data": {
            "text/html": [
              "<style>#sk-container-id-2 {color: black;background-color: white;}#sk-container-id-2 pre{padding: 0;}#sk-container-id-2 div.sk-toggleable {background-color: white;}#sk-container-id-2 label.sk-toggleable__label {cursor: pointer;display: block;width: 100%;margin-bottom: 0;padding: 0.3em;box-sizing: border-box;text-align: center;}#sk-container-id-2 label.sk-toggleable__label-arrow:before {content: \"▸\";float: left;margin-right: 0.25em;color: #696969;}#sk-container-id-2 label.sk-toggleable__label-arrow:hover:before {color: black;}#sk-container-id-2 div.sk-estimator:hover label.sk-toggleable__label-arrow:before {color: black;}#sk-container-id-2 div.sk-toggleable__content {max-height: 0;max-width: 0;overflow: hidden;text-align: left;background-color: #f0f8ff;}#sk-container-id-2 div.sk-toggleable__content pre {margin: 0.2em;color: black;border-radius: 0.25em;background-color: #f0f8ff;}#sk-container-id-2 input.sk-toggleable__control:checked~div.sk-toggleable__content {max-height: 200px;max-width: 100%;overflow: auto;}#sk-container-id-2 input.sk-toggleable__control:checked~label.sk-toggleable__label-arrow:before {content: \"▾\";}#sk-container-id-2 div.sk-estimator input.sk-toggleable__control:checked~label.sk-toggleable__label {background-color: #d4ebff;}#sk-container-id-2 div.sk-label input.sk-toggleable__control:checked~label.sk-toggleable__label {background-color: #d4ebff;}#sk-container-id-2 input.sk-hidden--visually {border: 0;clip: rect(1px 1px 1px 1px);clip: rect(1px, 1px, 1px, 1px);height: 1px;margin: -1px;overflow: hidden;padding: 0;position: absolute;width: 1px;}#sk-container-id-2 div.sk-estimator {font-family: monospace;background-color: #f0f8ff;border: 1px dotted black;border-radius: 0.25em;box-sizing: border-box;margin-bottom: 0.5em;}#sk-container-id-2 div.sk-estimator:hover {background-color: #d4ebff;}#sk-container-id-2 div.sk-parallel-item::after {content: \"\";width: 100%;border-bottom: 1px solid gray;flex-grow: 1;}#sk-container-id-2 div.sk-label:hover label.sk-toggleable__label {background-color: #d4ebff;}#sk-container-id-2 div.sk-serial::before {content: \"\";position: absolute;border-left: 1px solid gray;box-sizing: border-box;top: 0;bottom: 0;left: 50%;z-index: 0;}#sk-container-id-2 div.sk-serial {display: flex;flex-direction: column;align-items: center;background-color: white;padding-right: 0.2em;padding-left: 0.2em;position: relative;}#sk-container-id-2 div.sk-item {position: relative;z-index: 1;}#sk-container-id-2 div.sk-parallel {display: flex;align-items: stretch;justify-content: center;background-color: white;position: relative;}#sk-container-id-2 div.sk-item::before, #sk-container-id-2 div.sk-parallel-item::before {content: \"\";position: absolute;border-left: 1px solid gray;box-sizing: border-box;top: 0;bottom: 0;left: 50%;z-index: -1;}#sk-container-id-2 div.sk-parallel-item {display: flex;flex-direction: column;z-index: 1;position: relative;background-color: white;}#sk-container-id-2 div.sk-parallel-item:first-child::after {align-self: flex-end;width: 50%;}#sk-container-id-2 div.sk-parallel-item:last-child::after {align-self: flex-start;width: 50%;}#sk-container-id-2 div.sk-parallel-item:only-child::after {width: 0;}#sk-container-id-2 div.sk-dashed-wrapped {border: 1px dashed gray;margin: 0 0.4em 0.5em 0.4em;box-sizing: border-box;padding-bottom: 0.4em;background-color: white;}#sk-container-id-2 div.sk-label label {font-family: monospace;font-weight: bold;display: inline-block;line-height: 1.2em;}#sk-container-id-2 div.sk-label-container {text-align: center;}#sk-container-id-2 div.sk-container {/* jupyter's `normalize.less` sets `[hidden] { display: none; }` but bootstrap.min.css set `[hidden] { display: none !important; }` so we also need the `!important` here to be able to override the default hidden behavior on the sphinx rendered scikit-learn.org. See: https://github.com/scikit-learn/scikit-learn/issues/21755 */display: inline-block !important;position: relative;}#sk-container-id-2 div.sk-text-repr-fallback {display: none;}</style><div id=\"sk-container-id-2\" class=\"sk-top-container\"><div class=\"sk-text-repr-fallback\"><pre>DecisionTreeClassifier(max_depth=5)</pre><b>In a Jupyter environment, please rerun this cell to show the HTML representation or trust the notebook. <br />On GitHub, the HTML representation is unable to render, please try loading this page with nbviewer.org.</b></div><div class=\"sk-container\" hidden><div class=\"sk-item\"><div class=\"sk-estimator sk-toggleable\"><input class=\"sk-toggleable__control sk-hidden--visually\" id=\"sk-estimator-id-2\" type=\"checkbox\" checked><label for=\"sk-estimator-id-2\" class=\"sk-toggleable__label sk-toggleable__label-arrow\">DecisionTreeClassifier</label><div class=\"sk-toggleable__content\"><pre>DecisionTreeClassifier(max_depth=5)</pre></div></div></div></div></div>"
            ],
            "text/plain": [
              "DecisionTreeClassifier(max_depth=5)"
            ]
          },
          "execution_count": 77,
          "metadata": {},
          "output_type": "execute_result"
        }
      ],
      "source": [
        "clf_dt.fit(X_train_std,y_train)"
      ]
    },
    {
      "cell_type": "code",
      "execution_count": null,
      "metadata": {
        "id": "bCA0NLWFaSzD"
      },
      "outputs": [],
      "source": [
        "y_pred_train = clf_dt.predict(X_train_std)\n",
        "y_pred_test = clf_dt.predict(X_test_std)"
      ]
    },
    {
      "cell_type": "code",
      "execution_count": null,
      "metadata": {
        "id": "uc_C8fzFaU3O"
      },
      "outputs": [],
      "source": [
        "def classifcation_report_train_test(y_train, y_train_pred, y_test, y_test_pred):\n",
        "\n",
        "    print('''\n",
        "            =========================================\n",
        "               CLASSIFICATION REPORT FOR TRAIN DATA\n",
        "            =========================================\n",
        "            ''')\n",
        "    print(classification_report(y_train, y_train_pred, digits=4))\n",
        "\n",
        "    print('''\n",
        "            =========================================\n",
        "               CLASSIFICATION REPORT FOR TEST DATA\n",
        "            =========================================\n",
        "            ''')\n",
        "    print(classification_report(y_test, y_test_pred, digits=4))"
      ]
    },
    {
      "cell_type": "code",
      "execution_count": null,
      "metadata": {
        "id": "tnN1pzSraWyT"
      },
      "outputs": [],
      "source": [
        "scores = pd.DataFrame(columns=['Model', 'Train_Accuracy', 'Train_Recall', 'Train_Precision', 'Train_F1_Score', \n",
        "                               'Test_Accuracy', 'Test_Recall', 'Test_Precision', 'Test_F1_Score'])\n",
        "\n",
        "def get_metrics(train_actual, train_predicted, test_actual, test_predicted, model_description, dataframe):\n",
        "\n",
        "    train_accuracy  = accuracy_score(train_actual, train_predicted)\n",
        "    train_recall    = recall_score(train_actual, train_predicted, average=\"weighted\")\n",
        "    train_precision = precision_score(train_actual, train_predicted, average=\"weighted\")\n",
        "    train_f1score   = f1_score(train_actual, train_predicted, average=\"weighted\")\n",
        "    \n",
        "    test_accuracy   = accuracy_score(test_actual, test_predicted)\n",
        "    test_recall     = recall_score(test_actual, test_predicted, average=\"weighted\")\n",
        "    test_precision  = precision_score(test_actual, test_predicted, average=\"weighted\")\n",
        "    test_f1score    = f1_score(test_actual, test_predicted, average=\"weighted\")\n",
        "\n",
        "    dataframe       = dataframe.append(pd.Series([model_description, \n",
        "                                                  train_accuracy, train_recall, train_precision, train_f1score,\n",
        "                                                  test_accuracy, test_recall, test_precision, test_f1score],\n",
        "                                                 index=scores.columns ), \n",
        "                                       ignore_index=True)\n",
        "\n",
        "    return(dataframe)"
      ]
    },
    {
      "cell_type": "code",
      "execution_count": null,
      "metadata": {
        "colab": {
          "base_uri": "https://localhost:8080/",
          "height": 81
        },
        "id": "MzkwXnGzaZPD",
        "outputId": "f9ae5b5b-4d78-4201-96d4-bd1ef269ac0b"
      },
      "outputs": [
        {
          "data": {
            "text/html": [
              "\n",
              "  <div id=\"df-6b64369d-ca3c-4b62-9de3-be47f84e0731\">\n",
              "    <div class=\"colab-df-container\">\n",
              "      <div>\n",
              "<style scoped>\n",
              "    .dataframe tbody tr th:only-of-type {\n",
              "        vertical-align: middle;\n",
              "    }\n",
              "\n",
              "    .dataframe tbody tr th {\n",
              "        vertical-align: top;\n",
              "    }\n",
              "\n",
              "    .dataframe thead th {\n",
              "        text-align: right;\n",
              "    }\n",
              "</style>\n",
              "<table border=\"1\" class=\"dataframe\">\n",
              "  <thead>\n",
              "    <tr style=\"text-align: right;\">\n",
              "      <th></th>\n",
              "      <th>Model</th>\n",
              "      <th>Train_Accuracy</th>\n",
              "      <th>Train_Recall</th>\n",
              "      <th>Train_Precision</th>\n",
              "      <th>Train_F1_Score</th>\n",
              "      <th>Test_Accuracy</th>\n",
              "      <th>Test_Recall</th>\n",
              "      <th>Test_Precision</th>\n",
              "      <th>Test_F1_Score</th>\n",
              "    </tr>\n",
              "  </thead>\n",
              "  <tbody>\n",
              "    <tr>\n",
              "      <th>0</th>\n",
              "      <td>DecisionTrees</td>\n",
              "      <td>0.39918</td>\n",
              "      <td>0.39918</td>\n",
              "      <td>0.460275</td>\n",
              "      <td>0.370432</td>\n",
              "      <td>0.265267</td>\n",
              "      <td>0.265267</td>\n",
              "      <td>0.240582</td>\n",
              "      <td>0.225947</td>\n",
              "    </tr>\n",
              "  </tbody>\n",
              "</table>\n",
              "</div>\n",
              "      <button class=\"colab-df-convert\" onclick=\"convertToInteractive('df-6b64369d-ca3c-4b62-9de3-be47f84e0731')\"\n",
              "              title=\"Convert this dataframe to an interactive table.\"\n",
              "              style=\"display:none;\">\n",
              "        \n",
              "  <svg xmlns=\"http://www.w3.org/2000/svg\" height=\"24px\"viewBox=\"0 0 24 24\"\n",
              "       width=\"24px\">\n",
              "    <path d=\"M0 0h24v24H0V0z\" fill=\"none\"/>\n",
              "    <path d=\"M18.56 5.44l.94 2.06.94-2.06 2.06-.94-2.06-.94-.94-2.06-.94 2.06-2.06.94zm-11 1L8.5 8.5l.94-2.06 2.06-.94-2.06-.94L8.5 2.5l-.94 2.06-2.06.94zm10 10l.94 2.06.94-2.06 2.06-.94-2.06-.94-.94-2.06-.94 2.06-2.06.94z\"/><path d=\"M17.41 7.96l-1.37-1.37c-.4-.4-.92-.59-1.43-.59-.52 0-1.04.2-1.43.59L10.3 9.45l-7.72 7.72c-.78.78-.78 2.05 0 2.83L4 21.41c.39.39.9.59 1.41.59.51 0 1.02-.2 1.41-.59l7.78-7.78 2.81-2.81c.8-.78.8-2.07 0-2.86zM5.41 20L4 18.59l7.72-7.72 1.47 1.35L5.41 20z\"/>\n",
              "  </svg>\n",
              "      </button>\n",
              "      \n",
              "  <style>\n",
              "    .colab-df-container {\n",
              "      display:flex;\n",
              "      flex-wrap:wrap;\n",
              "      gap: 12px;\n",
              "    }\n",
              "\n",
              "    .colab-df-convert {\n",
              "      background-color: #E8F0FE;\n",
              "      border: none;\n",
              "      border-radius: 50%;\n",
              "      cursor: pointer;\n",
              "      display: none;\n",
              "      fill: #1967D2;\n",
              "      height: 32px;\n",
              "      padding: 0 0 0 0;\n",
              "      width: 32px;\n",
              "    }\n",
              "\n",
              "    .colab-df-convert:hover {\n",
              "      background-color: #E2EBFA;\n",
              "      box-shadow: 0px 1px 2px rgba(60, 64, 67, 0.3), 0px 1px 3px 1px rgba(60, 64, 67, 0.15);\n",
              "      fill: #174EA6;\n",
              "    }\n",
              "\n",
              "    [theme=dark] .colab-df-convert {\n",
              "      background-color: #3B4455;\n",
              "      fill: #D2E3FC;\n",
              "    }\n",
              "\n",
              "    [theme=dark] .colab-df-convert:hover {\n",
              "      background-color: #434B5C;\n",
              "      box-shadow: 0px 1px 3px 1px rgba(0, 0, 0, 0.15);\n",
              "      filter: drop-shadow(0px 1px 2px rgba(0, 0, 0, 0.3));\n",
              "      fill: #FFFFFF;\n",
              "    }\n",
              "  </style>\n",
              "\n",
              "      <script>\n",
              "        const buttonEl =\n",
              "          document.querySelector('#df-6b64369d-ca3c-4b62-9de3-be47f84e0731 button.colab-df-convert');\n",
              "        buttonEl.style.display =\n",
              "          google.colab.kernel.accessAllowed ? 'block' : 'none';\n",
              "\n",
              "        async function convertToInteractive(key) {\n",
              "          const element = document.querySelector('#df-6b64369d-ca3c-4b62-9de3-be47f84e0731');\n",
              "          const dataTable =\n",
              "            await google.colab.kernel.invokeFunction('convertToInteractive',\n",
              "                                                     [key], {});\n",
              "          if (!dataTable) return;\n",
              "\n",
              "          const docLinkHtml = 'Like what you see? Visit the ' +\n",
              "            '<a target=\"_blank\" href=https://colab.research.google.com/notebooks/data_table.ipynb>data table notebook</a>'\n",
              "            + ' to learn more about interactive tables.';\n",
              "          element.innerHTML = '';\n",
              "          dataTable['output_type'] = 'display_data';\n",
              "          await google.colab.output.renderOutput(dataTable, element);\n",
              "          const docLink = document.createElement('div');\n",
              "          docLink.innerHTML = docLinkHtml;\n",
              "          element.appendChild(docLink);\n",
              "        }\n",
              "      </script>\n",
              "    </div>\n",
              "  </div>\n",
              "  "
            ],
            "text/plain": [
              "           Model  Train_Accuracy  Train_Recall  Train_Precision  \\\n",
              "0  DecisionTrees         0.39918       0.39918         0.460275   \n",
              "\n",
              "   Train_F1_Score  Test_Accuracy  Test_Recall  Test_Precision  Test_F1_Score  \n",
              "0        0.370432       0.265267     0.265267        0.240582       0.225947  "
            ]
          },
          "execution_count": 81,
          "metadata": {},
          "output_type": "execute_result"
        }
      ],
      "source": [
        "scores = get_metrics(y_train, y_pred_train, y_test, y_pred_test, \"DecisionTrees\", scores)\n",
        "scores"
      ]
    },
    {
      "cell_type": "markdown",
      "metadata": {
        "id": "XMkwP7pDaqNn"
      },
      "source": [
        "**Random Forest**"
      ]
    },
    {
      "cell_type": "code",
      "execution_count": null,
      "metadata": {
        "id": "5jVomkbkabKN"
      },
      "outputs": [],
      "source": [
        "clf_rf = RandomForestClassifier()"
      ]
    },
    {
      "cell_type": "code",
      "execution_count": null,
      "metadata": {
        "colab": {
          "base_uri": "https://localhost:8080/",
          "height": 74
        },
        "id": "nCdYSlRPavCH",
        "outputId": "fbfee736-b80c-4f92-96f2-d9f5404a483b"
      },
      "outputs": [
        {
          "data": {
            "text/html": [
              "<style>#sk-container-id-3 {color: black;background-color: white;}#sk-container-id-3 pre{padding: 0;}#sk-container-id-3 div.sk-toggleable {background-color: white;}#sk-container-id-3 label.sk-toggleable__label {cursor: pointer;display: block;width: 100%;margin-bottom: 0;padding: 0.3em;box-sizing: border-box;text-align: center;}#sk-container-id-3 label.sk-toggleable__label-arrow:before {content: \"▸\";float: left;margin-right: 0.25em;color: #696969;}#sk-container-id-3 label.sk-toggleable__label-arrow:hover:before {color: black;}#sk-container-id-3 div.sk-estimator:hover label.sk-toggleable__label-arrow:before {color: black;}#sk-container-id-3 div.sk-toggleable__content {max-height: 0;max-width: 0;overflow: hidden;text-align: left;background-color: #f0f8ff;}#sk-container-id-3 div.sk-toggleable__content pre {margin: 0.2em;color: black;border-radius: 0.25em;background-color: #f0f8ff;}#sk-container-id-3 input.sk-toggleable__control:checked~div.sk-toggleable__content {max-height: 200px;max-width: 100%;overflow: auto;}#sk-container-id-3 input.sk-toggleable__control:checked~label.sk-toggleable__label-arrow:before {content: \"▾\";}#sk-container-id-3 div.sk-estimator input.sk-toggleable__control:checked~label.sk-toggleable__label {background-color: #d4ebff;}#sk-container-id-3 div.sk-label input.sk-toggleable__control:checked~label.sk-toggleable__label {background-color: #d4ebff;}#sk-container-id-3 input.sk-hidden--visually {border: 0;clip: rect(1px 1px 1px 1px);clip: rect(1px, 1px, 1px, 1px);height: 1px;margin: -1px;overflow: hidden;padding: 0;position: absolute;width: 1px;}#sk-container-id-3 div.sk-estimator {font-family: monospace;background-color: #f0f8ff;border: 1px dotted black;border-radius: 0.25em;box-sizing: border-box;margin-bottom: 0.5em;}#sk-container-id-3 div.sk-estimator:hover {background-color: #d4ebff;}#sk-container-id-3 div.sk-parallel-item::after {content: \"\";width: 100%;border-bottom: 1px solid gray;flex-grow: 1;}#sk-container-id-3 div.sk-label:hover label.sk-toggleable__label {background-color: #d4ebff;}#sk-container-id-3 div.sk-serial::before {content: \"\";position: absolute;border-left: 1px solid gray;box-sizing: border-box;top: 0;bottom: 0;left: 50%;z-index: 0;}#sk-container-id-3 div.sk-serial {display: flex;flex-direction: column;align-items: center;background-color: white;padding-right: 0.2em;padding-left: 0.2em;position: relative;}#sk-container-id-3 div.sk-item {position: relative;z-index: 1;}#sk-container-id-3 div.sk-parallel {display: flex;align-items: stretch;justify-content: center;background-color: white;position: relative;}#sk-container-id-3 div.sk-item::before, #sk-container-id-3 div.sk-parallel-item::before {content: \"\";position: absolute;border-left: 1px solid gray;box-sizing: border-box;top: 0;bottom: 0;left: 50%;z-index: -1;}#sk-container-id-3 div.sk-parallel-item {display: flex;flex-direction: column;z-index: 1;position: relative;background-color: white;}#sk-container-id-3 div.sk-parallel-item:first-child::after {align-self: flex-end;width: 50%;}#sk-container-id-3 div.sk-parallel-item:last-child::after {align-self: flex-start;width: 50%;}#sk-container-id-3 div.sk-parallel-item:only-child::after {width: 0;}#sk-container-id-3 div.sk-dashed-wrapped {border: 1px dashed gray;margin: 0 0.4em 0.5em 0.4em;box-sizing: border-box;padding-bottom: 0.4em;background-color: white;}#sk-container-id-3 div.sk-label label {font-family: monospace;font-weight: bold;display: inline-block;line-height: 1.2em;}#sk-container-id-3 div.sk-label-container {text-align: center;}#sk-container-id-3 div.sk-container {/* jupyter's `normalize.less` sets `[hidden] { display: none; }` but bootstrap.min.css set `[hidden] { display: none !important; }` so we also need the `!important` here to be able to override the default hidden behavior on the sphinx rendered scikit-learn.org. See: https://github.com/scikit-learn/scikit-learn/issues/21755 */display: inline-block !important;position: relative;}#sk-container-id-3 div.sk-text-repr-fallback {display: none;}</style><div id=\"sk-container-id-3\" class=\"sk-top-container\"><div class=\"sk-text-repr-fallback\"><pre>RandomForestClassifier()</pre><b>In a Jupyter environment, please rerun this cell to show the HTML representation or trust the notebook. <br />On GitHub, the HTML representation is unable to render, please try loading this page with nbviewer.org.</b></div><div class=\"sk-container\" hidden><div class=\"sk-item\"><div class=\"sk-estimator sk-toggleable\"><input class=\"sk-toggleable__control sk-hidden--visually\" id=\"sk-estimator-id-3\" type=\"checkbox\" checked><label for=\"sk-estimator-id-3\" class=\"sk-toggleable__label sk-toggleable__label-arrow\">RandomForestClassifier</label><div class=\"sk-toggleable__content\"><pre>RandomForestClassifier()</pre></div></div></div></div></div>"
            ],
            "text/plain": [
              "RandomForestClassifier()"
            ]
          },
          "execution_count": 83,
          "metadata": {},
          "output_type": "execute_result"
        }
      ],
      "source": [
        "clf_rf.fit(X=X_train_std, y=y_train)"
      ]
    },
    {
      "cell_type": "code",
      "execution_count": null,
      "metadata": {
        "id": "JFkyHFpvaxEn"
      },
      "outputs": [],
      "source": [
        "y_pred_train1 = clf_rf.predict(X_train_std)\n",
        "y_pred_test1 = clf_rf.predict(X_test_std)"
      ]
    },
    {
      "cell_type": "code",
      "execution_count": null,
      "metadata": {
        "colab": {
          "base_uri": "https://localhost:8080/"
        },
        "id": "rG0ghT85azgQ",
        "outputId": "30c0d694-05ce-4d1f-edc6-602541749d46"
      },
      "outputs": [
        {
          "name": "stdout",
          "output_type": "stream",
          "text": [
            "\n",
            "            =========================================\n",
            "               CLASSIFICATION REPORT FOR TRAIN DATA\n",
            "            =========================================\n",
            "            \n",
            "              precision    recall  f1-score   support\n",
            "\n",
            "           1     1.0000    0.9752    0.9874       121\n",
            "           2     0.9794    0.9917    0.9855       240\n",
            "           3     0.9853    0.9889    0.9871       271\n",
            "           4     0.9929    0.9894    0.9911       282\n",
            "           5     0.9935    0.9935    0.9935       306\n",
            "\n",
            "    accuracy                         0.9893      1220\n",
            "   macro avg     0.9902    0.9877    0.9889      1220\n",
            "weighted avg     0.9894    0.9893    0.9893      1220\n",
            "\n",
            "\n",
            "            =========================================\n",
            "               CLASSIFICATION REPORT FOR TEST DATA\n",
            "            =========================================\n",
            "            \n",
            "              precision    recall  f1-score   support\n",
            "\n",
            "           1     0.2857    0.1754    0.2174        57\n",
            "           2     0.3056    0.3300    0.3173       100\n",
            "           3     0.3010    0.2562    0.2768       121\n",
            "           4     0.3063    0.2931    0.2996       116\n",
            "           5     0.3713    0.4769    0.4175       130\n",
            "\n",
            "    accuracy                         0.3244       524\n",
            "   macro avg     0.3140    0.3063    0.3057       524\n",
            "weighted avg     0.3188    0.3244    0.3180       524\n",
            "\n"
          ]
        }
      ],
      "source": [
        "classifcation_report_train_test(y_train, y_pred_train1, y_test, y_pred_test1)"
      ]
    },
    {
      "cell_type": "code",
      "execution_count": null,
      "metadata": {
        "colab": {
          "base_uri": "https://localhost:8080/",
          "height": 112
        },
        "id": "KixfqjDNa1aD",
        "outputId": "edd4b4fa-e3fd-472b-9062-08a638a61629"
      },
      "outputs": [
        {
          "data": {
            "text/html": [
              "\n",
              "  <div id=\"df-c2987034-6f33-464e-b345-74ccb5f48e09\">\n",
              "    <div class=\"colab-df-container\">\n",
              "      <div>\n",
              "<style scoped>\n",
              "    .dataframe tbody tr th:only-of-type {\n",
              "        vertical-align: middle;\n",
              "    }\n",
              "\n",
              "    .dataframe tbody tr th {\n",
              "        vertical-align: top;\n",
              "    }\n",
              "\n",
              "    .dataframe thead th {\n",
              "        text-align: right;\n",
              "    }\n",
              "</style>\n",
              "<table border=\"1\" class=\"dataframe\">\n",
              "  <thead>\n",
              "    <tr style=\"text-align: right;\">\n",
              "      <th></th>\n",
              "      <th>Model</th>\n",
              "      <th>Train_Accuracy</th>\n",
              "      <th>Train_Recall</th>\n",
              "      <th>Train_Precision</th>\n",
              "      <th>Train_F1_Score</th>\n",
              "      <th>Test_Accuracy</th>\n",
              "      <th>Test_Recall</th>\n",
              "      <th>Test_Precision</th>\n",
              "      <th>Test_F1_Score</th>\n",
              "    </tr>\n",
              "  </thead>\n",
              "  <tbody>\n",
              "    <tr>\n",
              "      <th>0</th>\n",
              "      <td>DecisionTrees</td>\n",
              "      <td>0.399180</td>\n",
              "      <td>0.399180</td>\n",
              "      <td>0.460275</td>\n",
              "      <td>0.370432</td>\n",
              "      <td>0.265267</td>\n",
              "      <td>0.265267</td>\n",
              "      <td>0.240582</td>\n",
              "      <td>0.225947</td>\n",
              "    </tr>\n",
              "    <tr>\n",
              "      <th>1</th>\n",
              "      <td>RandomForest</td>\n",
              "      <td>0.989344</td>\n",
              "      <td>0.989344</td>\n",
              "      <td>0.989401</td>\n",
              "      <td>0.989348</td>\n",
              "      <td>0.324427</td>\n",
              "      <td>0.324427</td>\n",
              "      <td>0.318805</td>\n",
              "      <td>0.318012</td>\n",
              "    </tr>\n",
              "  </tbody>\n",
              "</table>\n",
              "</div>\n",
              "      <button class=\"colab-df-convert\" onclick=\"convertToInteractive('df-c2987034-6f33-464e-b345-74ccb5f48e09')\"\n",
              "              title=\"Convert this dataframe to an interactive table.\"\n",
              "              style=\"display:none;\">\n",
              "        \n",
              "  <svg xmlns=\"http://www.w3.org/2000/svg\" height=\"24px\"viewBox=\"0 0 24 24\"\n",
              "       width=\"24px\">\n",
              "    <path d=\"M0 0h24v24H0V0z\" fill=\"none\"/>\n",
              "    <path d=\"M18.56 5.44l.94 2.06.94-2.06 2.06-.94-2.06-.94-.94-2.06-.94 2.06-2.06.94zm-11 1L8.5 8.5l.94-2.06 2.06-.94-2.06-.94L8.5 2.5l-.94 2.06-2.06.94zm10 10l.94 2.06.94-2.06 2.06-.94-2.06-.94-.94-2.06-.94 2.06-2.06.94z\"/><path d=\"M17.41 7.96l-1.37-1.37c-.4-.4-.92-.59-1.43-.59-.52 0-1.04.2-1.43.59L10.3 9.45l-7.72 7.72c-.78.78-.78 2.05 0 2.83L4 21.41c.39.39.9.59 1.41.59.51 0 1.02-.2 1.41-.59l7.78-7.78 2.81-2.81c.8-.78.8-2.07 0-2.86zM5.41 20L4 18.59l7.72-7.72 1.47 1.35L5.41 20z\"/>\n",
              "  </svg>\n",
              "      </button>\n",
              "      \n",
              "  <style>\n",
              "    .colab-df-container {\n",
              "      display:flex;\n",
              "      flex-wrap:wrap;\n",
              "      gap: 12px;\n",
              "    }\n",
              "\n",
              "    .colab-df-convert {\n",
              "      background-color: #E8F0FE;\n",
              "      border: none;\n",
              "      border-radius: 50%;\n",
              "      cursor: pointer;\n",
              "      display: none;\n",
              "      fill: #1967D2;\n",
              "      height: 32px;\n",
              "      padding: 0 0 0 0;\n",
              "      width: 32px;\n",
              "    }\n",
              "\n",
              "    .colab-df-convert:hover {\n",
              "      background-color: #E2EBFA;\n",
              "      box-shadow: 0px 1px 2px rgba(60, 64, 67, 0.3), 0px 1px 3px 1px rgba(60, 64, 67, 0.15);\n",
              "      fill: #174EA6;\n",
              "    }\n",
              "\n",
              "    [theme=dark] .colab-df-convert {\n",
              "      background-color: #3B4455;\n",
              "      fill: #D2E3FC;\n",
              "    }\n",
              "\n",
              "    [theme=dark] .colab-df-convert:hover {\n",
              "      background-color: #434B5C;\n",
              "      box-shadow: 0px 1px 3px 1px rgba(0, 0, 0, 0.15);\n",
              "      filter: drop-shadow(0px 1px 2px rgba(0, 0, 0, 0.3));\n",
              "      fill: #FFFFFF;\n",
              "    }\n",
              "  </style>\n",
              "\n",
              "      <script>\n",
              "        const buttonEl =\n",
              "          document.querySelector('#df-c2987034-6f33-464e-b345-74ccb5f48e09 button.colab-df-convert');\n",
              "        buttonEl.style.display =\n",
              "          google.colab.kernel.accessAllowed ? 'block' : 'none';\n",
              "\n",
              "        async function convertToInteractive(key) {\n",
              "          const element = document.querySelector('#df-c2987034-6f33-464e-b345-74ccb5f48e09');\n",
              "          const dataTable =\n",
              "            await google.colab.kernel.invokeFunction('convertToInteractive',\n",
              "                                                     [key], {});\n",
              "          if (!dataTable) return;\n",
              "\n",
              "          const docLinkHtml = 'Like what you see? Visit the ' +\n",
              "            '<a target=\"_blank\" href=https://colab.research.google.com/notebooks/data_table.ipynb>data table notebook</a>'\n",
              "            + ' to learn more about interactive tables.';\n",
              "          element.innerHTML = '';\n",
              "          dataTable['output_type'] = 'display_data';\n",
              "          await google.colab.output.renderOutput(dataTable, element);\n",
              "          const docLink = document.createElement('div');\n",
              "          docLink.innerHTML = docLinkHtml;\n",
              "          element.appendChild(docLink);\n",
              "        }\n",
              "      </script>\n",
              "    </div>\n",
              "  </div>\n",
              "  "
            ],
            "text/plain": [
              "           Model  Train_Accuracy  Train_Recall  Train_Precision  \\\n",
              "0  DecisionTrees        0.399180      0.399180         0.460275   \n",
              "1   RandomForest        0.989344      0.989344         0.989401   \n",
              "\n",
              "   Train_F1_Score  Test_Accuracy  Test_Recall  Test_Precision  Test_F1_Score  \n",
              "0        0.370432       0.265267     0.265267        0.240582       0.225947  \n",
              "1        0.989348       0.324427     0.324427        0.318805       0.318012  "
            ]
          },
          "execution_count": 86,
          "metadata": {},
          "output_type": "execute_result"
        }
      ],
      "source": [
        "scores = get_metrics(y_train, y_pred_train1, y_test, y_pred_test1, \"RandomForest\", scores)\n",
        "scores"
      ]
    },
    {
      "cell_type": "markdown",
      "metadata": {
        "id": "sMdWmzQQa7oH"
      },
      "source": [
        "**AdaBoost**"
      ]
    },
    {
      "cell_type": "code",
      "execution_count": null,
      "metadata": {
        "id": "2IUM6gNoa4DF"
      },
      "outputs": [],
      "source": [
        "clf_adaboost =  AdaBoostClassifier()"
      ]
    },
    {
      "cell_type": "code",
      "execution_count": null,
      "metadata": {
        "colab": {
          "base_uri": "https://localhost:8080/",
          "height": 74
        },
        "id": "LcnWnbRGa-yr",
        "outputId": "45147c60-0243-4e32-840c-5ed68b5a57e4"
      },
      "outputs": [
        {
          "data": {
            "text/html": [
              "<style>#sk-container-id-4 {color: black;background-color: white;}#sk-container-id-4 pre{padding: 0;}#sk-container-id-4 div.sk-toggleable {background-color: white;}#sk-container-id-4 label.sk-toggleable__label {cursor: pointer;display: block;width: 100%;margin-bottom: 0;padding: 0.3em;box-sizing: border-box;text-align: center;}#sk-container-id-4 label.sk-toggleable__label-arrow:before {content: \"▸\";float: left;margin-right: 0.25em;color: #696969;}#sk-container-id-4 label.sk-toggleable__label-arrow:hover:before {color: black;}#sk-container-id-4 div.sk-estimator:hover label.sk-toggleable__label-arrow:before {color: black;}#sk-container-id-4 div.sk-toggleable__content {max-height: 0;max-width: 0;overflow: hidden;text-align: left;background-color: #f0f8ff;}#sk-container-id-4 div.sk-toggleable__content pre {margin: 0.2em;color: black;border-radius: 0.25em;background-color: #f0f8ff;}#sk-container-id-4 input.sk-toggleable__control:checked~div.sk-toggleable__content {max-height: 200px;max-width: 100%;overflow: auto;}#sk-container-id-4 input.sk-toggleable__control:checked~label.sk-toggleable__label-arrow:before {content: \"▾\";}#sk-container-id-4 div.sk-estimator input.sk-toggleable__control:checked~label.sk-toggleable__label {background-color: #d4ebff;}#sk-container-id-4 div.sk-label input.sk-toggleable__control:checked~label.sk-toggleable__label {background-color: #d4ebff;}#sk-container-id-4 input.sk-hidden--visually {border: 0;clip: rect(1px 1px 1px 1px);clip: rect(1px, 1px, 1px, 1px);height: 1px;margin: -1px;overflow: hidden;padding: 0;position: absolute;width: 1px;}#sk-container-id-4 div.sk-estimator {font-family: monospace;background-color: #f0f8ff;border: 1px dotted black;border-radius: 0.25em;box-sizing: border-box;margin-bottom: 0.5em;}#sk-container-id-4 div.sk-estimator:hover {background-color: #d4ebff;}#sk-container-id-4 div.sk-parallel-item::after {content: \"\";width: 100%;border-bottom: 1px solid gray;flex-grow: 1;}#sk-container-id-4 div.sk-label:hover label.sk-toggleable__label {background-color: #d4ebff;}#sk-container-id-4 div.sk-serial::before {content: \"\";position: absolute;border-left: 1px solid gray;box-sizing: border-box;top: 0;bottom: 0;left: 50%;z-index: 0;}#sk-container-id-4 div.sk-serial {display: flex;flex-direction: column;align-items: center;background-color: white;padding-right: 0.2em;padding-left: 0.2em;position: relative;}#sk-container-id-4 div.sk-item {position: relative;z-index: 1;}#sk-container-id-4 div.sk-parallel {display: flex;align-items: stretch;justify-content: center;background-color: white;position: relative;}#sk-container-id-4 div.sk-item::before, #sk-container-id-4 div.sk-parallel-item::before {content: \"\";position: absolute;border-left: 1px solid gray;box-sizing: border-box;top: 0;bottom: 0;left: 50%;z-index: -1;}#sk-container-id-4 div.sk-parallel-item {display: flex;flex-direction: column;z-index: 1;position: relative;background-color: white;}#sk-container-id-4 div.sk-parallel-item:first-child::after {align-self: flex-end;width: 50%;}#sk-container-id-4 div.sk-parallel-item:last-child::after {align-self: flex-start;width: 50%;}#sk-container-id-4 div.sk-parallel-item:only-child::after {width: 0;}#sk-container-id-4 div.sk-dashed-wrapped {border: 1px dashed gray;margin: 0 0.4em 0.5em 0.4em;box-sizing: border-box;padding-bottom: 0.4em;background-color: white;}#sk-container-id-4 div.sk-label label {font-family: monospace;font-weight: bold;display: inline-block;line-height: 1.2em;}#sk-container-id-4 div.sk-label-container {text-align: center;}#sk-container-id-4 div.sk-container {/* jupyter's `normalize.less` sets `[hidden] { display: none; }` but bootstrap.min.css set `[hidden] { display: none !important; }` so we also need the `!important` here to be able to override the default hidden behavior on the sphinx rendered scikit-learn.org. See: https://github.com/scikit-learn/scikit-learn/issues/21755 */display: inline-block !important;position: relative;}#sk-container-id-4 div.sk-text-repr-fallback {display: none;}</style><div id=\"sk-container-id-4\" class=\"sk-top-container\"><div class=\"sk-text-repr-fallback\"><pre>AdaBoostClassifier()</pre><b>In a Jupyter environment, please rerun this cell to show the HTML representation or trust the notebook. <br />On GitHub, the HTML representation is unable to render, please try loading this page with nbviewer.org.</b></div><div class=\"sk-container\" hidden><div class=\"sk-item\"><div class=\"sk-estimator sk-toggleable\"><input class=\"sk-toggleable__control sk-hidden--visually\" id=\"sk-estimator-id-4\" type=\"checkbox\" checked><label for=\"sk-estimator-id-4\" class=\"sk-toggleable__label sk-toggleable__label-arrow\">AdaBoostClassifier</label><div class=\"sk-toggleable__content\"><pre>AdaBoostClassifier()</pre></div></div></div></div></div>"
            ],
            "text/plain": [
              "AdaBoostClassifier()"
            ]
          },
          "execution_count": 88,
          "metadata": {},
          "output_type": "execute_result"
        }
      ],
      "source": [
        "clf_adaboost.fit(X_train_std, y_train)"
      ]
    },
    {
      "cell_type": "code",
      "execution_count": null,
      "metadata": {
        "id": "PTfOqknLbAbi"
      },
      "outputs": [],
      "source": [
        "y_pred_train2 = clf_adaboost.predict(X_train_std)\n",
        "y_pred_test2 = clf_adaboost.predict(X_test_std)"
      ]
    },
    {
      "cell_type": "code",
      "execution_count": null,
      "metadata": {
        "colab": {
          "base_uri": "https://localhost:8080/"
        },
        "id": "NrzDrRY9bCQN",
        "outputId": "521cd463-cfd5-4800-8b87-98038bc3ca50"
      },
      "outputs": [
        {
          "name": "stdout",
          "output_type": "stream",
          "text": [
            "\n",
            "            =========================================\n",
            "               CLASSIFICATION REPORT FOR TRAIN DATA\n",
            "            =========================================\n",
            "            \n",
            "              precision    recall  f1-score   support\n",
            "\n",
            "           1     0.4423    0.1901    0.2659       121\n",
            "           2     0.3678    0.2667    0.3092       240\n",
            "           3     0.3164    0.2989    0.3074       271\n",
            "           4     0.3246    0.3085    0.3164       282\n",
            "           5     0.4043    0.6209    0.4897       306\n",
            "\n",
            "    accuracy                         0.3648      1220\n",
            "   macro avg     0.3711    0.3370    0.3377      1220\n",
            "weighted avg     0.3629    0.3648    0.3514      1220\n",
            "\n",
            "\n",
            "            =========================================\n",
            "               CLASSIFICATION REPORT FOR TEST DATA\n",
            "            =========================================\n",
            "            \n",
            "              precision    recall  f1-score   support\n",
            "\n",
            "           1     0.1667    0.0526    0.0800        57\n",
            "           2     0.1875    0.1500    0.1667       100\n",
            "           3     0.2581    0.1983    0.2243       121\n",
            "           4     0.2562    0.2672    0.2616       116\n",
            "           5     0.3113    0.5077    0.3860       130\n",
            "\n",
            "    accuracy                         0.2653       524\n",
            "   macro avg     0.2360    0.2352    0.2237       524\n",
            "weighted avg     0.2475    0.2653    0.2460       524\n",
            "\n"
          ]
        }
      ],
      "source": [
        "classifcation_report_train_test(y_train, y_pred_train2, y_test, y_pred_test2)"
      ]
    },
    {
      "cell_type": "code",
      "execution_count": null,
      "metadata": {
        "colab": {
          "base_uri": "https://localhost:8080/",
          "height": 143
        },
        "id": "JoBzYgmybEog",
        "outputId": "67e724cd-88fd-498f-e11d-d0eb194b58c5"
      },
      "outputs": [
        {
          "data": {
            "text/html": [
              "\n",
              "  <div id=\"df-2ad5314a-9e01-4f67-b5f5-d96302248e67\">\n",
              "    <div class=\"colab-df-container\">\n",
              "      <div>\n",
              "<style scoped>\n",
              "    .dataframe tbody tr th:only-of-type {\n",
              "        vertical-align: middle;\n",
              "    }\n",
              "\n",
              "    .dataframe tbody tr th {\n",
              "        vertical-align: top;\n",
              "    }\n",
              "\n",
              "    .dataframe thead th {\n",
              "        text-align: right;\n",
              "    }\n",
              "</style>\n",
              "<table border=\"1\" class=\"dataframe\">\n",
              "  <thead>\n",
              "    <tr style=\"text-align: right;\">\n",
              "      <th></th>\n",
              "      <th>Model</th>\n",
              "      <th>Train_Accuracy</th>\n",
              "      <th>Train_Recall</th>\n",
              "      <th>Train_Precision</th>\n",
              "      <th>Train_F1_Score</th>\n",
              "      <th>Test_Accuracy</th>\n",
              "      <th>Test_Recall</th>\n",
              "      <th>Test_Precision</th>\n",
              "      <th>Test_F1_Score</th>\n",
              "    </tr>\n",
              "  </thead>\n",
              "  <tbody>\n",
              "    <tr>\n",
              "      <th>0</th>\n",
              "      <td>DecisionTrees</td>\n",
              "      <td>0.399180</td>\n",
              "      <td>0.399180</td>\n",
              "      <td>0.460275</td>\n",
              "      <td>0.370432</td>\n",
              "      <td>0.265267</td>\n",
              "      <td>0.265267</td>\n",
              "      <td>0.240582</td>\n",
              "      <td>0.225947</td>\n",
              "    </tr>\n",
              "    <tr>\n",
              "      <th>1</th>\n",
              "      <td>RandomForest</td>\n",
              "      <td>0.989344</td>\n",
              "      <td>0.989344</td>\n",
              "      <td>0.989401</td>\n",
              "      <td>0.989348</td>\n",
              "      <td>0.324427</td>\n",
              "      <td>0.324427</td>\n",
              "      <td>0.318805</td>\n",
              "      <td>0.318012</td>\n",
              "    </tr>\n",
              "    <tr>\n",
              "      <th>2</th>\n",
              "      <td>Adaboost</td>\n",
              "      <td>0.364754</td>\n",
              "      <td>0.364754</td>\n",
              "      <td>0.362941</td>\n",
              "      <td>0.351428</td>\n",
              "      <td>0.265267</td>\n",
              "      <td>0.265267</td>\n",
              "      <td>0.247455</td>\n",
              "      <td>0.245970</td>\n",
              "    </tr>\n",
              "  </tbody>\n",
              "</table>\n",
              "</div>\n",
              "      <button class=\"colab-df-convert\" onclick=\"convertToInteractive('df-2ad5314a-9e01-4f67-b5f5-d96302248e67')\"\n",
              "              title=\"Convert this dataframe to an interactive table.\"\n",
              "              style=\"display:none;\">\n",
              "        \n",
              "  <svg xmlns=\"http://www.w3.org/2000/svg\" height=\"24px\"viewBox=\"0 0 24 24\"\n",
              "       width=\"24px\">\n",
              "    <path d=\"M0 0h24v24H0V0z\" fill=\"none\"/>\n",
              "    <path d=\"M18.56 5.44l.94 2.06.94-2.06 2.06-.94-2.06-.94-.94-2.06-.94 2.06-2.06.94zm-11 1L8.5 8.5l.94-2.06 2.06-.94-2.06-.94L8.5 2.5l-.94 2.06-2.06.94zm10 10l.94 2.06.94-2.06 2.06-.94-2.06-.94-.94-2.06-.94 2.06-2.06.94z\"/><path d=\"M17.41 7.96l-1.37-1.37c-.4-.4-.92-.59-1.43-.59-.52 0-1.04.2-1.43.59L10.3 9.45l-7.72 7.72c-.78.78-.78 2.05 0 2.83L4 21.41c.39.39.9.59 1.41.59.51 0 1.02-.2 1.41-.59l7.78-7.78 2.81-2.81c.8-.78.8-2.07 0-2.86zM5.41 20L4 18.59l7.72-7.72 1.47 1.35L5.41 20z\"/>\n",
              "  </svg>\n",
              "      </button>\n",
              "      \n",
              "  <style>\n",
              "    .colab-df-container {\n",
              "      display:flex;\n",
              "      flex-wrap:wrap;\n",
              "      gap: 12px;\n",
              "    }\n",
              "\n",
              "    .colab-df-convert {\n",
              "      background-color: #E8F0FE;\n",
              "      border: none;\n",
              "      border-radius: 50%;\n",
              "      cursor: pointer;\n",
              "      display: none;\n",
              "      fill: #1967D2;\n",
              "      height: 32px;\n",
              "      padding: 0 0 0 0;\n",
              "      width: 32px;\n",
              "    }\n",
              "\n",
              "    .colab-df-convert:hover {\n",
              "      background-color: #E2EBFA;\n",
              "      box-shadow: 0px 1px 2px rgba(60, 64, 67, 0.3), 0px 1px 3px 1px rgba(60, 64, 67, 0.15);\n",
              "      fill: #174EA6;\n",
              "    }\n",
              "\n",
              "    [theme=dark] .colab-df-convert {\n",
              "      background-color: #3B4455;\n",
              "      fill: #D2E3FC;\n",
              "    }\n",
              "\n",
              "    [theme=dark] .colab-df-convert:hover {\n",
              "      background-color: #434B5C;\n",
              "      box-shadow: 0px 1px 3px 1px rgba(0, 0, 0, 0.15);\n",
              "      filter: drop-shadow(0px 1px 2px rgba(0, 0, 0, 0.3));\n",
              "      fill: #FFFFFF;\n",
              "    }\n",
              "  </style>\n",
              "\n",
              "      <script>\n",
              "        const buttonEl =\n",
              "          document.querySelector('#df-2ad5314a-9e01-4f67-b5f5-d96302248e67 button.colab-df-convert');\n",
              "        buttonEl.style.display =\n",
              "          google.colab.kernel.accessAllowed ? 'block' : 'none';\n",
              "\n",
              "        async function convertToInteractive(key) {\n",
              "          const element = document.querySelector('#df-2ad5314a-9e01-4f67-b5f5-d96302248e67');\n",
              "          const dataTable =\n",
              "            await google.colab.kernel.invokeFunction('convertToInteractive',\n",
              "                                                     [key], {});\n",
              "          if (!dataTable) return;\n",
              "\n",
              "          const docLinkHtml = 'Like what you see? Visit the ' +\n",
              "            '<a target=\"_blank\" href=https://colab.research.google.com/notebooks/data_table.ipynb>data table notebook</a>'\n",
              "            + ' to learn more about interactive tables.';\n",
              "          element.innerHTML = '';\n",
              "          dataTable['output_type'] = 'display_data';\n",
              "          await google.colab.output.renderOutput(dataTable, element);\n",
              "          const docLink = document.createElement('div');\n",
              "          docLink.innerHTML = docLinkHtml;\n",
              "          element.appendChild(docLink);\n",
              "        }\n",
              "      </script>\n",
              "    </div>\n",
              "  </div>\n",
              "  "
            ],
            "text/plain": [
              "           Model  Train_Accuracy  Train_Recall  Train_Precision  \\\n",
              "0  DecisionTrees        0.399180      0.399180         0.460275   \n",
              "1   RandomForest        0.989344      0.989344         0.989401   \n",
              "2       Adaboost        0.364754      0.364754         0.362941   \n",
              "\n",
              "   Train_F1_Score  Test_Accuracy  Test_Recall  Test_Precision  Test_F1_Score  \n",
              "0        0.370432       0.265267     0.265267        0.240582       0.225947  \n",
              "1        0.989348       0.324427     0.324427        0.318805       0.318012  \n",
              "2        0.351428       0.265267     0.265267        0.247455       0.245970  "
            ]
          },
          "execution_count": 91,
          "metadata": {},
          "output_type": "execute_result"
        }
      ],
      "source": [
        "scores = get_metrics(y_train, y_pred_train2, y_test, y_pred_test2, \"Adaboost\", scores)\n",
        "scores"
      ]
    },
    {
      "cell_type": "markdown",
      "metadata": {
        "id": "EIfbFkn4bTNN"
      },
      "source": [
        "**Gradient Boosting Classifier**"
      ]
    },
    {
      "cell_type": "code",
      "execution_count": null,
      "metadata": {
        "id": "i8DZjnZ_bHSs"
      },
      "outputs": [],
      "source": [
        "clf_gbm = GradientBoostingClassifier()"
      ]
    },
    {
      "cell_type": "code",
      "execution_count": null,
      "metadata": {
        "colab": {
          "base_uri": "https://localhost:8080/",
          "height": 74
        },
        "id": "zxcJrcO8bWba",
        "outputId": "211311db-38a2-488e-9a44-f206666ec079"
      },
      "outputs": [
        {
          "data": {
            "text/html": [
              "<style>#sk-container-id-5 {color: black;background-color: white;}#sk-container-id-5 pre{padding: 0;}#sk-container-id-5 div.sk-toggleable {background-color: white;}#sk-container-id-5 label.sk-toggleable__label {cursor: pointer;display: block;width: 100%;margin-bottom: 0;padding: 0.3em;box-sizing: border-box;text-align: center;}#sk-container-id-5 label.sk-toggleable__label-arrow:before {content: \"▸\";float: left;margin-right: 0.25em;color: #696969;}#sk-container-id-5 label.sk-toggleable__label-arrow:hover:before {color: black;}#sk-container-id-5 div.sk-estimator:hover label.sk-toggleable__label-arrow:before {color: black;}#sk-container-id-5 div.sk-toggleable__content {max-height: 0;max-width: 0;overflow: hidden;text-align: left;background-color: #f0f8ff;}#sk-container-id-5 div.sk-toggleable__content pre {margin: 0.2em;color: black;border-radius: 0.25em;background-color: #f0f8ff;}#sk-container-id-5 input.sk-toggleable__control:checked~div.sk-toggleable__content {max-height: 200px;max-width: 100%;overflow: auto;}#sk-container-id-5 input.sk-toggleable__control:checked~label.sk-toggleable__label-arrow:before {content: \"▾\";}#sk-container-id-5 div.sk-estimator input.sk-toggleable__control:checked~label.sk-toggleable__label {background-color: #d4ebff;}#sk-container-id-5 div.sk-label input.sk-toggleable__control:checked~label.sk-toggleable__label {background-color: #d4ebff;}#sk-container-id-5 input.sk-hidden--visually {border: 0;clip: rect(1px 1px 1px 1px);clip: rect(1px, 1px, 1px, 1px);height: 1px;margin: -1px;overflow: hidden;padding: 0;position: absolute;width: 1px;}#sk-container-id-5 div.sk-estimator {font-family: monospace;background-color: #f0f8ff;border: 1px dotted black;border-radius: 0.25em;box-sizing: border-box;margin-bottom: 0.5em;}#sk-container-id-5 div.sk-estimator:hover {background-color: #d4ebff;}#sk-container-id-5 div.sk-parallel-item::after {content: \"\";width: 100%;border-bottom: 1px solid gray;flex-grow: 1;}#sk-container-id-5 div.sk-label:hover label.sk-toggleable__label {background-color: #d4ebff;}#sk-container-id-5 div.sk-serial::before {content: \"\";position: absolute;border-left: 1px solid gray;box-sizing: border-box;top: 0;bottom: 0;left: 50%;z-index: 0;}#sk-container-id-5 div.sk-serial {display: flex;flex-direction: column;align-items: center;background-color: white;padding-right: 0.2em;padding-left: 0.2em;position: relative;}#sk-container-id-5 div.sk-item {position: relative;z-index: 1;}#sk-container-id-5 div.sk-parallel {display: flex;align-items: stretch;justify-content: center;background-color: white;position: relative;}#sk-container-id-5 div.sk-item::before, #sk-container-id-5 div.sk-parallel-item::before {content: \"\";position: absolute;border-left: 1px solid gray;box-sizing: border-box;top: 0;bottom: 0;left: 50%;z-index: -1;}#sk-container-id-5 div.sk-parallel-item {display: flex;flex-direction: column;z-index: 1;position: relative;background-color: white;}#sk-container-id-5 div.sk-parallel-item:first-child::after {align-self: flex-end;width: 50%;}#sk-container-id-5 div.sk-parallel-item:last-child::after {align-self: flex-start;width: 50%;}#sk-container-id-5 div.sk-parallel-item:only-child::after {width: 0;}#sk-container-id-5 div.sk-dashed-wrapped {border: 1px dashed gray;margin: 0 0.4em 0.5em 0.4em;box-sizing: border-box;padding-bottom: 0.4em;background-color: white;}#sk-container-id-5 div.sk-label label {font-family: monospace;font-weight: bold;display: inline-block;line-height: 1.2em;}#sk-container-id-5 div.sk-label-container {text-align: center;}#sk-container-id-5 div.sk-container {/* jupyter's `normalize.less` sets `[hidden] { display: none; }` but bootstrap.min.css set `[hidden] { display: none !important; }` so we also need the `!important` here to be able to override the default hidden behavior on the sphinx rendered scikit-learn.org. See: https://github.com/scikit-learn/scikit-learn/issues/21755 */display: inline-block !important;position: relative;}#sk-container-id-5 div.sk-text-repr-fallback {display: none;}</style><div id=\"sk-container-id-5\" class=\"sk-top-container\"><div class=\"sk-text-repr-fallback\"><pre>GradientBoostingClassifier()</pre><b>In a Jupyter environment, please rerun this cell to show the HTML representation or trust the notebook. <br />On GitHub, the HTML representation is unable to render, please try loading this page with nbviewer.org.</b></div><div class=\"sk-container\" hidden><div class=\"sk-item\"><div class=\"sk-estimator sk-toggleable\"><input class=\"sk-toggleable__control sk-hidden--visually\" id=\"sk-estimator-id-5\" type=\"checkbox\" checked><label for=\"sk-estimator-id-5\" class=\"sk-toggleable__label sk-toggleable__label-arrow\">GradientBoostingClassifier</label><div class=\"sk-toggleable__content\"><pre>GradientBoostingClassifier()</pre></div></div></div></div></div>"
            ],
            "text/plain": [
              "GradientBoostingClassifier()"
            ]
          },
          "execution_count": 93,
          "metadata": {},
          "output_type": "execute_result"
        }
      ],
      "source": [
        "clf_gbm.fit(X=X_train_std, y=y_train)"
      ]
    },
    {
      "cell_type": "code",
      "execution_count": null,
      "metadata": {
        "id": "d8ZjlTKzbYU5"
      },
      "outputs": [],
      "source": [
        "y_pred_train3 = clf_gbm.predict(X_train_std)\n",
        "y_pred_test3 = clf_gbm.predict(X_test_std)"
      ]
    },
    {
      "cell_type": "code",
      "execution_count": null,
      "metadata": {
        "colab": {
          "base_uri": "https://localhost:8080/"
        },
        "id": "zINvRwv1baB-",
        "outputId": "ca8cb5f4-5067-41ee-fad7-1c11b0af0a88"
      },
      "outputs": [
        {
          "name": "stdout",
          "output_type": "stream",
          "text": [
            "\n",
            "            =========================================\n",
            "               CLASSIFICATION REPORT FOR TRAIN DATA\n",
            "            =========================================\n",
            "            \n",
            "              precision    recall  f1-score   support\n",
            "\n",
            "           1     0.9059    0.6364    0.7476       121\n",
            "           2     0.8556    0.6417    0.7333       240\n",
            "           3     0.7303    0.7196    0.7249       271\n",
            "           4     0.7535    0.7695    0.7614       282\n",
            "           5     0.6700    0.8758    0.7592       306\n",
            "\n",
            "    accuracy                         0.7467      1220\n",
            "   macro avg     0.7830    0.7286    0.7453      1220\n",
            "weighted avg     0.7626    0.7467    0.7459      1220\n",
            "\n",
            "\n",
            "            =========================================\n",
            "               CLASSIFICATION REPORT FOR TEST DATA\n",
            "            =========================================\n",
            "            \n",
            "              precision    recall  f1-score   support\n",
            "\n",
            "           1     0.2000    0.1228    0.1522        57\n",
            "           2     0.2529    0.2200    0.2353       100\n",
            "           3     0.2650    0.2562    0.2605       121\n",
            "           4     0.3246    0.3190    0.3217       116\n",
            "           5     0.3801    0.5000    0.4319       130\n",
            "\n",
            "    accuracy                         0.3092       524\n",
            "   macro avg     0.2845    0.2836    0.2803       524\n",
            "weighted avg     0.2974    0.3092    0.3000       524\n",
            "\n"
          ]
        }
      ],
      "source": [
        "classifcation_report_train_test(y_train, y_pred_train3, y_test, y_pred_test3)"
      ]
    },
    {
      "cell_type": "code",
      "execution_count": null,
      "metadata": {
        "colab": {
          "base_uri": "https://localhost:8080/",
          "height": 175
        },
        "id": "s41Jk9QRbcOA",
        "outputId": "4c5c2106-c1c3-4b04-c317-aee7ac82048d"
      },
      "outputs": [
        {
          "data": {
            "text/html": [
              "\n",
              "  <div id=\"df-3f06ad5f-b5c5-46ba-9455-64148d4289e8\">\n",
              "    <div class=\"colab-df-container\">\n",
              "      <div>\n",
              "<style scoped>\n",
              "    .dataframe tbody tr th:only-of-type {\n",
              "        vertical-align: middle;\n",
              "    }\n",
              "\n",
              "    .dataframe tbody tr th {\n",
              "        vertical-align: top;\n",
              "    }\n",
              "\n",
              "    .dataframe thead th {\n",
              "        text-align: right;\n",
              "    }\n",
              "</style>\n",
              "<table border=\"1\" class=\"dataframe\">\n",
              "  <thead>\n",
              "    <tr style=\"text-align: right;\">\n",
              "      <th></th>\n",
              "      <th>Model</th>\n",
              "      <th>Train_Accuracy</th>\n",
              "      <th>Train_Recall</th>\n",
              "      <th>Train_Precision</th>\n",
              "      <th>Train_F1_Score</th>\n",
              "      <th>Test_Accuracy</th>\n",
              "      <th>Test_Recall</th>\n",
              "      <th>Test_Precision</th>\n",
              "      <th>Test_F1_Score</th>\n",
              "    </tr>\n",
              "  </thead>\n",
              "  <tbody>\n",
              "    <tr>\n",
              "      <th>0</th>\n",
              "      <td>DecisionTrees</td>\n",
              "      <td>0.399180</td>\n",
              "      <td>0.399180</td>\n",
              "      <td>0.460275</td>\n",
              "      <td>0.370432</td>\n",
              "      <td>0.265267</td>\n",
              "      <td>0.265267</td>\n",
              "      <td>0.240582</td>\n",
              "      <td>0.225947</td>\n",
              "    </tr>\n",
              "    <tr>\n",
              "      <th>1</th>\n",
              "      <td>RandomForest</td>\n",
              "      <td>0.989344</td>\n",
              "      <td>0.989344</td>\n",
              "      <td>0.989401</td>\n",
              "      <td>0.989348</td>\n",
              "      <td>0.324427</td>\n",
              "      <td>0.324427</td>\n",
              "      <td>0.318805</td>\n",
              "      <td>0.318012</td>\n",
              "    </tr>\n",
              "    <tr>\n",
              "      <th>2</th>\n",
              "      <td>Adaboost</td>\n",
              "      <td>0.364754</td>\n",
              "      <td>0.364754</td>\n",
              "      <td>0.362941</td>\n",
              "      <td>0.351428</td>\n",
              "      <td>0.265267</td>\n",
              "      <td>0.265267</td>\n",
              "      <td>0.247455</td>\n",
              "      <td>0.245970</td>\n",
              "    </tr>\n",
              "    <tr>\n",
              "      <th>3</th>\n",
              "      <td>GBM</td>\n",
              "      <td>0.746721</td>\n",
              "      <td>0.746721</td>\n",
              "      <td>0.762595</td>\n",
              "      <td>0.745852</td>\n",
              "      <td>0.309160</td>\n",
              "      <td>0.309160</td>\n",
              "      <td>0.297350</td>\n",
              "      <td>0.299985</td>\n",
              "    </tr>\n",
              "  </tbody>\n",
              "</table>\n",
              "</div>\n",
              "      <button class=\"colab-df-convert\" onclick=\"convertToInteractive('df-3f06ad5f-b5c5-46ba-9455-64148d4289e8')\"\n",
              "              title=\"Convert this dataframe to an interactive table.\"\n",
              "              style=\"display:none;\">\n",
              "        \n",
              "  <svg xmlns=\"http://www.w3.org/2000/svg\" height=\"24px\"viewBox=\"0 0 24 24\"\n",
              "       width=\"24px\">\n",
              "    <path d=\"M0 0h24v24H0V0z\" fill=\"none\"/>\n",
              "    <path d=\"M18.56 5.44l.94 2.06.94-2.06 2.06-.94-2.06-.94-.94-2.06-.94 2.06-2.06.94zm-11 1L8.5 8.5l.94-2.06 2.06-.94-2.06-.94L8.5 2.5l-.94 2.06-2.06.94zm10 10l.94 2.06.94-2.06 2.06-.94-2.06-.94-.94-2.06-.94 2.06-2.06.94z\"/><path d=\"M17.41 7.96l-1.37-1.37c-.4-.4-.92-.59-1.43-.59-.52 0-1.04.2-1.43.59L10.3 9.45l-7.72 7.72c-.78.78-.78 2.05 0 2.83L4 21.41c.39.39.9.59 1.41.59.51 0 1.02-.2 1.41-.59l7.78-7.78 2.81-2.81c.8-.78.8-2.07 0-2.86zM5.41 20L4 18.59l7.72-7.72 1.47 1.35L5.41 20z\"/>\n",
              "  </svg>\n",
              "      </button>\n",
              "      \n",
              "  <style>\n",
              "    .colab-df-container {\n",
              "      display:flex;\n",
              "      flex-wrap:wrap;\n",
              "      gap: 12px;\n",
              "    }\n",
              "\n",
              "    .colab-df-convert {\n",
              "      background-color: #E8F0FE;\n",
              "      border: none;\n",
              "      border-radius: 50%;\n",
              "      cursor: pointer;\n",
              "      display: none;\n",
              "      fill: #1967D2;\n",
              "      height: 32px;\n",
              "      padding: 0 0 0 0;\n",
              "      width: 32px;\n",
              "    }\n",
              "\n",
              "    .colab-df-convert:hover {\n",
              "      background-color: #E2EBFA;\n",
              "      box-shadow: 0px 1px 2px rgba(60, 64, 67, 0.3), 0px 1px 3px 1px rgba(60, 64, 67, 0.15);\n",
              "      fill: #174EA6;\n",
              "    }\n",
              "\n",
              "    [theme=dark] .colab-df-convert {\n",
              "      background-color: #3B4455;\n",
              "      fill: #D2E3FC;\n",
              "    }\n",
              "\n",
              "    [theme=dark] .colab-df-convert:hover {\n",
              "      background-color: #434B5C;\n",
              "      box-shadow: 0px 1px 3px 1px rgba(0, 0, 0, 0.15);\n",
              "      filter: drop-shadow(0px 1px 2px rgba(0, 0, 0, 0.3));\n",
              "      fill: #FFFFFF;\n",
              "    }\n",
              "  </style>\n",
              "\n",
              "      <script>\n",
              "        const buttonEl =\n",
              "          document.querySelector('#df-3f06ad5f-b5c5-46ba-9455-64148d4289e8 button.colab-df-convert');\n",
              "        buttonEl.style.display =\n",
              "          google.colab.kernel.accessAllowed ? 'block' : 'none';\n",
              "\n",
              "        async function convertToInteractive(key) {\n",
              "          const element = document.querySelector('#df-3f06ad5f-b5c5-46ba-9455-64148d4289e8');\n",
              "          const dataTable =\n",
              "            await google.colab.kernel.invokeFunction('convertToInteractive',\n",
              "                                                     [key], {});\n",
              "          if (!dataTable) return;\n",
              "\n",
              "          const docLinkHtml = 'Like what you see? Visit the ' +\n",
              "            '<a target=\"_blank\" href=https://colab.research.google.com/notebooks/data_table.ipynb>data table notebook</a>'\n",
              "            + ' to learn more about interactive tables.';\n",
              "          element.innerHTML = '';\n",
              "          dataTable['output_type'] = 'display_data';\n",
              "          await google.colab.output.renderOutput(dataTable, element);\n",
              "          const docLink = document.createElement('div');\n",
              "          docLink.innerHTML = docLinkHtml;\n",
              "          element.appendChild(docLink);\n",
              "        }\n",
              "      </script>\n",
              "    </div>\n",
              "  </div>\n",
              "  "
            ],
            "text/plain": [
              "           Model  Train_Accuracy  Train_Recall  Train_Precision  \\\n",
              "0  DecisionTrees        0.399180      0.399180         0.460275   \n",
              "1   RandomForest        0.989344      0.989344         0.989401   \n",
              "2       Adaboost        0.364754      0.364754         0.362941   \n",
              "3            GBM        0.746721      0.746721         0.762595   \n",
              "\n",
              "   Train_F1_Score  Test_Accuracy  Test_Recall  Test_Precision  Test_F1_Score  \n",
              "0        0.370432       0.265267     0.265267        0.240582       0.225947  \n",
              "1        0.989348       0.324427     0.324427        0.318805       0.318012  \n",
              "2        0.351428       0.265267     0.265267        0.247455       0.245970  \n",
              "3        0.745852       0.309160     0.309160        0.297350       0.299985  "
            ]
          },
          "execution_count": 96,
          "metadata": {},
          "output_type": "execute_result"
        }
      ],
      "source": [
        "scores = get_metrics(y_train, y_pred_train3, y_test, y_pred_test3, \"GBM\", scores)\n",
        "scores"
      ]
    },
    {
      "cell_type": "markdown",
      "metadata": {
        "id": "eY1pScOlbkpV"
      },
      "source": [
        "**SVM Model**"
      ]
    },
    {
      "cell_type": "code",
      "execution_count": null,
      "metadata": {
        "id": "9KMG6ViUbfgL"
      },
      "outputs": [],
      "source": [
        "linear_svm = SVC(kernel='linear', C=1)"
      ]
    },
    {
      "cell_type": "code",
      "execution_count": null,
      "metadata": {
        "colab": {
          "base_uri": "https://localhost:8080/",
          "height": 74
        },
        "id": "4q_Ph4_Fbogh",
        "outputId": "3f6dd55a-94c2-4027-d4c4-4ddb24e4bc2a"
      },
      "outputs": [
        {
          "data": {
            "text/html": [
              "<style>#sk-container-id-6 {color: black;background-color: white;}#sk-container-id-6 pre{padding: 0;}#sk-container-id-6 div.sk-toggleable {background-color: white;}#sk-container-id-6 label.sk-toggleable__label {cursor: pointer;display: block;width: 100%;margin-bottom: 0;padding: 0.3em;box-sizing: border-box;text-align: center;}#sk-container-id-6 label.sk-toggleable__label-arrow:before {content: \"▸\";float: left;margin-right: 0.25em;color: #696969;}#sk-container-id-6 label.sk-toggleable__label-arrow:hover:before {color: black;}#sk-container-id-6 div.sk-estimator:hover label.sk-toggleable__label-arrow:before {color: black;}#sk-container-id-6 div.sk-toggleable__content {max-height: 0;max-width: 0;overflow: hidden;text-align: left;background-color: #f0f8ff;}#sk-container-id-6 div.sk-toggleable__content pre {margin: 0.2em;color: black;border-radius: 0.25em;background-color: #f0f8ff;}#sk-container-id-6 input.sk-toggleable__control:checked~div.sk-toggleable__content {max-height: 200px;max-width: 100%;overflow: auto;}#sk-container-id-6 input.sk-toggleable__control:checked~label.sk-toggleable__label-arrow:before {content: \"▾\";}#sk-container-id-6 div.sk-estimator input.sk-toggleable__control:checked~label.sk-toggleable__label {background-color: #d4ebff;}#sk-container-id-6 div.sk-label input.sk-toggleable__control:checked~label.sk-toggleable__label {background-color: #d4ebff;}#sk-container-id-6 input.sk-hidden--visually {border: 0;clip: rect(1px 1px 1px 1px);clip: rect(1px, 1px, 1px, 1px);height: 1px;margin: -1px;overflow: hidden;padding: 0;position: absolute;width: 1px;}#sk-container-id-6 div.sk-estimator {font-family: monospace;background-color: #f0f8ff;border: 1px dotted black;border-radius: 0.25em;box-sizing: border-box;margin-bottom: 0.5em;}#sk-container-id-6 div.sk-estimator:hover {background-color: #d4ebff;}#sk-container-id-6 div.sk-parallel-item::after {content: \"\";width: 100%;border-bottom: 1px solid gray;flex-grow: 1;}#sk-container-id-6 div.sk-label:hover label.sk-toggleable__label {background-color: #d4ebff;}#sk-container-id-6 div.sk-serial::before {content: \"\";position: absolute;border-left: 1px solid gray;box-sizing: border-box;top: 0;bottom: 0;left: 50%;z-index: 0;}#sk-container-id-6 div.sk-serial {display: flex;flex-direction: column;align-items: center;background-color: white;padding-right: 0.2em;padding-left: 0.2em;position: relative;}#sk-container-id-6 div.sk-item {position: relative;z-index: 1;}#sk-container-id-6 div.sk-parallel {display: flex;align-items: stretch;justify-content: center;background-color: white;position: relative;}#sk-container-id-6 div.sk-item::before, #sk-container-id-6 div.sk-parallel-item::before {content: \"\";position: absolute;border-left: 1px solid gray;box-sizing: border-box;top: 0;bottom: 0;left: 50%;z-index: -1;}#sk-container-id-6 div.sk-parallel-item {display: flex;flex-direction: column;z-index: 1;position: relative;background-color: white;}#sk-container-id-6 div.sk-parallel-item:first-child::after {align-self: flex-end;width: 50%;}#sk-container-id-6 div.sk-parallel-item:last-child::after {align-self: flex-start;width: 50%;}#sk-container-id-6 div.sk-parallel-item:only-child::after {width: 0;}#sk-container-id-6 div.sk-dashed-wrapped {border: 1px dashed gray;margin: 0 0.4em 0.5em 0.4em;box-sizing: border-box;padding-bottom: 0.4em;background-color: white;}#sk-container-id-6 div.sk-label label {font-family: monospace;font-weight: bold;display: inline-block;line-height: 1.2em;}#sk-container-id-6 div.sk-label-container {text-align: center;}#sk-container-id-6 div.sk-container {/* jupyter's `normalize.less` sets `[hidden] { display: none; }` but bootstrap.min.css set `[hidden] { display: none !important; }` so we also need the `!important` here to be able to override the default hidden behavior on the sphinx rendered scikit-learn.org. See: https://github.com/scikit-learn/scikit-learn/issues/21755 */display: inline-block !important;position: relative;}#sk-container-id-6 div.sk-text-repr-fallback {display: none;}</style><div id=\"sk-container-id-6\" class=\"sk-top-container\"><div class=\"sk-text-repr-fallback\"><pre>SVC(C=1, kernel=&#x27;linear&#x27;)</pre><b>In a Jupyter environment, please rerun this cell to show the HTML representation or trust the notebook. <br />On GitHub, the HTML representation is unable to render, please try loading this page with nbviewer.org.</b></div><div class=\"sk-container\" hidden><div class=\"sk-item\"><div class=\"sk-estimator sk-toggleable\"><input class=\"sk-toggleable__control sk-hidden--visually\" id=\"sk-estimator-id-6\" type=\"checkbox\" checked><label for=\"sk-estimator-id-6\" class=\"sk-toggleable__label sk-toggleable__label-arrow\">SVC</label><div class=\"sk-toggleable__content\"><pre>SVC(C=1, kernel=&#x27;linear&#x27;)</pre></div></div></div></div></div>"
            ],
            "text/plain": [
              "SVC(C=1, kernel='linear')"
            ]
          },
          "execution_count": 98,
          "metadata": {},
          "output_type": "execute_result"
        }
      ],
      "source": [
        "linear_svm.fit(X=X_train_std, y= y_train)"
      ]
    },
    {
      "cell_type": "code",
      "execution_count": null,
      "metadata": {
        "id": "pOO-WPbdbqQ_"
      },
      "outputs": [],
      "source": [
        "y_pred_train4 = linear_svm.predict(X_train_std)\n",
        "y_pred_test4 = linear_svm.predict(X_test_std)"
      ]
    },
    {
      "cell_type": "code",
      "execution_count": null,
      "metadata": {
        "colab": {
          "base_uri": "https://localhost:8080/"
        },
        "id": "CoID4LpxbsHB",
        "outputId": "95ad1535-2f9b-4c64-84da-e31dd95a7a9e"
      },
      "outputs": [
        {
          "name": "stdout",
          "output_type": "stream",
          "text": [
            "\n",
            "            =========================================\n",
            "               CLASSIFICATION REPORT FOR TRAIN DATA\n",
            "            =========================================\n",
            "            \n",
            "              precision    recall  f1-score   support\n",
            "\n",
            "           1     0.0000    0.0000    0.0000       121\n",
            "           2     0.3056    0.0458    0.0797       240\n",
            "           3     0.2507    0.3137    0.2787       271\n",
            "           4     0.2336    0.2908    0.2591       282\n",
            "           5     0.3360    0.5425    0.4150       306\n",
            "\n",
            "    accuracy                         0.2820      1220\n",
            "   macro avg     0.2252    0.2386    0.2065      1220\n",
            "weighted avg     0.2541    0.2820    0.2416      1220\n",
            "\n",
            "\n",
            "            =========================================\n",
            "               CLASSIFICATION REPORT FOR TEST DATA\n",
            "            =========================================\n",
            "            \n",
            "              precision    recall  f1-score   support\n",
            "\n",
            "           1     0.0000    0.0000    0.0000        57\n",
            "           2     0.1739    0.0400    0.0650       100\n",
            "           3     0.2042    0.2397    0.2205       121\n",
            "           4     0.2516    0.3448    0.2909       116\n",
            "           5     0.3250    0.5000    0.3939       130\n",
            "\n",
            "    accuracy                         0.2634       524\n",
            "   macro avg     0.1909    0.2249    0.1941       524\n",
            "weighted avg     0.2167    0.2634    0.2255       524\n",
            "\n"
          ]
        }
      ],
      "source": [
        "classifcation_report_train_test(y_train, y_pred_train4, y_test, y_pred_test4)"
      ]
    },
    {
      "cell_type": "code",
      "execution_count": null,
      "metadata": {
        "colab": {
          "base_uri": "https://localhost:8080/",
          "height": 206
        },
        "id": "aWWXLT85buJp",
        "outputId": "e54d4a69-0949-4e76-b92e-58ffcab0bfa6"
      },
      "outputs": [
        {
          "data": {
            "text/html": [
              "\n",
              "  <div id=\"df-a24e066b-22f8-40fe-8914-2d5680964c90\">\n",
              "    <div class=\"colab-df-container\">\n",
              "      <div>\n",
              "<style scoped>\n",
              "    .dataframe tbody tr th:only-of-type {\n",
              "        vertical-align: middle;\n",
              "    }\n",
              "\n",
              "    .dataframe tbody tr th {\n",
              "        vertical-align: top;\n",
              "    }\n",
              "\n",
              "    .dataframe thead th {\n",
              "        text-align: right;\n",
              "    }\n",
              "</style>\n",
              "<table border=\"1\" class=\"dataframe\">\n",
              "  <thead>\n",
              "    <tr style=\"text-align: right;\">\n",
              "      <th></th>\n",
              "      <th>Model</th>\n",
              "      <th>Train_Accuracy</th>\n",
              "      <th>Train_Recall</th>\n",
              "      <th>Train_Precision</th>\n",
              "      <th>Train_F1_Score</th>\n",
              "      <th>Test_Accuracy</th>\n",
              "      <th>Test_Recall</th>\n",
              "      <th>Test_Precision</th>\n",
              "      <th>Test_F1_Score</th>\n",
              "    </tr>\n",
              "  </thead>\n",
              "  <tbody>\n",
              "    <tr>\n",
              "      <th>0</th>\n",
              "      <td>DecisionTrees</td>\n",
              "      <td>0.399180</td>\n",
              "      <td>0.399180</td>\n",
              "      <td>0.460275</td>\n",
              "      <td>0.370432</td>\n",
              "      <td>0.265267</td>\n",
              "      <td>0.265267</td>\n",
              "      <td>0.240582</td>\n",
              "      <td>0.225947</td>\n",
              "    </tr>\n",
              "    <tr>\n",
              "      <th>1</th>\n",
              "      <td>RandomForest</td>\n",
              "      <td>0.989344</td>\n",
              "      <td>0.989344</td>\n",
              "      <td>0.989401</td>\n",
              "      <td>0.989348</td>\n",
              "      <td>0.324427</td>\n",
              "      <td>0.324427</td>\n",
              "      <td>0.318805</td>\n",
              "      <td>0.318012</td>\n",
              "    </tr>\n",
              "    <tr>\n",
              "      <th>2</th>\n",
              "      <td>Adaboost</td>\n",
              "      <td>0.364754</td>\n",
              "      <td>0.364754</td>\n",
              "      <td>0.362941</td>\n",
              "      <td>0.351428</td>\n",
              "      <td>0.265267</td>\n",
              "      <td>0.265267</td>\n",
              "      <td>0.247455</td>\n",
              "      <td>0.245970</td>\n",
              "    </tr>\n",
              "    <tr>\n",
              "      <th>3</th>\n",
              "      <td>GBM</td>\n",
              "      <td>0.746721</td>\n",
              "      <td>0.746721</td>\n",
              "      <td>0.762595</td>\n",
              "      <td>0.745852</td>\n",
              "      <td>0.309160</td>\n",
              "      <td>0.309160</td>\n",
              "      <td>0.297350</td>\n",
              "      <td>0.299985</td>\n",
              "    </tr>\n",
              "    <tr>\n",
              "      <th>4</th>\n",
              "      <td>SVM</td>\n",
              "      <td>0.281967</td>\n",
              "      <td>0.281967</td>\n",
              "      <td>0.254090</td>\n",
              "      <td>0.241563</td>\n",
              "      <td>0.263359</td>\n",
              "      <td>0.263359</td>\n",
              "      <td>0.216670</td>\n",
              "      <td>0.225470</td>\n",
              "    </tr>\n",
              "  </tbody>\n",
              "</table>\n",
              "</div>\n",
              "      <button class=\"colab-df-convert\" onclick=\"convertToInteractive('df-a24e066b-22f8-40fe-8914-2d5680964c90')\"\n",
              "              title=\"Convert this dataframe to an interactive table.\"\n",
              "              style=\"display:none;\">\n",
              "        \n",
              "  <svg xmlns=\"http://www.w3.org/2000/svg\" height=\"24px\"viewBox=\"0 0 24 24\"\n",
              "       width=\"24px\">\n",
              "    <path d=\"M0 0h24v24H0V0z\" fill=\"none\"/>\n",
              "    <path d=\"M18.56 5.44l.94 2.06.94-2.06 2.06-.94-2.06-.94-.94-2.06-.94 2.06-2.06.94zm-11 1L8.5 8.5l.94-2.06 2.06-.94-2.06-.94L8.5 2.5l-.94 2.06-2.06.94zm10 10l.94 2.06.94-2.06 2.06-.94-2.06-.94-.94-2.06-.94 2.06-2.06.94z\"/><path d=\"M17.41 7.96l-1.37-1.37c-.4-.4-.92-.59-1.43-.59-.52 0-1.04.2-1.43.59L10.3 9.45l-7.72 7.72c-.78.78-.78 2.05 0 2.83L4 21.41c.39.39.9.59 1.41.59.51 0 1.02-.2 1.41-.59l7.78-7.78 2.81-2.81c.8-.78.8-2.07 0-2.86zM5.41 20L4 18.59l7.72-7.72 1.47 1.35L5.41 20z\"/>\n",
              "  </svg>\n",
              "      </button>\n",
              "      \n",
              "  <style>\n",
              "    .colab-df-container {\n",
              "      display:flex;\n",
              "      flex-wrap:wrap;\n",
              "      gap: 12px;\n",
              "    }\n",
              "\n",
              "    .colab-df-convert {\n",
              "      background-color: #E8F0FE;\n",
              "      border: none;\n",
              "      border-radius: 50%;\n",
              "      cursor: pointer;\n",
              "      display: none;\n",
              "      fill: #1967D2;\n",
              "      height: 32px;\n",
              "      padding: 0 0 0 0;\n",
              "      width: 32px;\n",
              "    }\n",
              "\n",
              "    .colab-df-convert:hover {\n",
              "      background-color: #E2EBFA;\n",
              "      box-shadow: 0px 1px 2px rgba(60, 64, 67, 0.3), 0px 1px 3px 1px rgba(60, 64, 67, 0.15);\n",
              "      fill: #174EA6;\n",
              "    }\n",
              "\n",
              "    [theme=dark] .colab-df-convert {\n",
              "      background-color: #3B4455;\n",
              "      fill: #D2E3FC;\n",
              "    }\n",
              "\n",
              "    [theme=dark] .colab-df-convert:hover {\n",
              "      background-color: #434B5C;\n",
              "      box-shadow: 0px 1px 3px 1px rgba(0, 0, 0, 0.15);\n",
              "      filter: drop-shadow(0px 1px 2px rgba(0, 0, 0, 0.3));\n",
              "      fill: #FFFFFF;\n",
              "    }\n",
              "  </style>\n",
              "\n",
              "      <script>\n",
              "        const buttonEl =\n",
              "          document.querySelector('#df-a24e066b-22f8-40fe-8914-2d5680964c90 button.colab-df-convert');\n",
              "        buttonEl.style.display =\n",
              "          google.colab.kernel.accessAllowed ? 'block' : 'none';\n",
              "\n",
              "        async function convertToInteractive(key) {\n",
              "          const element = document.querySelector('#df-a24e066b-22f8-40fe-8914-2d5680964c90');\n",
              "          const dataTable =\n",
              "            await google.colab.kernel.invokeFunction('convertToInteractive',\n",
              "                                                     [key], {});\n",
              "          if (!dataTable) return;\n",
              "\n",
              "          const docLinkHtml = 'Like what you see? Visit the ' +\n",
              "            '<a target=\"_blank\" href=https://colab.research.google.com/notebooks/data_table.ipynb>data table notebook</a>'\n",
              "            + ' to learn more about interactive tables.';\n",
              "          element.innerHTML = '';\n",
              "          dataTable['output_type'] = 'display_data';\n",
              "          await google.colab.output.renderOutput(dataTable, element);\n",
              "          const docLink = document.createElement('div');\n",
              "          docLink.innerHTML = docLinkHtml;\n",
              "          element.appendChild(docLink);\n",
              "        }\n",
              "      </script>\n",
              "    </div>\n",
              "  </div>\n",
              "  "
            ],
            "text/plain": [
              "           Model  Train_Accuracy  Train_Recall  Train_Precision  \\\n",
              "0  DecisionTrees        0.399180      0.399180         0.460275   \n",
              "1   RandomForest        0.989344      0.989344         0.989401   \n",
              "2       Adaboost        0.364754      0.364754         0.362941   \n",
              "3            GBM        0.746721      0.746721         0.762595   \n",
              "4            SVM        0.281967      0.281967         0.254090   \n",
              "\n",
              "   Train_F1_Score  Test_Accuracy  Test_Recall  Test_Precision  Test_F1_Score  \n",
              "0        0.370432       0.265267     0.265267        0.240582       0.225947  \n",
              "1        0.989348       0.324427     0.324427        0.318805       0.318012  \n",
              "2        0.351428       0.265267     0.265267        0.247455       0.245970  \n",
              "3        0.745852       0.309160     0.309160        0.297350       0.299985  \n",
              "4        0.241563       0.263359     0.263359        0.216670       0.225470  "
            ]
          },
          "execution_count": 101,
          "metadata": {},
          "output_type": "execute_result"
        }
      ],
      "source": [
        "scores = get_metrics(y_train, y_pred_train4, y_test, y_pred_test4, \"SVM\", scores)\n",
        "scores"
      ]
    },
    {
      "cell_type": "markdown",
      "metadata": {
        "id": "9QHi3n8Fc_mt"
      },
      "source": [
        "**KNN**"
      ]
    },
    {
      "cell_type": "code",
      "execution_count": null,
      "metadata": {
        "id": "B7hJT_yWb3e_"
      },
      "outputs": [],
      "source": [
        "knn = KNeighborsClassifier(n_neighbors=7)"
      ]
    },
    {
      "cell_type": "code",
      "execution_count": null,
      "metadata": {
        "colab": {
          "base_uri": "https://localhost:8080/",
          "height": 74
        },
        "id": "t0a-f1C_dDDn",
        "outputId": "b7b8d844-e6ee-4637-c8b8-083c38b9cbcf"
      },
      "outputs": [
        {
          "data": {
            "text/html": [
              "<style>#sk-container-id-7 {color: black;background-color: white;}#sk-container-id-7 pre{padding: 0;}#sk-container-id-7 div.sk-toggleable {background-color: white;}#sk-container-id-7 label.sk-toggleable__label {cursor: pointer;display: block;width: 100%;margin-bottom: 0;padding: 0.3em;box-sizing: border-box;text-align: center;}#sk-container-id-7 label.sk-toggleable__label-arrow:before {content: \"▸\";float: left;margin-right: 0.25em;color: #696969;}#sk-container-id-7 label.sk-toggleable__label-arrow:hover:before {color: black;}#sk-container-id-7 div.sk-estimator:hover label.sk-toggleable__label-arrow:before {color: black;}#sk-container-id-7 div.sk-toggleable__content {max-height: 0;max-width: 0;overflow: hidden;text-align: left;background-color: #f0f8ff;}#sk-container-id-7 div.sk-toggleable__content pre {margin: 0.2em;color: black;border-radius: 0.25em;background-color: #f0f8ff;}#sk-container-id-7 input.sk-toggleable__control:checked~div.sk-toggleable__content {max-height: 200px;max-width: 100%;overflow: auto;}#sk-container-id-7 input.sk-toggleable__control:checked~label.sk-toggleable__label-arrow:before {content: \"▾\";}#sk-container-id-7 div.sk-estimator input.sk-toggleable__control:checked~label.sk-toggleable__label {background-color: #d4ebff;}#sk-container-id-7 div.sk-label input.sk-toggleable__control:checked~label.sk-toggleable__label {background-color: #d4ebff;}#sk-container-id-7 input.sk-hidden--visually {border: 0;clip: rect(1px 1px 1px 1px);clip: rect(1px, 1px, 1px, 1px);height: 1px;margin: -1px;overflow: hidden;padding: 0;position: absolute;width: 1px;}#sk-container-id-7 div.sk-estimator {font-family: monospace;background-color: #f0f8ff;border: 1px dotted black;border-radius: 0.25em;box-sizing: border-box;margin-bottom: 0.5em;}#sk-container-id-7 div.sk-estimator:hover {background-color: #d4ebff;}#sk-container-id-7 div.sk-parallel-item::after {content: \"\";width: 100%;border-bottom: 1px solid gray;flex-grow: 1;}#sk-container-id-7 div.sk-label:hover label.sk-toggleable__label {background-color: #d4ebff;}#sk-container-id-7 div.sk-serial::before {content: \"\";position: absolute;border-left: 1px solid gray;box-sizing: border-box;top: 0;bottom: 0;left: 50%;z-index: 0;}#sk-container-id-7 div.sk-serial {display: flex;flex-direction: column;align-items: center;background-color: white;padding-right: 0.2em;padding-left: 0.2em;position: relative;}#sk-container-id-7 div.sk-item {position: relative;z-index: 1;}#sk-container-id-7 div.sk-parallel {display: flex;align-items: stretch;justify-content: center;background-color: white;position: relative;}#sk-container-id-7 div.sk-item::before, #sk-container-id-7 div.sk-parallel-item::before {content: \"\";position: absolute;border-left: 1px solid gray;box-sizing: border-box;top: 0;bottom: 0;left: 50%;z-index: -1;}#sk-container-id-7 div.sk-parallel-item {display: flex;flex-direction: column;z-index: 1;position: relative;background-color: white;}#sk-container-id-7 div.sk-parallel-item:first-child::after {align-self: flex-end;width: 50%;}#sk-container-id-7 div.sk-parallel-item:last-child::after {align-self: flex-start;width: 50%;}#sk-container-id-7 div.sk-parallel-item:only-child::after {width: 0;}#sk-container-id-7 div.sk-dashed-wrapped {border: 1px dashed gray;margin: 0 0.4em 0.5em 0.4em;box-sizing: border-box;padding-bottom: 0.4em;background-color: white;}#sk-container-id-7 div.sk-label label {font-family: monospace;font-weight: bold;display: inline-block;line-height: 1.2em;}#sk-container-id-7 div.sk-label-container {text-align: center;}#sk-container-id-7 div.sk-container {/* jupyter's `normalize.less` sets `[hidden] { display: none; }` but bootstrap.min.css set `[hidden] { display: none !important; }` so we also need the `!important` here to be able to override the default hidden behavior on the sphinx rendered scikit-learn.org. See: https://github.com/scikit-learn/scikit-learn/issues/21755 */display: inline-block !important;position: relative;}#sk-container-id-7 div.sk-text-repr-fallback {display: none;}</style><div id=\"sk-container-id-7\" class=\"sk-top-container\"><div class=\"sk-text-repr-fallback\"><pre>KNeighborsClassifier(n_neighbors=7)</pre><b>In a Jupyter environment, please rerun this cell to show the HTML representation or trust the notebook. <br />On GitHub, the HTML representation is unable to render, please try loading this page with nbviewer.org.</b></div><div class=\"sk-container\" hidden><div class=\"sk-item\"><div class=\"sk-estimator sk-toggleable\"><input class=\"sk-toggleable__control sk-hidden--visually\" id=\"sk-estimator-id-7\" type=\"checkbox\" checked><label for=\"sk-estimator-id-7\" class=\"sk-toggleable__label sk-toggleable__label-arrow\">KNeighborsClassifier</label><div class=\"sk-toggleable__content\"><pre>KNeighborsClassifier(n_neighbors=7)</pre></div></div></div></div></div>"
            ],
            "text/plain": [
              "KNeighborsClassifier(n_neighbors=7)"
            ]
          },
          "execution_count": 103,
          "metadata": {},
          "output_type": "execute_result"
        }
      ],
      "source": [
        "knn.fit(X=X_train_std, y=y_train)"
      ]
    },
    {
      "cell_type": "code",
      "execution_count": null,
      "metadata": {
        "id": "zAu2pdM1dExH"
      },
      "outputs": [],
      "source": [
        "y_pred_train5 = knn.predict(X_train_std)\n",
        "y_pred_test5 = knn.predict(X_test_std)"
      ]
    },
    {
      "cell_type": "code",
      "execution_count": null,
      "metadata": {
        "colab": {
          "base_uri": "https://localhost:8080/"
        },
        "id": "GBxhPmCZdHFh",
        "outputId": "b6528bf0-959f-478f-ea6c-1a169215d804"
      },
      "outputs": [
        {
          "name": "stdout",
          "output_type": "stream",
          "text": [
            "\n",
            "            =========================================\n",
            "               CLASSIFICATION REPORT FOR TRAIN DATA\n",
            "            =========================================\n",
            "            \n",
            "              precision    recall  f1-score   support\n",
            "\n",
            "           1     0.4000    0.3802    0.3898       121\n",
            "           2     0.4239    0.4875    0.4535       240\n",
            "           3     0.4120    0.4576    0.4336       271\n",
            "           4     0.5000    0.4433    0.4699       282\n",
            "           5     0.5468    0.4967    0.5205       306\n",
            "\n",
            "    accuracy                         0.4623      1220\n",
            "   macro avg     0.4565    0.4530    0.4535      1220\n",
            "weighted avg     0.4673    0.4623    0.4634      1220\n",
            "\n",
            "\n",
            "            =========================================\n",
            "               CLASSIFICATION REPORT FOR TEST DATA\n",
            "            =========================================\n",
            "            \n",
            "              precision    recall  f1-score   support\n",
            "\n",
            "           1     0.1522    0.1228    0.1359        57\n",
            "           2     0.2314    0.2800    0.2534       100\n",
            "           3     0.2137    0.2066    0.2101       121\n",
            "           4     0.2393    0.2414    0.2403       116\n",
            "           5     0.3659    0.3462    0.3557       130\n",
            "\n",
            "    accuracy                         0.2538       524\n",
            "   macro avg     0.2405    0.2394    0.2391       524\n",
            "weighted avg     0.2538    0.2538    0.2531       524\n",
            "\n"
          ]
        }
      ],
      "source": [
        "classifcation_report_train_test(y_train, y_pred_train5, y_test, y_pred_test5)"
      ]
    },
    {
      "cell_type": "code",
      "execution_count": null,
      "metadata": {
        "colab": {
          "base_uri": "https://localhost:8080/",
          "height": 237
        },
        "id": "028i3FvEdJdR",
        "outputId": "01ab5a4a-3e12-4b2e-9f20-5cf8db208fdc"
      },
      "outputs": [
        {
          "data": {
            "text/html": [
              "\n",
              "  <div id=\"df-47e817f9-eef7-4755-a6a9-3461e9ca8351\">\n",
              "    <div class=\"colab-df-container\">\n",
              "      <div>\n",
              "<style scoped>\n",
              "    .dataframe tbody tr th:only-of-type {\n",
              "        vertical-align: middle;\n",
              "    }\n",
              "\n",
              "    .dataframe tbody tr th {\n",
              "        vertical-align: top;\n",
              "    }\n",
              "\n",
              "    .dataframe thead th {\n",
              "        text-align: right;\n",
              "    }\n",
              "</style>\n",
              "<table border=\"1\" class=\"dataframe\">\n",
              "  <thead>\n",
              "    <tr style=\"text-align: right;\">\n",
              "      <th></th>\n",
              "      <th>Model</th>\n",
              "      <th>Train_Accuracy</th>\n",
              "      <th>Train_Recall</th>\n",
              "      <th>Train_Precision</th>\n",
              "      <th>Train_F1_Score</th>\n",
              "      <th>Test_Accuracy</th>\n",
              "      <th>Test_Recall</th>\n",
              "      <th>Test_Precision</th>\n",
              "      <th>Test_F1_Score</th>\n",
              "    </tr>\n",
              "  </thead>\n",
              "  <tbody>\n",
              "    <tr>\n",
              "      <th>0</th>\n",
              "      <td>DecisionTrees</td>\n",
              "      <td>0.399180</td>\n",
              "      <td>0.399180</td>\n",
              "      <td>0.460275</td>\n",
              "      <td>0.370432</td>\n",
              "      <td>0.265267</td>\n",
              "      <td>0.265267</td>\n",
              "      <td>0.240582</td>\n",
              "      <td>0.225947</td>\n",
              "    </tr>\n",
              "    <tr>\n",
              "      <th>1</th>\n",
              "      <td>RandomForest</td>\n",
              "      <td>0.989344</td>\n",
              "      <td>0.989344</td>\n",
              "      <td>0.989401</td>\n",
              "      <td>0.989348</td>\n",
              "      <td>0.324427</td>\n",
              "      <td>0.324427</td>\n",
              "      <td>0.318805</td>\n",
              "      <td>0.318012</td>\n",
              "    </tr>\n",
              "    <tr>\n",
              "      <th>2</th>\n",
              "      <td>Adaboost</td>\n",
              "      <td>0.364754</td>\n",
              "      <td>0.364754</td>\n",
              "      <td>0.362941</td>\n",
              "      <td>0.351428</td>\n",
              "      <td>0.265267</td>\n",
              "      <td>0.265267</td>\n",
              "      <td>0.247455</td>\n",
              "      <td>0.245970</td>\n",
              "    </tr>\n",
              "    <tr>\n",
              "      <th>3</th>\n",
              "      <td>GBM</td>\n",
              "      <td>0.746721</td>\n",
              "      <td>0.746721</td>\n",
              "      <td>0.762595</td>\n",
              "      <td>0.745852</td>\n",
              "      <td>0.309160</td>\n",
              "      <td>0.309160</td>\n",
              "      <td>0.297350</td>\n",
              "      <td>0.299985</td>\n",
              "    </tr>\n",
              "    <tr>\n",
              "      <th>4</th>\n",
              "      <td>SVM</td>\n",
              "      <td>0.281967</td>\n",
              "      <td>0.281967</td>\n",
              "      <td>0.254090</td>\n",
              "      <td>0.241563</td>\n",
              "      <td>0.263359</td>\n",
              "      <td>0.263359</td>\n",
              "      <td>0.216670</td>\n",
              "      <td>0.225470</td>\n",
              "    </tr>\n",
              "    <tr>\n",
              "      <th>5</th>\n",
              "      <td>KNN</td>\n",
              "      <td>0.462295</td>\n",
              "      <td>0.462295</td>\n",
              "      <td>0.467287</td>\n",
              "      <td>0.463369</td>\n",
              "      <td>0.253817</td>\n",
              "      <td>0.253817</td>\n",
              "      <td>0.253799</td>\n",
              "      <td>0.253114</td>\n",
              "    </tr>\n",
              "  </tbody>\n",
              "</table>\n",
              "</div>\n",
              "      <button class=\"colab-df-convert\" onclick=\"convertToInteractive('df-47e817f9-eef7-4755-a6a9-3461e9ca8351')\"\n",
              "              title=\"Convert this dataframe to an interactive table.\"\n",
              "              style=\"display:none;\">\n",
              "        \n",
              "  <svg xmlns=\"http://www.w3.org/2000/svg\" height=\"24px\"viewBox=\"0 0 24 24\"\n",
              "       width=\"24px\">\n",
              "    <path d=\"M0 0h24v24H0V0z\" fill=\"none\"/>\n",
              "    <path d=\"M18.56 5.44l.94 2.06.94-2.06 2.06-.94-2.06-.94-.94-2.06-.94 2.06-2.06.94zm-11 1L8.5 8.5l.94-2.06 2.06-.94-2.06-.94L8.5 2.5l-.94 2.06-2.06.94zm10 10l.94 2.06.94-2.06 2.06-.94-2.06-.94-.94-2.06-.94 2.06-2.06.94z\"/><path d=\"M17.41 7.96l-1.37-1.37c-.4-.4-.92-.59-1.43-.59-.52 0-1.04.2-1.43.59L10.3 9.45l-7.72 7.72c-.78.78-.78 2.05 0 2.83L4 21.41c.39.39.9.59 1.41.59.51 0 1.02-.2 1.41-.59l7.78-7.78 2.81-2.81c.8-.78.8-2.07 0-2.86zM5.41 20L4 18.59l7.72-7.72 1.47 1.35L5.41 20z\"/>\n",
              "  </svg>\n",
              "      </button>\n",
              "      \n",
              "  <style>\n",
              "    .colab-df-container {\n",
              "      display:flex;\n",
              "      flex-wrap:wrap;\n",
              "      gap: 12px;\n",
              "    }\n",
              "\n",
              "    .colab-df-convert {\n",
              "      background-color: #E8F0FE;\n",
              "      border: none;\n",
              "      border-radius: 50%;\n",
              "      cursor: pointer;\n",
              "      display: none;\n",
              "      fill: #1967D2;\n",
              "      height: 32px;\n",
              "      padding: 0 0 0 0;\n",
              "      width: 32px;\n",
              "    }\n",
              "\n",
              "    .colab-df-convert:hover {\n",
              "      background-color: #E2EBFA;\n",
              "      box-shadow: 0px 1px 2px rgba(60, 64, 67, 0.3), 0px 1px 3px 1px rgba(60, 64, 67, 0.15);\n",
              "      fill: #174EA6;\n",
              "    }\n",
              "\n",
              "    [theme=dark] .colab-df-convert {\n",
              "      background-color: #3B4455;\n",
              "      fill: #D2E3FC;\n",
              "    }\n",
              "\n",
              "    [theme=dark] .colab-df-convert:hover {\n",
              "      background-color: #434B5C;\n",
              "      box-shadow: 0px 1px 3px 1px rgba(0, 0, 0, 0.15);\n",
              "      filter: drop-shadow(0px 1px 2px rgba(0, 0, 0, 0.3));\n",
              "      fill: #FFFFFF;\n",
              "    }\n",
              "  </style>\n",
              "\n",
              "      <script>\n",
              "        const buttonEl =\n",
              "          document.querySelector('#df-47e817f9-eef7-4755-a6a9-3461e9ca8351 button.colab-df-convert');\n",
              "        buttonEl.style.display =\n",
              "          google.colab.kernel.accessAllowed ? 'block' : 'none';\n",
              "\n",
              "        async function convertToInteractive(key) {\n",
              "          const element = document.querySelector('#df-47e817f9-eef7-4755-a6a9-3461e9ca8351');\n",
              "          const dataTable =\n",
              "            await google.colab.kernel.invokeFunction('convertToInteractive',\n",
              "                                                     [key], {});\n",
              "          if (!dataTable) return;\n",
              "\n",
              "          const docLinkHtml = 'Like what you see? Visit the ' +\n",
              "            '<a target=\"_blank\" href=https://colab.research.google.com/notebooks/data_table.ipynb>data table notebook</a>'\n",
              "            + ' to learn more about interactive tables.';\n",
              "          element.innerHTML = '';\n",
              "          dataTable['output_type'] = 'display_data';\n",
              "          await google.colab.output.renderOutput(dataTable, element);\n",
              "          const docLink = document.createElement('div');\n",
              "          docLink.innerHTML = docLinkHtml;\n",
              "          element.appendChild(docLink);\n",
              "        }\n",
              "      </script>\n",
              "    </div>\n",
              "  </div>\n",
              "  "
            ],
            "text/plain": [
              "           Model  Train_Accuracy  Train_Recall  Train_Precision  \\\n",
              "0  DecisionTrees        0.399180      0.399180         0.460275   \n",
              "1   RandomForest        0.989344      0.989344         0.989401   \n",
              "2       Adaboost        0.364754      0.364754         0.362941   \n",
              "3            GBM        0.746721      0.746721         0.762595   \n",
              "4            SVM        0.281967      0.281967         0.254090   \n",
              "5            KNN        0.462295      0.462295         0.467287   \n",
              "\n",
              "   Train_F1_Score  Test_Accuracy  Test_Recall  Test_Precision  Test_F1_Score  \n",
              "0        0.370432       0.265267     0.265267        0.240582       0.225947  \n",
              "1        0.989348       0.324427     0.324427        0.318805       0.318012  \n",
              "2        0.351428       0.265267     0.265267        0.247455       0.245970  \n",
              "3        0.745852       0.309160     0.309160        0.297350       0.299985  \n",
              "4        0.241563       0.263359     0.263359        0.216670       0.225470  \n",
              "5        0.463369       0.253817     0.253817        0.253799       0.253114  "
            ]
          },
          "execution_count": 106,
          "metadata": {},
          "output_type": "execute_result"
        }
      ],
      "source": [
        "scores = get_metrics(y_train, y_pred_train5, y_test, y_pred_test5, \"KNN\", scores)\n",
        "scores"
      ]
    },
    {
      "cell_type": "markdown",
      "metadata": {
        "id": "uTP5QdV1dPLc"
      },
      "source": [
        "**GNB**"
      ]
    },
    {
      "cell_type": "code",
      "execution_count": null,
      "metadata": {
        "id": "cf70yLPFdMCm"
      },
      "outputs": [],
      "source": [
        "from sklearn.naive_bayes import GaussianNB\n",
        "nb = GaussianNB()"
      ]
    },
    {
      "cell_type": "code",
      "execution_count": null,
      "metadata": {
        "colab": {
          "base_uri": "https://localhost:8080/",
          "height": 74
        },
        "id": "T_P82tUDdSCd",
        "outputId": "eb103e85-f336-45ea-d18c-a7ff9a0e9b43"
      },
      "outputs": [
        {
          "data": {
            "text/html": [
              "<style>#sk-container-id-8 {color: black;background-color: white;}#sk-container-id-8 pre{padding: 0;}#sk-container-id-8 div.sk-toggleable {background-color: white;}#sk-container-id-8 label.sk-toggleable__label {cursor: pointer;display: block;width: 100%;margin-bottom: 0;padding: 0.3em;box-sizing: border-box;text-align: center;}#sk-container-id-8 label.sk-toggleable__label-arrow:before {content: \"▸\";float: left;margin-right: 0.25em;color: #696969;}#sk-container-id-8 label.sk-toggleable__label-arrow:hover:before {color: black;}#sk-container-id-8 div.sk-estimator:hover label.sk-toggleable__label-arrow:before {color: black;}#sk-container-id-8 div.sk-toggleable__content {max-height: 0;max-width: 0;overflow: hidden;text-align: left;background-color: #f0f8ff;}#sk-container-id-8 div.sk-toggleable__content pre {margin: 0.2em;color: black;border-radius: 0.25em;background-color: #f0f8ff;}#sk-container-id-8 input.sk-toggleable__control:checked~div.sk-toggleable__content {max-height: 200px;max-width: 100%;overflow: auto;}#sk-container-id-8 input.sk-toggleable__control:checked~label.sk-toggleable__label-arrow:before {content: \"▾\";}#sk-container-id-8 div.sk-estimator input.sk-toggleable__control:checked~label.sk-toggleable__label {background-color: #d4ebff;}#sk-container-id-8 div.sk-label input.sk-toggleable__control:checked~label.sk-toggleable__label {background-color: #d4ebff;}#sk-container-id-8 input.sk-hidden--visually {border: 0;clip: rect(1px 1px 1px 1px);clip: rect(1px, 1px, 1px, 1px);height: 1px;margin: -1px;overflow: hidden;padding: 0;position: absolute;width: 1px;}#sk-container-id-8 div.sk-estimator {font-family: monospace;background-color: #f0f8ff;border: 1px dotted black;border-radius: 0.25em;box-sizing: border-box;margin-bottom: 0.5em;}#sk-container-id-8 div.sk-estimator:hover {background-color: #d4ebff;}#sk-container-id-8 div.sk-parallel-item::after {content: \"\";width: 100%;border-bottom: 1px solid gray;flex-grow: 1;}#sk-container-id-8 div.sk-label:hover label.sk-toggleable__label {background-color: #d4ebff;}#sk-container-id-8 div.sk-serial::before {content: \"\";position: absolute;border-left: 1px solid gray;box-sizing: border-box;top: 0;bottom: 0;left: 50%;z-index: 0;}#sk-container-id-8 div.sk-serial {display: flex;flex-direction: column;align-items: center;background-color: white;padding-right: 0.2em;padding-left: 0.2em;position: relative;}#sk-container-id-8 div.sk-item {position: relative;z-index: 1;}#sk-container-id-8 div.sk-parallel {display: flex;align-items: stretch;justify-content: center;background-color: white;position: relative;}#sk-container-id-8 div.sk-item::before, #sk-container-id-8 div.sk-parallel-item::before {content: \"\";position: absolute;border-left: 1px solid gray;box-sizing: border-box;top: 0;bottom: 0;left: 50%;z-index: -1;}#sk-container-id-8 div.sk-parallel-item {display: flex;flex-direction: column;z-index: 1;position: relative;background-color: white;}#sk-container-id-8 div.sk-parallel-item:first-child::after {align-self: flex-end;width: 50%;}#sk-container-id-8 div.sk-parallel-item:last-child::after {align-self: flex-start;width: 50%;}#sk-container-id-8 div.sk-parallel-item:only-child::after {width: 0;}#sk-container-id-8 div.sk-dashed-wrapped {border: 1px dashed gray;margin: 0 0.4em 0.5em 0.4em;box-sizing: border-box;padding-bottom: 0.4em;background-color: white;}#sk-container-id-8 div.sk-label label {font-family: monospace;font-weight: bold;display: inline-block;line-height: 1.2em;}#sk-container-id-8 div.sk-label-container {text-align: center;}#sk-container-id-8 div.sk-container {/* jupyter's `normalize.less` sets `[hidden] { display: none; }` but bootstrap.min.css set `[hidden] { display: none !important; }` so we also need the `!important` here to be able to override the default hidden behavior on the sphinx rendered scikit-learn.org. See: https://github.com/scikit-learn/scikit-learn/issues/21755 */display: inline-block !important;position: relative;}#sk-container-id-8 div.sk-text-repr-fallback {display: none;}</style><div id=\"sk-container-id-8\" class=\"sk-top-container\"><div class=\"sk-text-repr-fallback\"><pre>GaussianNB()</pre><b>In a Jupyter environment, please rerun this cell to show the HTML representation or trust the notebook. <br />On GitHub, the HTML representation is unable to render, please try loading this page with nbviewer.org.</b></div><div class=\"sk-container\" hidden><div class=\"sk-item\"><div class=\"sk-estimator sk-toggleable\"><input class=\"sk-toggleable__control sk-hidden--visually\" id=\"sk-estimator-id-8\" type=\"checkbox\" checked><label for=\"sk-estimator-id-8\" class=\"sk-toggleable__label sk-toggleable__label-arrow\">GaussianNB</label><div class=\"sk-toggleable__content\"><pre>GaussianNB()</pre></div></div></div></div></div>"
            ],
            "text/plain": [
              "GaussianNB()"
            ]
          },
          "execution_count": 108,
          "metadata": {},
          "output_type": "execute_result"
        }
      ],
      "source": [
        "nb.fit(X=X_train_std, y=y_train)"
      ]
    },
    {
      "cell_type": "code",
      "execution_count": null,
      "metadata": {
        "id": "uilrUWchdT6j"
      },
      "outputs": [],
      "source": [
        "y_pred_train6 = nb.predict(X_train_std)\n",
        "y_pred_test6 = nb.predict(X_test_std)"
      ]
    },
    {
      "cell_type": "code",
      "execution_count": null,
      "metadata": {
        "colab": {
          "base_uri": "https://localhost:8080/"
        },
        "id": "8ddIpk6PdWbQ",
        "outputId": "6eff4ebc-8aaf-4298-9d4e-a0b4f734d851"
      },
      "outputs": [
        {
          "name": "stdout",
          "output_type": "stream",
          "text": [
            "\n",
            "            =========================================\n",
            "               CLASSIFICATION REPORT FOR TRAIN DATA\n",
            "            =========================================\n",
            "            \n",
            "              precision    recall  f1-score   support\n",
            "\n",
            "           1     0.3333    0.0331    0.0602       121\n",
            "           2     0.2754    0.2375    0.2550       240\n",
            "           3     0.2000    0.0148    0.0275       271\n",
            "           4     0.2523    0.6950    0.3702       282\n",
            "           5     0.3235    0.2157    0.2588       306\n",
            "\n",
            "    accuracy                         0.2680      1220\n",
            "   macro avg     0.2769    0.2392    0.1943      1220\n",
            "weighted avg     0.2711    0.2680    0.2127      1220\n",
            "\n",
            "\n",
            "            =========================================\n",
            "               CLASSIFICATION REPORT FOR TEST DATA\n",
            "            =========================================\n",
            "            \n",
            "              precision    recall  f1-score   support\n",
            "\n",
            "           1     0.0000    0.0000    0.0000        57\n",
            "           2     0.2178    0.2200    0.2189       100\n",
            "           3     0.1667    0.0083    0.0157       121\n",
            "           4     0.2448    0.7069    0.3636       116\n",
            "           5     0.3766    0.2231    0.2802       130\n",
            "\n",
            "    accuracy                         0.2557       524\n",
            "   macro avg     0.2012    0.2316    0.1757       524\n",
            "weighted avg     0.2277    0.2557    0.1954       524\n",
            "\n"
          ]
        }
      ],
      "source": [
        "classifcation_report_train_test(y_train, y_pred_train6, y_test, y_pred_test6)"
      ]
    },
    {
      "cell_type": "code",
      "execution_count": null,
      "metadata": {
        "colab": {
          "base_uri": "https://localhost:8080/",
          "height": 269
        },
        "id": "J-qiJ97GdYmd",
        "outputId": "dea5d437-6b1a-4198-ba16-e9c7b67f5f46"
      },
      "outputs": [
        {
          "data": {
            "text/html": [
              "\n",
              "  <div id=\"df-68af4608-2636-4c40-8f47-b80b419904f4\">\n",
              "    <div class=\"colab-df-container\">\n",
              "      <div>\n",
              "<style scoped>\n",
              "    .dataframe tbody tr th:only-of-type {\n",
              "        vertical-align: middle;\n",
              "    }\n",
              "\n",
              "    .dataframe tbody tr th {\n",
              "        vertical-align: top;\n",
              "    }\n",
              "\n",
              "    .dataframe thead th {\n",
              "        text-align: right;\n",
              "    }\n",
              "</style>\n",
              "<table border=\"1\" class=\"dataframe\">\n",
              "  <thead>\n",
              "    <tr style=\"text-align: right;\">\n",
              "      <th></th>\n",
              "      <th>Model</th>\n",
              "      <th>Train_Accuracy</th>\n",
              "      <th>Train_Recall</th>\n",
              "      <th>Train_Precision</th>\n",
              "      <th>Train_F1_Score</th>\n",
              "      <th>Test_Accuracy</th>\n",
              "      <th>Test_Recall</th>\n",
              "      <th>Test_Precision</th>\n",
              "      <th>Test_F1_Score</th>\n",
              "    </tr>\n",
              "  </thead>\n",
              "  <tbody>\n",
              "    <tr>\n",
              "      <th>0</th>\n",
              "      <td>DecisionTrees</td>\n",
              "      <td>0.399180</td>\n",
              "      <td>0.399180</td>\n",
              "      <td>0.460275</td>\n",
              "      <td>0.370432</td>\n",
              "      <td>0.265267</td>\n",
              "      <td>0.265267</td>\n",
              "      <td>0.240582</td>\n",
              "      <td>0.225947</td>\n",
              "    </tr>\n",
              "    <tr>\n",
              "      <th>1</th>\n",
              "      <td>RandomForest</td>\n",
              "      <td>0.989344</td>\n",
              "      <td>0.989344</td>\n",
              "      <td>0.989401</td>\n",
              "      <td>0.989348</td>\n",
              "      <td>0.324427</td>\n",
              "      <td>0.324427</td>\n",
              "      <td>0.318805</td>\n",
              "      <td>0.318012</td>\n",
              "    </tr>\n",
              "    <tr>\n",
              "      <th>2</th>\n",
              "      <td>Adaboost</td>\n",
              "      <td>0.364754</td>\n",
              "      <td>0.364754</td>\n",
              "      <td>0.362941</td>\n",
              "      <td>0.351428</td>\n",
              "      <td>0.265267</td>\n",
              "      <td>0.265267</td>\n",
              "      <td>0.247455</td>\n",
              "      <td>0.245970</td>\n",
              "    </tr>\n",
              "    <tr>\n",
              "      <th>3</th>\n",
              "      <td>GBM</td>\n",
              "      <td>0.746721</td>\n",
              "      <td>0.746721</td>\n",
              "      <td>0.762595</td>\n",
              "      <td>0.745852</td>\n",
              "      <td>0.309160</td>\n",
              "      <td>0.309160</td>\n",
              "      <td>0.297350</td>\n",
              "      <td>0.299985</td>\n",
              "    </tr>\n",
              "    <tr>\n",
              "      <th>4</th>\n",
              "      <td>SVM</td>\n",
              "      <td>0.281967</td>\n",
              "      <td>0.281967</td>\n",
              "      <td>0.254090</td>\n",
              "      <td>0.241563</td>\n",
              "      <td>0.263359</td>\n",
              "      <td>0.263359</td>\n",
              "      <td>0.216670</td>\n",
              "      <td>0.225470</td>\n",
              "    </tr>\n",
              "    <tr>\n",
              "      <th>5</th>\n",
              "      <td>KNN</td>\n",
              "      <td>0.462295</td>\n",
              "      <td>0.462295</td>\n",
              "      <td>0.467287</td>\n",
              "      <td>0.463369</td>\n",
              "      <td>0.253817</td>\n",
              "      <td>0.253817</td>\n",
              "      <td>0.253799</td>\n",
              "      <td>0.253114</td>\n",
              "    </tr>\n",
              "    <tr>\n",
              "      <th>6</th>\n",
              "      <td>GNB</td>\n",
              "      <td>0.268033</td>\n",
              "      <td>0.268033</td>\n",
              "      <td>0.271111</td>\n",
              "      <td>0.212723</td>\n",
              "      <td>0.255725</td>\n",
              "      <td>0.255725</td>\n",
              "      <td>0.227679</td>\n",
              "      <td>0.195426</td>\n",
              "    </tr>\n",
              "  </tbody>\n",
              "</table>\n",
              "</div>\n",
              "      <button class=\"colab-df-convert\" onclick=\"convertToInteractive('df-68af4608-2636-4c40-8f47-b80b419904f4')\"\n",
              "              title=\"Convert this dataframe to an interactive table.\"\n",
              "              style=\"display:none;\">\n",
              "        \n",
              "  <svg xmlns=\"http://www.w3.org/2000/svg\" height=\"24px\"viewBox=\"0 0 24 24\"\n",
              "       width=\"24px\">\n",
              "    <path d=\"M0 0h24v24H0V0z\" fill=\"none\"/>\n",
              "    <path d=\"M18.56 5.44l.94 2.06.94-2.06 2.06-.94-2.06-.94-.94-2.06-.94 2.06-2.06.94zm-11 1L8.5 8.5l.94-2.06 2.06-.94-2.06-.94L8.5 2.5l-.94 2.06-2.06.94zm10 10l.94 2.06.94-2.06 2.06-.94-2.06-.94-.94-2.06-.94 2.06-2.06.94z\"/><path d=\"M17.41 7.96l-1.37-1.37c-.4-.4-.92-.59-1.43-.59-.52 0-1.04.2-1.43.59L10.3 9.45l-7.72 7.72c-.78.78-.78 2.05 0 2.83L4 21.41c.39.39.9.59 1.41.59.51 0 1.02-.2 1.41-.59l7.78-7.78 2.81-2.81c.8-.78.8-2.07 0-2.86zM5.41 20L4 18.59l7.72-7.72 1.47 1.35L5.41 20z\"/>\n",
              "  </svg>\n",
              "      </button>\n",
              "      \n",
              "  <style>\n",
              "    .colab-df-container {\n",
              "      display:flex;\n",
              "      flex-wrap:wrap;\n",
              "      gap: 12px;\n",
              "    }\n",
              "\n",
              "    .colab-df-convert {\n",
              "      background-color: #E8F0FE;\n",
              "      border: none;\n",
              "      border-radius: 50%;\n",
              "      cursor: pointer;\n",
              "      display: none;\n",
              "      fill: #1967D2;\n",
              "      height: 32px;\n",
              "      padding: 0 0 0 0;\n",
              "      width: 32px;\n",
              "    }\n",
              "\n",
              "    .colab-df-convert:hover {\n",
              "      background-color: #E2EBFA;\n",
              "      box-shadow: 0px 1px 2px rgba(60, 64, 67, 0.3), 0px 1px 3px 1px rgba(60, 64, 67, 0.15);\n",
              "      fill: #174EA6;\n",
              "    }\n",
              "\n",
              "    [theme=dark] .colab-df-convert {\n",
              "      background-color: #3B4455;\n",
              "      fill: #D2E3FC;\n",
              "    }\n",
              "\n",
              "    [theme=dark] .colab-df-convert:hover {\n",
              "      background-color: #434B5C;\n",
              "      box-shadow: 0px 1px 3px 1px rgba(0, 0, 0, 0.15);\n",
              "      filter: drop-shadow(0px 1px 2px rgba(0, 0, 0, 0.3));\n",
              "      fill: #FFFFFF;\n",
              "    }\n",
              "  </style>\n",
              "\n",
              "      <script>\n",
              "        const buttonEl =\n",
              "          document.querySelector('#df-68af4608-2636-4c40-8f47-b80b419904f4 button.colab-df-convert');\n",
              "        buttonEl.style.display =\n",
              "          google.colab.kernel.accessAllowed ? 'block' : 'none';\n",
              "\n",
              "        async function convertToInteractive(key) {\n",
              "          const element = document.querySelector('#df-68af4608-2636-4c40-8f47-b80b419904f4');\n",
              "          const dataTable =\n",
              "            await google.colab.kernel.invokeFunction('convertToInteractive',\n",
              "                                                     [key], {});\n",
              "          if (!dataTable) return;\n",
              "\n",
              "          const docLinkHtml = 'Like what you see? Visit the ' +\n",
              "            '<a target=\"_blank\" href=https://colab.research.google.com/notebooks/data_table.ipynb>data table notebook</a>'\n",
              "            + ' to learn more about interactive tables.';\n",
              "          element.innerHTML = '';\n",
              "          dataTable['output_type'] = 'display_data';\n",
              "          await google.colab.output.renderOutput(dataTable, element);\n",
              "          const docLink = document.createElement('div');\n",
              "          docLink.innerHTML = docLinkHtml;\n",
              "          element.appendChild(docLink);\n",
              "        }\n",
              "      </script>\n",
              "    </div>\n",
              "  </div>\n",
              "  "
            ],
            "text/plain": [
              "           Model  Train_Accuracy  Train_Recall  Train_Precision  \\\n",
              "0  DecisionTrees        0.399180      0.399180         0.460275   \n",
              "1   RandomForest        0.989344      0.989344         0.989401   \n",
              "2       Adaboost        0.364754      0.364754         0.362941   \n",
              "3            GBM        0.746721      0.746721         0.762595   \n",
              "4            SVM        0.281967      0.281967         0.254090   \n",
              "5            KNN        0.462295      0.462295         0.467287   \n",
              "6            GNB        0.268033      0.268033         0.271111   \n",
              "\n",
              "   Train_F1_Score  Test_Accuracy  Test_Recall  Test_Precision  Test_F1_Score  \n",
              "0        0.370432       0.265267     0.265267        0.240582       0.225947  \n",
              "1        0.989348       0.324427     0.324427        0.318805       0.318012  \n",
              "2        0.351428       0.265267     0.265267        0.247455       0.245970  \n",
              "3        0.745852       0.309160     0.309160        0.297350       0.299985  \n",
              "4        0.241563       0.263359     0.263359        0.216670       0.225470  \n",
              "5        0.463369       0.253817     0.253817        0.253799       0.253114  \n",
              "6        0.212723       0.255725     0.255725        0.227679       0.195426  "
            ]
          },
          "execution_count": 111,
          "metadata": {},
          "output_type": "execute_result"
        }
      ],
      "source": [
        "scores = get_metrics(y_train, y_pred_train6, y_test, y_pred_test6, \"GNB\", scores) \n",
        "scores"
      ]
    },
    {
      "cell_type": "code",
      "execution_count": 63,
      "metadata": {
        "id": "Mr81YkBgdbTZ"
      },
      "outputs": [],
      "source": [
        "import scipy.stats as stats\n",
        "\n",
        "from statsmodels.miscmodels.ordinal_model import OrderedModel"
      ]
    },
    {
      "cell_type": "markdown",
      "source": [
        "Probit ordinal regression:"
      ],
      "metadata": {
        "id": "dWXGRSeAPYA1"
      }
    },
    {
      "cell_type": "code",
      "source": [
        "mod_prob = OrderedModel(df_liststring['Level '],\n",
        "                        df_liststring[['sent_sum', 'word_sum', 'word_count', 'syllables', 'poly_syllables', 'GF', 'FK', 'SMOG', 'AR', 'CL']],\n",
        "                        distr='probit')\n",
        "\n",
        "res_prob = mod_prob.fit(method='bfgs')\n",
        "res_prob.summary()"
      ],
      "metadata": {
        "id": "dfvzBYxWmYQ5"
      },
      "execution_count": null,
      "outputs": []
    },
    {
      "cell_type": "code",
      "source": [],
      "metadata": {
        "id": "ImXD0I7LQNNN"
      },
      "execution_count": null,
      "outputs": []
    }
  ],
  "metadata": {
    "colab": {
      "provenance": []
    },
    "kernelspec": {
      "display_name": "Python 3",
      "name": "python3"
    },
    "language_info": {
      "name": "python"
    }
  },
  "nbformat": 4,
  "nbformat_minor": 0
}